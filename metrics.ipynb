{
 "cells": [
  {
   "cell_type": "code",
   "execution_count": null,
   "metadata": {},
   "outputs": [],
   "source": [
    "%run parsing.ipynb\n",
    "import networkx as nx\n",
    "import matplotlib.pyplot as plt"
   ]
  },
  {
   "cell_type": "code",
   "execution_count": null,
   "metadata": {},
   "outputs": [],
   "source": [
    "# https://networkx.github.io/documentation/latest/tutorial.html#edges\n",
    "class WeightGraph:\n",
    "    def __init__(self):\n",
    "        self.g = nx.Graph()\n",
    "        \n",
    "    def add(self, a, b, delta):\n",
    "        self.g.add_node(a)\n",
    "        self.g.add_node(b)\n",
    "        new_value = self.get(a, b) + delta\n",
    "        self.g.add_edge(a, b, weight=new_value)\n",
    "        \n",
    "    def get(self, a, b):\n",
    "        if b in self.g.adj[a]:\n",
    "            return self.g.adj[a][b][\"weight\"]\n",
    "        return 0"
   ]
  },
  {
   "cell_type": "code",
   "execution_count": null,
   "metadata": {},
   "outputs": [],
   "source": [
    "class RepoFile:\n",
    "    def __init__(self, repo, path):\n",
    "        self.repo = repo\n",
    "        self.path = path\n",
    "        self.content = None\n",
    "        self.tree = None\n",
    "    \n",
    "    def get_content(self):\n",
    "        if self.content is None:\n",
    "            self.content = self.repo.get_file_content(self.path)\n",
    "        return self.content\n",
    "    \n",
    "    def get_tree(self):\n",
    "        if self.tree is None:\n",
    "            self.tree = java_parser.parse(self.get_content())\n",
    "        return self.tree\n",
    "    \n",
    "    def node_text(self, node):\n",
    "        return self.content[node.start_byte:node.end_byte].decode(\"utf-8\")\n",
    "    \n",
    "    def walk_tree(self, node_handler):\n",
    "        \"\"\" node_handler gets the current logic-path and node for each ast node\"\"\"\n",
    "        self.walk_tree_cursor(self.get_tree().walk(), self.path, node_handler)\n",
    "    \n",
    "    def walk_tree_cursor(self, cursor, prefix, node_handler):\n",
    "        if not cursor.node.is_named:\n",
    "            return\n",
    "        node_handler(prefix, cursor.node)\n",
    "        # cursor.current_field_name() is the role that this node has in its parent\n",
    "        tree_node_name = None\n",
    "        if cursor.node.type == \"class_declaration\":\n",
    "            idfield = cursor.node.child_by_field_name(\"name\")\n",
    "            tree_node_name = self.node_text(idfield)\n",
    "        elif cursor.node.type == \"field_declaration\":\n",
    "            idfield = cursor.node.child_by_field_name(\"declarator\").child_by_field_name(\"name\")\n",
    "            tree_node_name = self.node_text(idfield)\n",
    "        elif cursor.node.type == \"method_declaration\":\n",
    "            idfield = cursor.node.child_by_field_name(\"name\")\n",
    "            tree_node_name = self.node_text(idfield)\n",
    "\n",
    "        if tree_node_name is not None:\n",
    "            prefix = prefix + \"/\" + tree_node_name\n",
    "            # found_nodes.register(prefix)\n",
    "\n",
    "        if cursor.goto_first_child():\n",
    "            self.walk_tree_cursor(cursor, prefix, node_handler)\n",
    "            while cursor.goto_next_sibling():\n",
    "                self.walk_tree_cursor(cursor, prefix, node_handler)\n",
    "            cursor.goto_parent()\n"
   ]
  }
 ],
 "metadata": {
  "kernelspec": {
   "display_name": "Python 3",
   "language": "python",
   "name": "python3"
  },
  "language_info": {
   "codemirror_mode": {
    "name": "ipython",
    "version": 3
   },
   "file_extension": ".py",
   "mimetype": "text/x-python",
   "name": "python",
   "nbconvert_exporter": "python",
   "pygments_lexer": "ipython3",
   "version": "3.8.1"
  }
 },
 "nbformat": 4,
 "nbformat_minor": 4
}
