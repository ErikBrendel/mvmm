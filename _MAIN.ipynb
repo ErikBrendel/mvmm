{
 "cells": [
  {
   "cell_type": "code",
   "execution_count": 1,
   "metadata": {},
   "outputs": [],
   "source": [
    "%matplotlib inline\n",
    "%run LocalRepo.ipynb\n",
    "%run repos.ipynb\n",
    "%run parsing.ipynb\n",
    "%run metrics.ipynb"
   ]
  },
  {
   "cell_type": "code",
   "execution_count": 2,
   "metadata": {},
   "outputs": [
    {
     "data": {
      "text/plain": [
       "['jenkinsci/jenkins']"
      ]
     },
     "execution_count": 2,
     "metadata": {},
     "output_type": "execute_result"
    }
   ],
   "source": [
    "repos"
   ]
  },
  {
   "cell_type": "code",
   "execution_count": 3,
   "metadata": {},
   "outputs": [],
   "source": [
    "import_query = JA_LANGUAGE.query(\"(import_declaration (scoped_identifier) @decl )\")\n",
    "def import_node_to_list(node):\n",
    "    if node.type == \"scoped_identifier\":\n",
    "        list = import_node_to_list"
   ]
  },
  {
   "cell_type": "code",
   "execution_count": 4,
   "metadata": {},
   "outputs": [
    {
     "name": "stdout",
     "output_type": "stream",
     "text": [
      "updating jenkinsci/jenkins...\n",
      "Done!\n",
      "Extracting words...\n",
      "Found words: 7062\n",
      "Creating vectorizer...\n",
      "Training LDA...\n",
      "Generating result output...\n",
      "Topic #0: inc validator registry limit domain service ltd tld valid code\n",
      "Topic #1: map fingerprint xml list util name converter stream load range\n",
      "Topic #2: build project run action queue listener item task job scm\n",
      "Topic #3: stream exception output java key input secret write channel link\n",
      "Topic #4: exception mock org protocol handler mockito java proxy jenkins socket\n",
      "Topic #5: test org rule equal jenkins junit jvnet parameter foo issue\n",
      "Topic #6: descriptor list extension stapler object method link property extend provider\n",
      "Topic #7: user security jenkins realm property exception request servlet org crumb\n",
      "Topic #8: log logger exception time java util thread event level task\n",
      "Topic #9: update plugin jenkins version site json url install file job\n",
      "Topic #10: text annotate calendar console cron tab test markup check exception\n",
      "Topic #11: list name java util env filter map resource variable non\n",
      "Topic #12: token url response web page request http api exception stapler\n",
      "Topic #13: node computer slave label executor offline cause jenkins agent link\n",
      "Topic #14: entry process size icon category history read data tar color\n",
      "Topic #15: result project command cli jenkins free read style contain create\n",
      "Topic #16: name view item permission job link list jenkins value stapler\n",
      "Topic #17: html element monitor button click input form system milestone select\n",
      "Topic #18: plugin disable wrapper dependency plugins manager jenkins strategy name dependent\n",
      "Topic #19: file path exception dir root directory folder child java org\n",
      "\n",
      "Everything up to date!\n"
     ]
    }
   ],
   "source": [
    "for repo in repos:\n",
    "    r = LocalRepo(repo)\n",
    "    r.update()\n",
    "    \n",
    "    # structural = MetricsGeneration(r).calculate_structural_connections(r)\n",
    "    ling = MetricsGeneration(r).calculate_linguistic_connections()\n",
    "    continue\n",
    "    \n",
    "    found_nodes = RepoTree(\"\")\n",
    "    files = r.get_file_objects()\n",
    "    print(\"Analyzing \" + str(len(files)) + \" files...\")\n",
    "    for file_obj in files:\n",
    "        file = RepoFile(r, file_obj)\n",
    "        imports = import_query.captures(file.get_tree().root_node)\n",
    "        for import_statement in imports:\n",
    "            print(file.node_text(import_statement[0]).split(\".\"))\n",
    "        print(\"-\")\n",
    "        def handle(logic_path, node):\n",
    "            found_nodes.register(logic_path)\n",
    "        file.walk_tree(handle)\n",
    "    \n",
    "    print(\"Found \" + str(found_nodes.node_count()) + \" classes, methods and fields!\")\n",
    "    \n",
    "    with open(\"../debug-tree.json\", \"w\") as outfile:\n",
    "        outfile.write(found_nodes.to_json())\n",
    "print(\"Everything up to date!\")"
   ]
  },
  {
   "cell_type": "code",
   "execution_count": null,
   "metadata": {},
   "outputs": [],
   "source": []
  }
 ],
 "metadata": {
  "kernelspec": {
   "display_name": "Python 3",
   "language": "python",
   "name": "python3"
  },
  "language_info": {
   "codemirror_mode": {
    "name": "ipython",
    "version": 3
   },
   "file_extension": ".py",
   "mimetype": "text/x-python",
   "name": "python",
   "nbconvert_exporter": "python",
   "pygments_lexer": "ipython3",
   "version": "3.8.1"
  }
 },
 "nbformat": 4,
 "nbformat_minor": 4
}
