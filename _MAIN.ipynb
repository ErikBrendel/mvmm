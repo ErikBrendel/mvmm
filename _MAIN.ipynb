{
 "cells": [
  {
   "cell_type": "code",
   "execution_count": 1,
   "metadata": {},
   "outputs": [
    {
     "name": "stdout",
     "output_type": "stream",
     "text": [
      "      _           _   _         __   _           _   _                     \n",
      "  ___| | __ _ ___| |_(_) ___   / /__| | __ _ ___| |_(_) ___ ___  ___  __ _ \n",
      " / _ \\ |/ _` / __| __| |/ __| / / _ \\ |/ _` / __| __| |/ __/ __|/ _ \\/ _` |\n",
      "|  __/ | (_| \\__ \\ |_| | (__ / /  __/ | (_| \\__ \\ |_| | (__\\__ \\  __/ (_| |\n",
      " \\___|_|\\__,_|___/\\__|_|\\___/_/ \\___|_|\\__,_|___/\\__|_|\\___|___/\\___|\\__,_|\n",
      "                                                                           \n",
      "          _     \n",
      " _ __ ___| |__  \n",
      "| '__/ __| '_ \\ \n",
      "| | | (__| | | |\n",
      "|_|  \\___|_| |_|\n",
      "                \n",
      "\n",
      "updating elastic/elasticsearch...\n",
      "Repo is up to date!\n",
      "Analyzing 9787 of 15191 files\n",
      "Skipped 198 test roots: ['test', 'server/src/test', 'buildSrc/src/test', 'client/rest-high-level/src/test', 'docs/src/test', 'buildSrc/src/main/java/org/elasticsearch/gradle/test', 'client/rest/src/test', 'client/test', 'libs/core/src/test', 'libs/dissect/src/test', 'libs/geo/src/test', 'libs/grok/src/test', 'libs/nio/src/test', 'libs/secure-sm/src/test', 'libs/x-content/src/test', 'modules/kibana/src/test', 'modules/lang-painless/src/test', 'modules/percolator/src/test', 'modules/systemd/src/test', 'modules/transport-netty4/src/test', 'qa/ccs-rolling-upgrade-remote-cluster/src/test', 'qa/ccs-unavailable-clusters/src/test', 'qa/evil-tests', 'qa/full-cluster-restart/src/test', 'qa/mixed-cluster/src/test', 'qa/multi-cluster-search/src/test', 'qa/no-bootstrap-tests', 'qa/repository-multi-version/src/test', 'qa/rolling-upgrade/src/test', 'qa/smoke-test', 'qa/unconfigured-node-name/src/test', 'qa/wildfly/src/test', 'rest-api-spec/src/yamlRestTest/java/org/elasticsearch/test', 'x-pack/docs/src/test', 'client/sniffer/src/test', 'distribution/docker/src/test', 'distribution/tools/geoip-cli/src/test', 'distribution/tools/keystore-cli/src/test', 'distribution/tools/plugin-cli/src/test', 'libs/ssl-config/src/test', 'modules/analysis-common/src/test', 'modules/ingest-common/src/test', 'modules/ingest-geoip/src/test', 'modules/ingest-user-agent/src/test', 'modules/lang-expression/src/test', 'modules/lang-mustache/src/test', 'modules/mapper-extras/src/test', 'modules/parent-join/src/test', 'modules/rank-eval/src/test', 'modules/reindex/src/test', 'modules/repository-url/src/test', 'plugins/analysis-icu/src/test', 'plugins/analysis-kuromoji/src/test', 'plugins/analysis-nori/src/test', 'plugins/analysis-phonetic/src/test', 'plugins/analysis-smartcn/src/test', 'plugins/analysis-stempel/src/test', 'plugins/analysis-ukrainian/src/test', 'plugins/discovery-ec2/src/test', 'plugins/discovery-gce/src/test', 'plugins/ingest-attachment/src/test', 'plugins/repository-azure/src/test', 'plugins/repository-gcs/src/test', 'plugins/repository-hdfs/src/test', 'plugins/repository-s3/src/test', 'plugins/store-smb/src/test', 'plugins/transport-nio/src/test', 'qa/logging-config/src/test', 'qa/os/src/test', 'qa/verify-version-constants/src/test', 'x-pack/license-tools/src/test', 'x-pack/plugin/ccr/src/test', 'x-pack/plugin/core/src/test', 'x-pack/plugin/security/src/internalClusterTest/java/org/elasticsearch/test', 'x-pack/plugin/security/src/test', 'x-pack/qa/mixed-tier-cluster/src/test', 'x-pack/qa/multi-cluster-tests', 'x-pack/qa/multi-node/src/test', 'x-pack/qa/openldap-tests', 'x-pack/qa/password-protected-keystore/src/test', 'x-pack/qa/rolling-upgrade-basic/src/test', 'x-pack/qa/rolling-upgrade-multi-cluster/src/test', 'x-pack/qa/rolling-upgrade/src/test', 'x-pack/qa/smoke-test', 'x-pack/qa/src/main/java/org/elasticsearch/xpack/test', 'x-pack/quota-aware-fs/src/test', 'distribution/archives/integ-test', 'distribution/tools/launchers/src/test', 'plugins/examples/custom-settings/src/test', 'plugins/examples/custom-significance-heuristic/src/test', 'plugins/examples/rescore/src/test', 'plugins/mapper-annotated-text/src/test', 'plugins/mapper-murmur3/src/test', 'qa/remote-clusters/src/test', 'x-pack/plugin/analytics/src/test', 'x-pack/plugin/async-search/src/test', 'x-pack/plugin/autoscaling/src/test', 'x-pack/plugin/data-streams/src/test', 'x-pack/plugin/deprecation/src/test', 'x-pack/plugin/enrich/src/test', 'x-pack/plugin/eql/src/test', 'x-pack/plugin/fleet/src/test', 'x-pack/plugin/frozen-indices/src/test', 'x-pack/plugin/graph/src/test', 'x-pack/plugin/identity-provider/src/test', 'x-pack/plugin/ilm/src/test', 'x-pack/plugin/logstash/src/test', 'x-pack/plugin/mapper-unsigned-long/src/test', 'x-pack/plugin/mapper-version/src/test', 'x-pack/plugin/ml/src/test', 'x-pack/plugin/monitoring/src/test', 'x-pack/plugin/repository-encrypted/src/test', 'x-pack/plugin/rollup/src/test', 'x-pack/plugin/search-business-rules/src/test', 'x-pack/plugin/searchable-snapshots/src/test', 'x-pack/plugin/shutdown/src/test', 'x-pack/plugin/spatial/src/test', 'x-pack/plugin/sql/src/test', 'x-pack/plugin/src/test', 'x-pack/plugin/src/yamlRestTest/java/org/elasticsearch/xpack/test', 'x-pack/plugin/stack/src/test', 'x-pack/plugin/transform/src/test', 'x-pack/plugin/vectors/src/test', 'x-pack/plugin/voting-only-node/src/test', 'x-pack/plugin/watcher/src/test', 'x-pack/qa/core-rest-tests', 'x-pack/qa/full-cluster-restart/src/test', 'x-pack/qa/multi-cluster-search-security/src/test', 'x-pack/qa/reindex-tests', 'x-pack/qa/security-example-spi-extension/src/test', 'x-pack/qa/third-party/jira/src/test', 'x-pack/qa/third-party/pagerduty/src/test', 'x-pack/qa/third-party/slack/src/test', 'modules/aggs-matrix-stats/src/test', 'modules/ingest-geoip/qa/file-based-update/src/test', 'x-pack/plugin/graph/src/internalClusterTest/java/org/elasticsearch/xpack/graph/test', 'x-pack/plugin/logstash/src/javaRestTest/java/org/elasticsearch/xpack/test', 'x-pack/plugin/mapper-aggregate-metric/src/test', 'x-pack/plugin/mapper-constant-keyword/src/test', 'x-pack/plugin/ql/src/test', 'x-pack/plugin/ql/test', 'x-pack/plugin/repositories-metering-api/src/test', 'x-pack/plugin/snapshot-repo-test', 'x-pack/plugin/text-structure/src/test', 'x-pack/plugin/watcher/src/internalClusterTest/java/org/elasticsearch/xpack/watcher/test', 'x-pack/plugin/wildcard/src/test', 'x-pack/qa/evil-tests', 'x-pack/qa/runtime-fields/src/main/java/org/elasticsearch/xpack/runtimefields/test', 'x-pack/qa/security-tools-tests', 'x-pack/plugin/ccr/qa/downgrade-to-basic-license/src/test', 'x-pack/plugin/ccr/qa/multi-cluster/src/test', 'x-pack/plugin/ccr/qa/non-compliant-license/src/test', 'x-pack/plugin/ccr/qa/restart/src/test', 'x-pack/plugin/ccr/qa/security/src/test', 'x-pack/plugin/enrich/qa/common/src/main/java/org/elasticsearch/test', 'x-pack/plugin/eql/qa/common/src/main/java/org/elasticsearch/test', 'x-pack/plugin/identity-provider/qa/idp-rest-tests', 'x-pack/plugin/identity-provider/src/internalClusterTest/java/org/elasticsearch/xpack/idp/saml/test', 'x-pack/plugin/ilm/qa/multi-cluster/src/test', 'x-pack/plugin/searchable-snapshots/qa/azure/src/test', 'x-pack/plugin/searchable-snapshots/qa/gcs/src/test', 'x-pack/plugin/searchable-snapshots/qa/url/src/test', 'x-pack/plugin/security/cli/src/test', 'x-pack/plugin/sql/jdbc/src/test', 'x-pack/plugin/sql/sql-action/src/test', 'x-pack/plugin/sql/sql-cli/src/test', 'x-pack/plugin/sql/sql-client/src/test', 'x-pack/plugin/sql/sql-proto/src/test', 'x-pack/qa/kerberos-tests', 'x-pack/qa/oidc-op-tests', 'x-pack/qa/saml-idp-tests', 'x-pack/plugin/ml/qa/native-multi-node-tests', 'x-pack/plugin/ml/qa/no-bootstrap-tests', 'x-pack/plugin/ml/qa/single-node-tests', 'x-pack/plugin/searchable-snapshots/qa/hdfs/src/test', 'x-pack/plugin/searchable-snapshots/qa/minio/src/test', 'x-pack/plugin/searchable-snapshots/qa/s3/src/test', 'x-pack/plugin/security/qa/operator-privileges-tests', 'x-pack/plugin/security/qa/security-trial/src/javaRestTest/java/org/elasticsearch/xpack/test', 'x-pack/plugin/security/qa/smoke-test', 'x-pack/plugin/transform/qa/multi-node-tests', 'x-pack/plugin/transform/qa/single-node-tests', 'x-pack/qa/runtime-fields/core-with-mapped/src/yamlRestTest/java/org/elasticsearch/xpack/runtimefields/test', 'x-pack/qa/runtime-fields/core-with-search/src/yamlRestTest/java/org/elasticsearch/xpack/runtimefields/test', 'x-pack/qa/security-setup-password-tests', 'x-pack/qa/third-party/active-directory/src/test', 'x-pack/plugin/eql/qa/mixed-node/src/test', 'x-pack/plugin/repositories-metering-api/qa/azure/src/test', 'x-pack/plugin/repositories-metering-api/qa/gcs/src/test', 'x-pack/plugin/repositories-metering-api/qa/s3/src/test', 'x-pack/plugin/sql/qa/mixed-node/src/test', 'x-pack/plugin/sql/qa/server/multi-node/src/test', 'x-pack/plugin/sql/qa/server/security/src/test', 'x-pack/plugin/sql/qa/server/single-node/src/test', 'x-pack/plugin/sql/qa/jdbc/multi-node/src/test', 'x-pack/plugin/sql/qa/jdbc/no-sql/src/test', 'x-pack/plugin/sql/qa/jdbc/security/src/test', 'x-pack/plugin/sql/qa/jdbc/single-node/src/test']\n",
      "Found 161507 classes, methods and fields!\n",
      "Nodes in project structure: 161507\n",
      "Using precalculated structural values\n"
     ]
    },
    {
     "data": {
      "application/vnd.jupyter.widget-view+json": {
       "model_id": "b550e24462f54ffaad3e06f0a3e2d587",
       "version_major": 2,
       "version_minor": 0
      },
      "text/plain": [
       "Propagating down coupling information, iteration 1/2:   0%|          | 0/22261 [00:00<?, ?it/s]"
      ]
     },
     "metadata": {},
     "output_type": "display_data"
    },
    {
     "data": {
      "application/vnd.jupyter.widget-view+json": {
       "model_id": "ba60425534ab4ae7bb59262507ac30f4",
       "version_major": 2,
       "version_minor": 0
      },
      "text/plain": [
       "Applying changes, iteration 1/2:   0%|          | 0/6007291 [00:00<?, ?it/s]"
      ]
     },
     "metadata": {},
     "output_type": "display_data"
    },
    {
     "data": {
      "application/vnd.jupyter.widget-view+json": {
       "model_id": "d0905856474c4edea1063d83348c6833",
       "version_major": 2,
       "version_minor": 0
      },
      "text/plain": [
       "Propagating down coupling information, iteration 2/2:   0%|          | 0/22261 [00:00<?, ?it/s]"
      ]
     },
     "metadata": {},
     "output_type": "display_data"
    },
    {
     "data": {
      "application/vnd.jupyter.widget-view+json": {
       "model_id": "a40e713345e946bfa52bff617c447415",
       "version_major": 2,
       "version_minor": 0
      },
      "text/plain": [
       "Applying changes, iteration 2/2:   0%|          | 0/22654848 [00:00<?, ?it/s]"
      ]
     },
     "metadata": {},
     "output_type": "display_data"
    },
    {
     "name": "stdout",
     "output_type": "stream",
     "text": [
      "Using precalculated evolutionary values\n",
      "Total node count: 24615\n",
      "Methods: 14832\n",
      "constructors: 1966\n",
      "fields: 5000\n",
      "classes: 1093\n",
      "interfaces: 82\n",
      "enums: 83\n",
      "without type: 1559\n",
      "all filtered nodes: 7232\n",
      "Amount of node pairs to check: 26125475 of 26147296 (99.91654586386294%)\n",
      "Going parallel...\n"
     ]
    },
    {
     "data": {
      "application/vnd.jupyter.widget-view+json": {
       "model_id": "2bd79227b9174642b7c1eb288435f7ad",
       "version_major": 2,
       "version_minor": 0
      },
      "text/plain": [
       "Analyzing edges:   0%|          | 0/26125475 [00:00<?, ?it/s]"
      ]
     },
     "metadata": {},
     "output_type": "display_data"
    },
    {
     "name": "stdout",
     "output_type": "stream",
     "text": [
      "Results:\n",
      "\n",
      "Pattern 0 ([1, 0, None, 'using each other, but not developed together']):\n"
     ]
    },
    {
     "data": {
      "application/vnd.jupyter.widget-view+json": {
       "model_id": "3a6e43d24ab34266836902c42bb348e0",
       "version_major": 2,
       "version_minor": 0
      },
      "text/plain": [
       "interactive(children=(FloatLogSlider(value=0.5, description='structural', layout=Layout(width='500px'), max=0.…"
      ]
     },
     "metadata": {},
     "output_type": "display_data"
    },
    {
     "name": "stdout",
     "output_type": "stream",
     "text": [
      "\n",
      "Pattern 1 ([0, 1, None, 'unrelated functionality that gets adjusted together']):\n"
     ]
    },
    {
     "data": {
      "application/vnd.jupyter.widget-view+json": {
       "model_id": "479a4e35756e4c16b4f1923732040138",
       "version_major": 2,
       "version_minor": 0
      },
      "text/plain": [
       "interactive(children=(FloatLogSlider(value=0.5, description='structural', layout=Layout(width='500px'), max=0.…"
      ]
     },
     "metadata": {},
     "output_type": "display_data"
    },
    {
     "name": "stdout",
     "output_type": "stream",
     "text": [
      "\n",
      "Pattern 2 ([1, None, 0, 'Strong structural coupling across a big distance']):\n"
     ]
    },
    {
     "data": {
      "application/vnd.jupyter.widget-view+json": {
       "model_id": "cfd5c4669a16461cb559892a9619bf2a",
       "version_major": 2,
       "version_minor": 0
      },
      "text/plain": [
       "interactive(children=(FloatLogSlider(value=0.5, description='structural', layout=Layout(width='500px'), max=0.…"
      ]
     },
     "metadata": {},
     "output_type": "display_data"
    },
    {
     "name": "stdout",
     "output_type": "stream",
     "text": [
      "\n",
      "Pattern 3 ([None, 1, 0, 'Strong evolutionary coupling across a big distance']):\n"
     ]
    },
    {
     "data": {
      "application/vnd.jupyter.widget-view+json": {
       "model_id": "964639b940b0404d8f01bcb8d2f452fd",
       "version_major": 2,
       "version_minor": 0
      },
      "text/plain": [
       "interactive(children=(FloatLogSlider(value=0.5, description='evolutionary', layout=Layout(width='500px'), max=…"
      ]
     },
     "metadata": {},
     "output_type": "display_data"
    },
    {
     "name": "stdout",
     "output_type": "stream",
     "text": [
      "\n",
      "Pattern 4 ([0, 1, 0, 'Strong evolutionary and low structural coupling across a big distance']):\n"
     ]
    },
    {
     "data": {
      "application/vnd.jupyter.widget-view+json": {
       "model_id": "014ba6c1f1b4433891921548cffa9071",
       "version_major": 2,
       "version_minor": 0
      },
      "text/plain": [
       "interactive(children=(FloatLogSlider(value=0.3333333333333333, description='structural', layout=Layout(width='…"
      ]
     },
     "metadata": {},
     "output_type": "display_data"
    },
    {
     "name": "stdout",
     "output_type": "stream",
     "text": [
      "\n",
      "Program is over!\n"
     ]
    }
   ],
   "source": [
    "import logging\n",
    "import pdb\n",
    "logging.basicConfig(level=logging.INFO)\n",
    "%matplotlib inline\n",
    "%run LocalRepo.ipynb\n",
    "%run repos.ipynb\n",
    "%run parsing.ipynb\n",
    "%run metrics.ipynb\n",
    "%run analysis.ipynb\n",
    "import pyfiglet\n",
    "import numpy as np\n",
    "# np.seterr(all='raise')\n",
    "import os\n",
    "\n",
    "\n",
    "repos = [\n",
    "    \"ErikBrendel/LudumDare\", # 8 minutes BTM\n",
    "    \"eclipse/eclipse.jdt.core\",  # from duerschmidt\n",
    "    \"jenkinsci/jenkins\",\n",
    "    \"wumpz/jhotdraw\",\n",
    "    \"neuland/jade4j\",\n",
    "    \"jfree/jfreechart\",\n",
    "    \"brettwooldridge/HikariCP\",  # 1.2h BTM\n",
    "    \"adamfisk/LittleProxy\",  # 1.5h BTM\n",
    "    \"dynjs/dynjs\",  # 2.5h BTM\n",
    "    # \"SonarSource/sonarqube\",  # quite big / prob. several hours BTM\n",
    "    \"square/okhttp\",\n",
    "    \"eclipse/che\",\n",
    "    \"elastic/elasticsearch\",\n",
    "    \"apache/camel\",\n",
    "    \"jOOQ/jOOQ\",\n",
    "]\n",
    "repos = [\"elastic/elasticsearch\"]\n",
    "\n",
    "\n",
    "\n",
    "for repo in repos:\n",
    "    r = LocalRepo(repo)\n",
    "    print(pyfiglet.figlet_format(r.name))\n",
    "    r.update()\n",
    "    \n",
    "    # pdb.set_trace()\n",
    "    print(\"Nodes in project structure:\", r.get_tree().node_count())\n",
    "    \n",
    "    for view in []: # [\"structural\", \"evolutionary\", \"linguistic\"]\n",
    "        # MetricManager.clear(r, view)\n",
    "\n",
    "        coupling_graph = MetricManager.get(r, view)\n",
    "        coupling_graph.plaintext_save(repo)\n",
    "        # coupling_graph.html_save(repo)\n",
    "        \n",
    "\n",
    "        print(\"\\nResults from the \" + view + \" view:\\n\")\n",
    "\n",
    "        coupling_graph.print_statistics()\n",
    "        coupling_graph.print_most_linked_nodes()\n",
    "        # coupling_graph.show_weight_histogram()\n",
    "        # coupling_graph.visualize(use_spring=False, with_labels=False)\n",
    "        # coupling_graph.visualize(use_spring=True, with_labels=False)\n",
    "        print(\"\\n\")\n",
    "    \n",
    "    # amalysis\n",
    "    repo_tree = r.get_tree()\n",
    "    def node_filter(node_path):\n",
    "        tree_node = repo_tree.find_node(node_path)\n",
    "        return tree_node.get_type() == \"method\" and tree_node.get_line_span() >= 10\n",
    "    def node_pair_filter(node_a_path, node_b_path):\n",
    "        return path_module_distance(node_a_path, node_b_path) > 4\n",
    "        \n",
    "    #analyze_disagreements(r, [\"structural\", \"evolutionary\", \"linguistic\"], [\n",
    "    #    [0, 1, None, \"unrelated functionality that gets adjusted together\"],\n",
    "    #    [0, 0, 1, \"duplicated concepts, developed separately\"],\n",
    "    #    [None, 0, 1, \"duplicated concepts, adjusted separately\"],\n",
    "    #    [1, None, 0, \"weakly modularized code\"]\n",
    "    #], node_filter, node_pair_filter)\n",
    "    \n",
    "    analyze_disagreements(r, [\"structural\", \"evolutionary\", \"module_distance\"], [\n",
    "        [1, 0, None, \"using each other, but not developed together\"],\n",
    "        [0, 1, None, \"unrelated functionality that gets adjusted together\"],\n",
    "        [1, None, 0, \"Strong structural coupling across a big distance\"],\n",
    "        [None, 1, 0, \"Strong evolutionary coupling across a big distance\"],\n",
    "        [0, 1, 0, \"Strong evolutionary and low structural coupling across a big distance\"],\n",
    "    ], node_filter, node_pair_filter)\n",
    "    \n",
    "    #analyze_disagreements(r, [\"structural\", \"evolutionary\", \"linguistic\", \"module_distance\"], [\n",
    "    #    [0, 1, 0, 0, \"Strong evolutionary and low structural / linguistic coupling across a big distance\"],\n",
    "    #    [0, 0, 1, 0, \"Strong linguistic and low structural / evolutionary coupling across a big distance\"],\n",
    "    #    [0, 0, 0, 1, \"Close but totally unrelated\"],\n",
    "    #    [0, 1, 1, 0, \"Evo + Ling but no struct + big distance\"],\n",
    "    #], node_filter, node_pair_filter)\n",
    "    \n",
    "    #analyze_disagreements(r, [\"evolutionary\", \"module_distance\"], [\n",
    "    #    [1, 0, \"Strong evolutionary coupling across a big distance\"],\n",
    "    #], node_filter, node_pair_filter)\n",
    "    \n",
    "    #analyze_disagreements(r, [\"structural\", \"evolutionary\"], [\n",
    "    #    [0, 1, \"adjusted together without structural relation\"],\n",
    "    #], node_filter, node_pair_filter)\n",
    "    \n",
    "print(\"\\nProgram is over!\")"
   ]
  },
  {
   "cell_type": "code",
   "execution_count": null,
   "metadata": {},
   "outputs": [],
   "source": []
  }
 ],
 "metadata": {
  "kernelspec": {
   "display_name": "Python 3",
   "language": "python",
   "name": "python3"
  },
  "language_info": {
   "codemirror_mode": {
    "name": "ipython",
    "version": 3
   },
   "file_extension": ".py",
   "mimetype": "text/x-python",
   "name": "python",
   "nbconvert_exporter": "python",
   "pygments_lexer": "ipython3",
   "version": "3.7.9"
  }
 },
 "nbformat": 4,
 "nbformat_minor": 4
}
