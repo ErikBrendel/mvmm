{
 "cells": [
  {
   "cell_type": "code",
   "execution_count": 27,
   "metadata": {},
   "outputs": [
    {
     "name": "stdout",
     "output_type": "stream",
     "text": [
      " _____      _ _    ____                     _      _    ___              _ \n",
      "| ____|_ __(_) | _| __ ) _ __ ___ _ __   __| | ___| |  / / |   _   _  __| |\n",
      "|  _| | '__| | |/ /  _ \\| '__/ _ \\ '_ \\ / _` |/ _ \\ | / /| |  | | | |/ _` |\n",
      "| |___| |  | |   <| |_) | | |  __/ | | | (_| |  __/ |/ / | |__| |_| | (_| |\n",
      "|_____|_|  |_|_|\\_\\____/|_|  \\___|_| |_|\\__,_|\\___|_/_/  |_____\\__,_|\\__,_|\n",
      "                                                                           \n",
      "                 ____                 \n",
      " _   _ _ __ ___ |  _ \\  __ _ _ __ ___ \n",
      "| | | | '_ ` _ \\| | | |/ _` | '__/ _ \\\n",
      "| |_| | | | | | | |_| | (_| | | |  __/\n",
      " \\__,_|_| |_| |_|____/ \\__,_|_|  \\___|\n",
      "                                      \n",
      "\n",
      "updating ErikBrendel/LudumDare...\n",
      "Repo is up to date!\n",
      "Analyzing 44 of 44 files\n",
      "Skipped 0 test roots: []\n",
      "Found 565 classes, methods and fields!\n",
      "Nodes in project structure: 565\n",
      "Using precalculated evolutionary values\n",
      "Total node count: 368\n",
      "Methods: 192\n",
      "constructors: 22\n",
      "fields: 103\n",
      "classes: 9\n",
      "interfaces: 0\n",
      "enums: 2\n",
      "without type: 40\n",
      "all filtered nodes: 130\n",
      "Amount of node pairs to check: 8174 of 8385 (97.48360166964818%)\n",
      "Going parallel...\n"
     ]
    },
    {
     "data": {
      "application/vnd.jupyter.widget-view+json": {
       "model_id": "98d50496980c43d5ad9ff5d739d87a86",
       "version_major": 2,
       "version_minor": 0
      },
      "text/plain": [
       "Analyzing edges:   0%|          | 0/8174 [00:00<?, ?it/s]"
      ]
     },
     "metadata": {},
     "output_type": "display_data"
    },
    {
     "name": "stdout",
     "output_type": "stream",
     "text": [
      "Results:\n",
      "\n",
      "Pattern 0 ([1, 0, 'Strong evolutionary coupling across a big distance']):\n",
      "  Amount of disagreements: 16348 which is 96.73% of all edges\n"
     ]
    },
    {
     "name": "stderr",
     "output_type": "stream",
     "text": [
      "/mnt/brick/github/tools/pypy3.7-v7.3.3-linux64/lib_pypy/_functools.py:80: MatplotlibDeprecationWarning: savefig() got unexpected keyword argument \"orientation\" which is no longer supported as of 3.3 and will become an error two minor releases later\n",
      "  return self._func(*(self._args + fargs), **fkeywords)\n",
      "/mnt/brick/github/tools/pypy3.7-v7.3.3-linux64/lib_pypy/_functools.py:80: MatplotlibDeprecationWarning: savefig() got unexpected keyword argument \"dpi\" which is no longer supported as of 3.3 and will become an error two minor releases later\n",
      "  return self._func(*(self._args + fargs), **fkeywords)\n"
     ]
    },
    {
     "data": {
      "image/png": "[encoded data removed]",
      "text/plain": [
       "<Figure size 432x288 with 1 Axes>"
      ]
     },
     "metadata": {
      "needs_background": "light"
     },
     "output_type": "display_data"
    },
    {
     "name": "stdout",
     "output_type": "stream",
     "text": [
      "  Strong nontrivial disagreements: 16348\n",
      "   particles/AsteroidParts.java/AsteroidParts/render <> logic/Layer.java/Layer/update  -  0.38309271605246287\n",
      "   logic/Physics.java/Physics/showAsteroidParticles <> logic/Player.java/Player/gameLost/run  -  0.37166718642348007\n",
      "   logic/Physics.java/Physics/showAsteroidParticles <> logic/Player.java/Player/gameLost  -  0.3578422955724109\n",
      "   util/web/Highscores.java/Highscores/getMac <> main/Main.java/Main/update  -  0.3439241914115855\n",
      "   util/web/Highscores.java/Highscores/getMac <> logic/GameOverScreen.java/GameOverScreen/draw  -  0.3439241914115855\n",
      "   util/gfx/GfxLoader.java/GfxLoader/intersect <> logic/Physics.java/Physics/doPhysics  -  0.31482373372113015\n",
      "   util/gfx/GfxLoader.java/GfxLoader/intersect <> logic/Physics.java/Physics/repel  -  0.31482373372113015\n",
      "   util/web/Highscores.java/Highscores/upload <> logic/GameOverScreen.java/GameOverScreen/draw  -  0.3125445227740787\n",
      "   util/gfx/GfxLoader.java/GfxLoader/loadImage <> util/sounds/SoundManager.java/SoundManager/loadClip  -  0.30945253540617557\n",
      "   util/gfx/TextBoxView.java/TextBoxView/getSize <> main/Main.java/Main/init  -  0.2950353025226966\n"
     ]
    },
    {
     "data": {
      "application/vnd.jupyter.widget-view+json": {
       "model_id": "062ca82c52f44a23adf4af764bf732a6",
       "version_major": 2,
       "version_minor": 0
      },
      "text/plain": [
       "interactive(children=(FloatLogSlider(value=0.5, description='evolutionary', layout=Layout(width='500px'), max=…"
      ]
     },
     "metadata": {},
     "output_type": "display_data"
    },
    {
     "name": "stdout",
     "output_type": "stream",
     "text": [
      "\n",
      "Program is over!\n"
     ]
    }
   ],
   "source": [
    "import logging\n",
    "import pdb\n",
    "logging.basicConfig(level=logging.INFO)\n",
    "%matplotlib inline\n",
    "%run LocalRepo.ipynb\n",
    "%run repos.ipynb\n",
    "%run parsing.ipynb\n",
    "%run metrics.ipynb\n",
    "%run analysis.ipynb\n",
    "import pyfiglet\n",
    "import numpy as np\n",
    "# np.seterr(all='raise')\n",
    "import os\n",
    "\n",
    "\n",
    "repos = [\n",
    "    \"eclipse/eclipse.jdt.core\",  # from duerschmidt\n",
    "    \"ErikBrendel/LudumDare\", # 8 minutes BTM\n",
    "    \"neuland/jade4j\",\n",
    "    \"jfree/jfreechart\",\n",
    "    \"brettwooldridge/HikariCP\",  # 1.2h BTM\n",
    "    \"adamfisk/LittleProxy\",  # 1.5h BTM\n",
    "    \"dynjs/dynjs\",  # 2.5h BTM\n",
    "    # \"SonarSource/sonarqube\",  # quite big / prob. several hours BTM\n",
    "    \"square/okhttp\",\n",
    "    \"jenkinsci/jenkins\",\n",
    "    \"eclipse/che\",\n",
    "    \"elastic/elasticsearch\",\n",
    "    \"apache/camel\"\n",
    "    \"jOOQ/jOOQ\"\n",
    "]\n",
    "repos = [\"ErikBrendel/LudumDare\"]\n",
    "\n",
    "\n",
    "\n",
    "views = [] # [\"structural\", \"evolutionary\", \"linguistic\"]\n",
    "for repo in repos:\n",
    "    r = LocalRepo(repo)\n",
    "    print(pyfiglet.figlet_format(r.name))\n",
    "    r.update()\n",
    "    \n",
    "    # pdb.set_trace()\n",
    "    print(\"Nodes in project structure:\", r.get_tree().node_count())\n",
    "    \n",
    "    for view in views:\n",
    "        # MetricManager.clear(r, view)\n",
    "\n",
    "        coupling_graph = MetricManager.get(r, view)\n",
    "        coupling_graph.plaintext_save(repo)\n",
    "        # coupling_graph.html_save(repo)\n",
    "        \n",
    "\n",
    "        print(\"\\nResults from the \" + view + \" view:\\n\")\n",
    "\n",
    "        coupling_graph.print_statistics()\n",
    "        coupling_graph.print_most_linked_nodes()\n",
    "        coupling_graph.show_weight_histogram()\n",
    "        # coupling_graph.visualize(use_spring=False, with_labels=False)\n",
    "        print(\"\\n\")\n",
    "    \n",
    "    # amalysis\n",
    "    repo_tree = r.get_tree()\n",
    "    def node_filter(node_path):\n",
    "        tree_node = repo_tree.find_node(node_path)\n",
    "        return tree_node.get_type() == \"method\" and tree_node.get_line_span() >= 4\n",
    "    def node_pair_filter(node_a_path, node_b_path):\n",
    "        return path_module_distance(node_a_path, node_b_path) > 2\n",
    "        \n",
    "    #analyze_disagreements(r, [\"structural\", \"evolutionary\", \"linguistic\"], [\n",
    "    #    [0, 1, None, \"unrelated functionality that gets adjusted together\"],\n",
    "    #    [0, 0, 1, \"duplicated concepts, developed separately\"],\n",
    "    #    [None, 0, 1, \"duplicated concepts, adjusted separately\"],\n",
    "    #    [1, None, 0, \"weakly modularized code\"]\n",
    "    #])\n",
    "    \n",
    "    #analyze_disagreements(r, [\"structural\", \"evolutionary\", \"module_distance\"], [\n",
    "    #    [0, 1, None, \"unrelated functionality that gets adjusted together\"],\n",
    "    #    [1, None, 0, \"Strong structural coupling across a big distance\"],\n",
    "    #    [None, 1, 0, \"Strong evolutionary coupling across a big distance\"],\n",
    "    #])\n",
    "    \n",
    "    analyze_disagreements(r, [\"evolutionary\", \"module_distance\"], [\n",
    "        [1, 0, \"Strong evolutionary coupling across a big distance\"],\n",
    "    ], node_filter, node_pair_filter)\n",
    "    \n",
    "print(\"\\nProgram is over!\")"
   ]
  },
  {
   "cell_type": "code",
   "execution_count": null,
   "metadata": {},
   "outputs": [],
   "source": []
  }
 ],
 "metadata": {
  "kernelspec": {
   "display_name": "Python 3",
   "language": "python",
   "name": "python3"
  },
  "language_info": {
   "codemirror_mode": {
    "name": "ipython",
    "version": 3
   },
   "file_extension": ".py",
   "mimetype": "text/x-python",
   "name": "python",
   "nbconvert_exporter": "python",
   "pygments_lexer": "ipython3",
   "version": "3.7.9"
  }
 },
 "nbformat": 4,
 "nbformat_minor": 4
}
