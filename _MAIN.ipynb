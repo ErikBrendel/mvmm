{
 "cells": [
  {
   "cell_type": "code",
   "execution_count": null,
   "metadata": {},
   "outputs": [],
   "source": [
    "%matplotlib inline\n",
    "%run LocalRepo.ipynb\n",
    "%run repos.ipynb\n",
    "%run parsing.ipynb\n",
    "%run metrics.ipynb"
   ]
  },
  {
   "cell_type": "code",
   "execution_count": null,
   "metadata": {},
   "outputs": [],
   "source": [
    "repos"
   ]
  },
  {
   "cell_type": "code",
   "execution_count": null,
   "metadata": {},
   "outputs": [],
   "source": [
    "import_query = JA_LANGUAGE.query(\"(import_declaration (scoped_identifier) @decl )\")\n",
    "def import_node_to_list(node):\n",
    "    if node.type == \"scoped_identifier\":\n",
    "        list = import_node_to_list"
   ]
  },
  {
   "cell_type": "code",
   "execution_count": null,
   "metadata": {},
   "outputs": [],
   "source": [
    "for repo in repos:\n",
    "    r = LocalRepo(repo)\n",
    "    r.update()\n",
    "    \n",
    "    # structural = MetricsGeneration(r).calculate_structural_connections(r)\n",
    "    ling = MetricsGeneration(r).calculate_linguistic_connections()\n",
    "    continue\n",
    "    \n",
    "    found_nodes = RepoTree(\"\")\n",
    "    files = r.get_file_objects()\n",
    "    print(\"Analyzing \" + str(len(files)) + \" files...\")\n",
    "    for file_obj in files:\n",
    "        file = RepoFile(r, file_obj)\n",
    "        imports = import_query.captures(file.get_tree().root_node)\n",
    "        for import_statement in imports:\n",
    "            print(file.node_text(import_statement[0]).split(\".\"))\n",
    "        print(\"-\")\n",
    "        def handle(logic_path, node):\n",
    "            found_nodes.register(logic_path)\n",
    "        file.walk_tree(handle)\n",
    "    \n",
    "    print(\"Found \" + str(found_nodes.node_count()) + \" classes, methods and fields!\")\n",
    "    \n",
    "    with open(\"../debug-tree.json\", \"w\") as outfile:\n",
    "        outfile.write(found_nodes.to_json())\n",
    "print(\"Everything up to date!\")"
   ]
  },
  {
   "cell_type": "code",
   "execution_count": null,
   "metadata": {},
   "outputs": [],
   "source": []
  }
 ],
 "metadata": {
  "kernelspec": {
   "display_name": "Python 3",
   "language": "python",
   "name": "python3"
  },
  "language_info": {
   "codemirror_mode": {
    "name": "ipython",
    "version": 3
   },
   "file_extension": ".py",
   "mimetype": "text/x-python",
   "name": "python",
   "nbconvert_exporter": "python",
   "pygments_lexer": "ipython3",
   "version": "3.8.1"
  }
 },
 "nbformat": 4,
 "nbformat_minor": 4
}
