{
 "cells": [
  {
   "cell_type": "code",
   "execution_count": 1,
   "metadata": {},
   "outputs": [
    {
     "name": "stderr",
     "output_type": "stream",
     "text": [
      "metrics.ipynb:25: DeprecationWarning: `np.int` is a deprecated alias for the builtin `int`. To silence this warning, use `int` by itself. Doing this will not modify any behavior and is safe. When replacing `np.int`, you may wish to use e.g. `np.int64` or `np.int32` to specify the precision. If you wish to review your current use, check the release note link for additional information.\n",
      "Deprecated in NumPy 1.20; for more details and guidance: https://numpy.org/devdocs/release/1.20.0-notes.html#deprecations\n",
      "  \"import string\\n\",\n"
     ]
    },
    {
     "name": "stdout",
     "output_type": "stream",
     "text": [
      "           _ _                   __        _ _                   _     _ _     \n",
      "  ___  ___| (_)_ __  ___  ___   / /__  ___| (_)_ __  ___  ___   (_) __| | |_   \n",
      " / _ \\/ __| | | '_ \\/ __|/ _ \\ / / _ \\/ __| | | '_ \\/ __|/ _ \\  | |/ _` | __|  \n",
      "|  __/ (__| | | |_) \\__ \\  __// /  __/ (__| | | |_) \\__ \\  __/_ | | (_| | |_ _ \n",
      " \\___|\\___|_|_| .__/|___/\\___/_/ \\___|\\___|_|_| .__/|___/\\___(_)/ |\\__,_|\\__(_)\n",
      "              |_|                             |_|             |__/             \n",
      "                    \n",
      "  ___ ___  _ __ ___ \n",
      " / __/ _ \\| '__/ _ \\\n",
      "| (_| (_) | | |  __/\n",
      " \\___\\___/|_|  \\___|\n",
      "                    \n",
      "\n",
      "updating eclipse/eclipse.jdt.core...\n",
      "Repo is up to date!\n",
      "Analyzing 2547 of 8314 files\n",
      "Skipped 6 test roots: ['org.eclipse.jdt.apt.tests', 'org.eclipse.jdt.core.tests', 'org.eclipse.jdt.apt.pluggable.tests', 'org.eclipse.jdt.compiler.apt.tests', 'org.eclipse.jdt.tests', 'org.eclipse.jdt.compiler.tool.tests']\n",
      "Found 40591 classes, methods and fields!\n",
      "Nodes in project structure: 40591\n",
      "Using precalculated structural values\n"
     ]
    },
    {
     "data": {
      "application/vnd.jupyter.widget-view+json": {
       "model_id": "c5a78b5733a8484bb73e04fed120c289",
       "version_major": 2,
       "version_minor": 0
      },
      "text/plain": [
       "Propagating down coupling information, iteration 1/2:   0%|          | 0/3721 [00:00<?, ?it/s]"
      ]
     },
     "metadata": {},
     "output_type": "display_data"
    },
    {
     "data": {
      "application/vnd.jupyter.widget-view+json": {
       "model_id": "eba6f0bcc2f24b95a76bb6eac37f79c9",
       "version_major": 2,
       "version_minor": 0
      },
      "text/plain": [
       "Applying changes, iteration 1/2:   0%|          | 0/5221250 [00:00<?, ?it/s]"
      ]
     },
     "metadata": {},
     "output_type": "display_data"
    },
    {
     "data": {
      "application/vnd.jupyter.widget-view+json": {
       "model_id": "0a90e2bcbfb6493fb6cc6d19528280b5",
       "version_major": 2,
       "version_minor": 0
      },
      "text/plain": [
       "Propagating down coupling information, iteration 2/2:   0%|          | 0/3721 [00:00<?, ?it/s]"
      ]
     },
     "metadata": {},
     "output_type": "display_data"
    },
    {
     "data": {
      "application/vnd.jupyter.widget-view+json": {
       "model_id": "3d441f7ad146474186cb8f3886d65b6e",
       "version_major": 2,
       "version_minor": 0
      },
      "text/plain": [
       "Applying changes, iteration 2/2:   0%|          | 0/5848389 [00:00<?, ?it/s]"
      ]
     },
     "metadata": {},
     "output_type": "display_data"
    },
    {
     "name": "stdout",
     "output_type": "stream",
     "text": [
      "\n",
      "Results from the structural view:\n",
      "\n",
      "WeightGraph statistics: 35911 nodes, 3034930 edges, 49 connected component(s), with sizes: [34977, 105, 63, 63, 55, 48, 48, 48, 48, 48, 26, 22, 21, 21, 20, 20, 17, 17, 17, 17]\n",
      "Edge weights: [0.5, 0.5, 0.5, 0.5, 0.5] ... [171, 187, 207, 208, 210] , mean: 2.1369519231086054\n",
      "Node support values: [1, 1, 1, 1, 1] ... [2966, 3274, 3874, 4497, 8175] , mean: 15.331792486981705\n",
      "\n",
      "\n",
      "Using precalculated structural values\n"
     ]
    },
    {
     "data": {
      "application/vnd.jupyter.widget-view+json": {
       "model_id": "3cc5816a43e84c2bbb60677b5fc93489",
       "version_major": 2,
       "version_minor": 0
      },
      "text/plain": [
       "Propagating down coupling information, iteration 1/2:   0%|          | 0/3721 [00:00<?, ?it/s]"
      ]
     },
     "metadata": {},
     "output_type": "display_data"
    },
    {
     "data": {
      "application/vnd.jupyter.widget-view+json": {
       "model_id": "5674eb8d6341499f9d1d216350420f06",
       "version_major": 2,
       "version_minor": 0
      },
      "text/plain": [
       "Applying changes, iteration 1/2:   0%|          | 0/5221250 [00:00<?, ?it/s]"
      ]
     },
     "metadata": {},
     "output_type": "display_data"
    },
    {
     "data": {
      "application/vnd.jupyter.widget-view+json": {
       "model_id": "9415a3f4e70b4361a1ed454182177a88",
       "version_major": 2,
       "version_minor": 0
      },
      "text/plain": [
       "Propagating down coupling information, iteration 2/2:   0%|          | 0/3721 [00:00<?, ?it/s]"
      ]
     },
     "metadata": {},
     "output_type": "display_data"
    },
    {
     "data": {
      "application/vnd.jupyter.widget-view+json": {
       "model_id": "9a7763c0c73e48e896310b5c321dc63f",
       "version_major": 2,
       "version_minor": 0
      },
      "text/plain": [
       "Applying changes, iteration 2/2:   0%|          | 0/5848389 [00:00<?, ?it/s]"
      ]
     },
     "metadata": {},
     "output_type": "display_data"
    },
    {
     "name": "stdout",
     "output_type": "stream",
     "text": [
      "Using precalculated evolutionary values\n",
      "Total node count: 14231\n",
      "Methods: 9621\n",
      "constructors: 602\n",
      "fields: 2899\n",
      "classes: 653\n",
      "interfaces: 132\n",
      "enums: 14\n",
      "without type: 310\n",
      "all filtered nodes: 1797\n",
      "Amount of node pairs to check: 1246557 of 1613706 (77.24808608259497%)\n",
      "Going parallel...\n"
     ]
    },
    {
     "data": {
      "application/vnd.jupyter.widget-view+json": {
       "model_id": "7103acd653f34f0e8a604c01f5446e61",
       "version_major": 2,
       "version_minor": 0
      },
      "text/plain": [
       "Analyzing edges:   0%|          | 0/1246557 [00:00<?, ?it/s]"
      ]
     },
     "metadata": {},
     "output_type": "display_data"
    },
    {
     "name": "stdout",
     "output_type": "stream",
     "text": [
      "Results:\n",
      "\n",
      "Pattern 0 ([0, 1, None, 'unrelated functionality that gets adjusted together']):\n"
     ]
    },
    {
     "data": {
      "application/vnd.jupyter.widget-view+json": {
       "model_id": "27175895549741d787a9b3b35cc3b1e9",
       "version_major": 2,
       "version_minor": 0
      },
      "text/plain": [
       "interactive(children=(FloatLogSlider(value=0.5, description='structural', layout=Layout(width='500px'), max=0.…"
      ]
     },
     "metadata": {},
     "output_type": "display_data"
    },
    {
     "name": "stdout",
     "output_type": "stream",
     "text": [
      "\n",
      "Pattern 1 ([1, None, 0, 'Strong structural coupling across a big distance']):\n"
     ]
    },
    {
     "data": {
      "application/vnd.jupyter.widget-view+json": {
       "model_id": "30bb4c9c5a704ef596db6529fc6ea701",
       "version_major": 2,
       "version_minor": 0
      },
      "text/plain": [
       "interactive(children=(FloatLogSlider(value=0.5, description='structural', layout=Layout(width='500px'), max=0.…"
      ]
     },
     "metadata": {},
     "output_type": "display_data"
    },
    {
     "name": "stdout",
     "output_type": "stream",
     "text": [
      "\n",
      "Pattern 2 ([None, 1, 0, 'Strong evolutionary coupling across a big distance']):\n"
     ]
    },
    {
     "data": {
      "application/vnd.jupyter.widget-view+json": {
       "model_id": "2c5b5457f12f43848e3fcdf0aa670bbd",
       "version_major": 2,
       "version_minor": 0
      },
      "text/plain": [
       "interactive(children=(FloatLogSlider(value=0.5, description='evolutionary', layout=Layout(width='500px'), max=…"
      ]
     },
     "metadata": {},
     "output_type": "display_data"
    },
    {
     "name": "stdout",
     "output_type": "stream",
     "text": [
      "\n",
      "Pattern 3 ([0, 1, 0, 'Strong evolutionary and low structural coupling across a big distance']):\n"
     ]
    },
    {
     "data": {
      "application/vnd.jupyter.widget-view+json": {
       "model_id": "aac0542be1714724a73eee6ad465a388",
       "version_major": 2,
       "version_minor": 0
      },
      "text/plain": [
       "interactive(children=(FloatLogSlider(value=0.3333333333333333, description='structural', layout=Layout(width='…"
      ]
     },
     "metadata": {},
     "output_type": "display_data"
    },
    {
     "name": "stdout",
     "output_type": "stream",
     "text": [
      "\n",
      "Program is over!\n"
     ]
    }
   ],
   "source": [
    "import logging\n",
    "import pdb\n",
    "logging.basicConfig(level=logging.INFO)\n",
    "%matplotlib inline\n",
    "%run LocalRepo.ipynb\n",
    "%run repos.ipynb\n",
    "%run parsing.ipynb\n",
    "%run metrics.ipynb\n",
    "%run analysis.ipynb\n",
    "import pyfiglet\n",
    "import numpy as np\n",
    "# np.seterr(all='raise')\n",
    "import os\n",
    "\n",
    "\n",
    "repos = [\n",
    "    \"eclipse/eclipse.jdt.core\",  # from duerschmidt\n",
    "    \"ErikBrendel/LudumDare\", # 8 minutes BTM\n",
    "    \"neuland/jade4j\",\n",
    "    \"jfree/jfreechart\",\n",
    "    \"brettwooldridge/HikariCP\",  # 1.2h BTM\n",
    "    \"adamfisk/LittleProxy\",  # 1.5h BTM\n",
    "    \"dynjs/dynjs\",  # 2.5h BTM\n",
    "    # \"SonarSource/sonarqube\",  # quite big / prob. several hours BTM\n",
    "    \"square/okhttp\",\n",
    "    \"jenkinsci/jenkins\",\n",
    "    \"eclipse/che\",\n",
    "    \"elastic/elasticsearch\",\n",
    "    \"apache/camel\"\n",
    "    \"jOOQ/jOOQ\"\n",
    "]\n",
    "repos = [\"eclipse/eclipse.jdt.core\"]\n",
    "\n",
    "\n",
    "\n",
    "for repo in repos:\n",
    "    r = LocalRepo(repo)\n",
    "    print(pyfiglet.figlet_format(r.name))\n",
    "    r.update()\n",
    "    \n",
    "    # pdb.set_trace()\n",
    "    print(\"Nodes in project structure:\", r.get_tree().node_count())\n",
    "    \n",
    "    for view in [\"structural\"]: # [\"structural\", \"evolutionary\", \"linguistic\"]\n",
    "        MetricManager.clear(r, view)\n",
    "\n",
    "        coupling_graph = MetricManager.get(r, view)\n",
    "        # coupling_graph.plaintext_save(repo)\n",
    "        # coupling_graph.html_save(repo)\n",
    "        \n",
    "\n",
    "        print(\"\\nResults from the \" + view + \" view:\\n\")\n",
    "\n",
    "        coupling_graph.print_statistics()\n",
    "        #coupling_graph.print_most_linked_nodes()\n",
    "        #coupling_graph.show_weight_histogram()\n",
    "        #coupling_graph.visualize(use_spring=False, with_labels=False)\n",
    "        print(\"\\n\")\n",
    "    \n",
    "    # amalysis\n",
    "    repo_tree = r.get_tree()\n",
    "    def node_filter(node_path):\n",
    "        tree_node = repo_tree.find_node(node_path)\n",
    "        return tree_node.get_type() == \"method\" and tree_node.get_line_span() >= 30\n",
    "    def node_pair_filter(node_a_path, node_b_path):\n",
    "        return path_module_distance(node_a_path, node_b_path) > 10\n",
    "        \n",
    "    #analyze_disagreements(r, [\"structural\", \"evolutionary\", \"linguistic\"], [\n",
    "    #    [0, 1, None, \"unrelated functionality that gets adjusted together\"],\n",
    "    #    [0, 0, 1, \"duplicated concepts, developed separately\"],\n",
    "    #    [None, 0, 1, \"duplicated concepts, adjusted separately\"],\n",
    "    #    [1, None, 0, \"weakly modularized code\"]\n",
    "    #], node_filter, node_pair_filter)\n",
    "    \n",
    "    analyze_disagreements(r, [\"structural\", \"evolutionary\", \"module_distance\"], [\n",
    "        [0, 1, None, \"unrelated functionality that gets adjusted together\"],\n",
    "        [1, None, 0, \"Strong structural coupling across a big distance\"],\n",
    "        [None, 1, 0, \"Strong evolutionary coupling across a big distance\"],\n",
    "        [0, 1, 0, \"Strong evolutionary and low structural coupling across a big distance\"],\n",
    "    ], node_filter, node_pair_filter)\n",
    "    \n",
    "    #analyze_disagreements(r, [\"evolutionary\", \"module_distance\"], [\n",
    "    #    [1, 0, \"Strong evolutionary coupling across a big distance\"],\n",
    "    #], node_filter, node_pair_filter)\n",
    "    \n",
    "    #analyze_disagreements(r, [\"structural\", \"evolutionary\"], [\n",
    "    #    [0, 1, \"adjusted together without structural relation\"],\n",
    "    #], node_filter, node_pair_filter)\n",
    "    \n",
    "print(\"\\nProgram is over!\")"
   ]
  },
  {
   "cell_type": "code",
   "execution_count": null,
   "metadata": {},
   "outputs": [],
   "source": []
  }
 ],
 "metadata": {
  "kernelspec": {
   "display_name": "Python 3",
   "language": "python",
   "name": "python3"
  },
  "language_info": {
   "codemirror_mode": {
    "name": "ipython",
    "version": 3
   },
   "file_extension": ".py",
   "mimetype": "text/x-python",
   "name": "python",
   "nbconvert_exporter": "python",
   "pygments_lexer": "ipython3",
   "version": "3.7.9"
  }
 },
 "nbformat": 4,
 "nbformat_minor": 4
}
