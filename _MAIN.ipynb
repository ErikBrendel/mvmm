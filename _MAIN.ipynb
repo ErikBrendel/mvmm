{
 "cells": [
  {
   "cell_type": "code",
   "execution_count": null,
   "metadata": {},
   "outputs": [],
   "source": [
    "%matplotlib inline\n",
    "%run LocalRepo.ipynb\n",
    "%run repos.ipynb\n",
    "%run parsing.ipynb\n",
    "%run metrics.ipynb\n",
    "import pyfiglet"
   ]
  },
  {
   "cell_type": "code",
   "execution_count": null,
   "metadata": {},
   "outputs": [],
   "source": [
    "repos"
   ]
  },
  {
   "cell_type": "code",
   "execution_count": null,
   "metadata": {},
   "outputs": [],
   "source": [
    "views = [] # [\"structural\", \"evolutionary\", \"linguistic\"]\n",
    "\n",
    "for repo in repos:\n",
    "    r = LocalRepo(repo)\n",
    "    print(pyfiglet.figlet_format(r.name))\n",
    "    r.update()\n",
    "    \n",
    "    # tree = RepoTree.init_from_repo(r)\n",
    "    \n",
    "    for view in views:\n",
    "        # MetricManager.clear(r, view)\n",
    "\n",
    "        coupling_graph = MetricManager.get(r, view)\n",
    "\n",
    "        print(\"\\nResults from the \" + view + \" view:\\n\")\n",
    "\n",
    "        coupling_graph.print_statistics()\n",
    "        coupling_graph.show_weight_histogram()\n",
    "        # coupling_graph.visualize()\n",
    "        print(\"\\n\")\n",
    "    \n",
    "    \n",
    "print(\"\\nProgram is over!\")"
   ]
  },
  {
   "cell_type": "code",
   "execution_count": null,
   "metadata": {},
   "outputs": [],
   "source": []
  }
 ],
 "metadata": {
  "kernelspec": {
   "display_name": "Python 3",
   "language": "python",
   "name": "python3"
  },
  "language_info": {
   "codemirror_mode": {
    "name": "ipython",
    "version": 3
   },
   "file_extension": ".py",
   "mimetype": "text/x-python",
   "name": "python",
   "nbconvert_exporter": "python",
   "pygments_lexer": "ipython3",
   "version": "3.8.1"
  }
 },
 "nbformat": 4,
 "nbformat_minor": 4
}
