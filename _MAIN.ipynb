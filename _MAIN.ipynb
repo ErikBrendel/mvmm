{
 "cells": [
  {
   "cell_type": "code",
   "execution_count": 1,
   "metadata": {},
   "outputs": [],
   "source": [
    "import logging\n",
    "import pdb\n",
    "# logging.basicConfig(level=logging.INFO)\n",
    "%matplotlib inline\n",
    "%run LocalRepo.ipynb\n",
    "%run repos.ipynb\n",
    "%run parsing.ipynb\n",
    "%run metrics.ipynb\n",
    "%run analysis.ipynb\n",
    "import pyfiglet"
   ]
  },
  {
   "cell_type": "code",
   "execution_count": 2,
   "metadata": {},
   "outputs": [],
   "source": [
    "repos = [\"ErikBrendel/LudumDare\"]\n",
    "# = [\n",
    "    # \"square/okhttp\",\n",
    "    # \"jenkinsci/jenkins\",\n",
    "    # \"eclipse/che\",\n",
    "    # \"elastic/elasticsearch\",\n",
    "    # \"apache/camel\"\n",
    "#]"
   ]
  },
  {
   "cell_type": "code",
   "execution_count": 3,
   "metadata": {},
   "outputs": [
    {
     "name": "stdout",
     "output_type": "stream",
     "text": [
      " _____      _ _    ____                     _      _    ___              _ \n",
      "| ____|_ __(_) | _| __ ) _ __ ___ _ __   __| | ___| |  / / |   _   _  __| |\n",
      "|  _| | '__| | |/ /  _ \\| '__/ _ \\ '_ \\ / _` |/ _ \\ | / /| |  | | | |/ _` |\n",
      "| |___| |  | |   <| |_) | | |  __/ | | | (_| |  __/ |/ / | |__| |_| | (_| |\n",
      "|_____|_|  |_|_|\\_\\____/|_|  \\___|_| |_|\\__,_|\\___|_/_/  |_____\\__,_|\\__,_|\n",
      "                                                                           \n",
      "                 ____                 \n",
      " _   _ _ __ ___ |  _ \\  __ _ _ __ ___ \n",
      "| | | | '_ ` _ \\| | | |/ _` | '__/ _ \\\n",
      "| |_| | | | | | | |_| | (_| | | |  __/\n",
      " \\__,_|_| |_| |_|____/ \\__,_|_|  \\___|\n",
      "                                      \n",
      "\n",
      "updating ErikBrendel/LudumDare...\n",
      "Repo is up to date!\n",
      "Using precalculated structural values\n",
      "\n",
      "Results from the structural view:\n",
      "\n",
      "WeightGraph statistics: 128 nodes, 163 edges, 2 connected component(s), with sizes: [120, 8]\n",
      "Edge weights: [1, 1, 1, 1, 1] ... [1, 2, 2, 2, 2] , mean: 1.0245398773006136\n",
      "\n",
      "\n",
      "Using precalculated evolutionary values\n",
      "\n",
      "Results from the evolutionary view:\n",
      "\n",
      "WeightGraph statistics: 438 nodes, 5087 edges, 2 connected component(s), with sizes: [433, 5]\n",
      "Edge weights: [0.06451612903225806, 0.06451612903225806, 0.06451612903225806, 0.06451612903225806, 0.06451612903225806] ... [1.5405122655122654, 1.6018518518518516, 1.6366946778711484, 2.3095238095238093, 2.3665540489682364] , mean: 0.1495970119913505\n",
      "\n",
      "\n",
      "Using precalculated structural values\n",
      "Using precalculated evolutionary values\n",
      "Total node count: 482\n"
     ]
    },
    {
     "data": {
      "application/vnd.jupyter.widget-view+json": {
       "model_id": "7b8f52460b74483a9815c2dc39d5ed36",
       "version_major": 2,
       "version_minor": 0
      },
      "text/plain": [
       "HBox(children=(FloatProgress(value=0.0, description='Analyzing edges', max=115921.0, style=ProgressStyle(descr…"
      ]
     },
     "metadata": {},
     "output_type": "display_data"
    },
    {
     "name": "stdout",
     "output_type": "stream",
     "text": [
      "\n",
      "Amount of disagreements: 20976\n"
     ]
    },
    {
     "data": {
      "image/png": "[encoded data removed]",
      "text/plain": [
       "<Figure size 432x288 with 1 Axes>"
      ]
     },
     "metadata": {
      "needs_background": "light"
     },
     "output_type": "display_data"
    },
    {
     "name": "stdout",
     "output_type": "stream",
     "text": [
      "Strong nontrivial disagreements: 275\n",
      "logic/Player.java/Player/getBounding <> util/geometry/Bounding.java/Bounding  -  0.9902120552777284\n",
      "logic/Player.java/Player/getBounding <> util/geometry/Bounding.java  -  0.9902120552777284\n",
      "particles/Smoke.java/Smoke/move <> util/geometry/Point.java  -  0.9788019375772846\n",
      "particles/Smoke.java/Smoke/move <> util/geometry/Point.java/Point  -  0.9788019375772846\n",
      "particles/ParticleManager.java/ParticleManager/addEmitter <> particles/ParticleEmitter.java  -  0.9776876267748479\n",
      "logic/Layer.java/Layer/asteroids <> logic/FlyingObject.java  -  0.9715099715099715\n",
      "util/menu/MainMenu.java/MainMenu <> util/menu/Button.java  -  0.9708521478447947\n",
      "util/menu/MainMenu.java/MainMenu <> util/menu/Button.java/Button  -  0.9708521478447947\n",
      "util/menu/MainMenu.java/MainMenu/options <> util/menu/Button.java  -  0.970100990565037\n",
      "util/menu/MainMenu.java/MainMenu/start <> util/menu/Button.java  -  0.970100990565037\n",
      "\n",
      "Program is over!\n"
     ]
    }
   ],
   "source": [
    "views = [\"structural\", \"evolutionary\"] # [\"structural\", \"evolutionary\", \"linguistic\"]\n",
    "\n",
    "for repo in repos:\n",
    "    r = LocalRepo(repo)\n",
    "    print(pyfiglet.figlet_format(r.name))\n",
    "    r.update()\n",
    "    \n",
    "    # pdb.set_trace()\n",
    "    # tree = RepoTree.init_from_repo(r)\n",
    "    # print(r.get_tree())\n",
    "    \n",
    "    for view in views:\n",
    "        # MetricManager.clear(r, view)\n",
    "\n",
    "        coupling_graph = MetricManager.get(r, view)\n",
    "        coupling_graph.plaintext_save(repo)\n",
    "        # coupling_graph.html_save(repo)\n",
    "        \n",
    "        \n",
    "        #print(\"Most linked nodes:\")\n",
    "        #debug_list = sorted(list(coupling_graph.g.edges.data()), key = lambda e: -e[2][\"weight\"])\n",
    "        #print([str(info[\"weight\"]) + \": \" + a + \" <> \" + b for a, b, info in debug_list[0:10]])\n",
    "\n",
    "        print(\"\\nResults from the \" + view + \" view:\\n\")\n",
    "\n",
    "        coupling_graph.print_statistics()\n",
    "        # coupling_graph.show_weight_histogram()\n",
    "        # coupling_graph.visualize(use_spring = False, with_labels = True)\n",
    "        print(\"\\n\")\n",
    "        \n",
    "    analyze_disagreements([MetricManager.get(r, view) for view in views])\n",
    "    \n",
    "print(\"\\nProgram is over!\")"
   ]
  },
  {
   "cell_type": "code",
   "execution_count": null,
   "metadata": {},
   "outputs": [],
   "source": []
  }
 ],
 "metadata": {
  "kernelspec": {
   "display_name": "Python 3",
   "language": "python",
   "name": "python3"
  },
  "language_info": {
   "codemirror_mode": {
    "name": "ipython",
    "version": 3
   },
   "file_extension": ".py",
   "mimetype": "text/x-python",
   "name": "python",
   "nbconvert_exporter": "python",
   "pygments_lexer": "ipython3",
   "version": "3.8.1"
  }
 },
 "nbformat": 4,
 "nbformat_minor": 4
}
