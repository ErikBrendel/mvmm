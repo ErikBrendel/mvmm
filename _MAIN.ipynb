{
 "cells": [
  {
   "cell_type": "code",
   "execution_count": 1,
   "metadata": {},
   "outputs": [],
   "source": [
    "%matplotlib inline\n",
    "%run LocalRepo.ipynb\n",
    "%run repos.ipynb\n",
    "%run parsing.ipynb\n",
    "%run metrics.ipynb"
   ]
  },
  {
   "cell_type": "code",
   "execution_count": 2,
   "metadata": {},
   "outputs": [
    {
     "data": {
      "text/plain": [
       "['jenkinsci/jenkins']"
      ]
     },
     "execution_count": 2,
     "metadata": {},
     "output_type": "execute_result"
    }
   ],
   "source": [
    "repos"
   ]
  },
  {
   "cell_type": "code",
   "execution_count": 3,
   "metadata": {},
   "outputs": [],
   "source": [
    "import_query = JA_LANGUAGE.query(\"(import_declaration (scoped_identifier) @decl )\")\n",
    "def import_node_to_list(node):\n",
    "    if node.type == \"scoped_identifier\":\n",
    "        list = import_node_to_list"
   ]
  },
  {
   "cell_type": "code",
   "execution_count": 4,
   "metadata": {},
   "outputs": [
    {
     "name": "stdout",
     "output_type": "stream",
     "text": [
      "updating jenkinsci/jenkins...\n",
      "Repo is up to date!\n",
      "Extracting words...\n",
      "Found words: 7065\n",
      "Creating vectorizer...\n",
      "Training LDA...\n",
      "Generating topic output...\n",
      "Topic #0: token parameter property value user name api provider bean definition\n",
      "Topic #1: key secret value java password exception security data setter getter\n",
      "Topic #2: env launcher channel exception listener process variable rule java list\n",
      "Topic #3: url text value validation pattern validator dom console tag valid\n",
      "Topic #4: plugin update jenkins name version plugins url exception site file\n",
      "Topic #5: name override json kohsuke org message display object description model\n",
      "Topic #6: inc limit registry domain service ltd tld array hold code\n",
      "Topic #7: build project run job listener scm result trigger action exception\n",
      "Topic #8: monitor category data column statistic chart space org size count\n",
      "Topic #9: node result computer command slave cli jenkins read offline invoker\n",
      "Topic #10: link name item list descriptor jenkins permission extension model log\n",
      "Topic #11: exception user servlet context request response http security org stapler\n",
      "Topic #12: map exception java event hash entry util put miss non\n",
      "Topic #13: queue task executor label item link list node util model\n",
      "Topic #14: time range expect calendar equal tab cron date day parse\n",
      "Topic #15: page web test jenkins user html org rule client url\n",
      "Topic #16: file path exception stream dir java write output child directory\n",
      "Topic #17: authentication factory auth connection protocol authorization authenticate authenticator token password\n",
      "Topic #18: test view project org jenkins free style equal junit rule\n",
      "Topic #19: test action stapler method reachable object annotate renderable exception request\n",
      "\n",
      "Generating coupling graph...\n",
      "Most similar files:\n",
      "['1.0: test/src/test/java/jenkins/TestJnlpSlaveAgentProtocol2.java <> test/src/test/java/jenkins/TestJnlpSlaveAgentProtocol3.java', '1.0: core/src/main/java/hudson/views/DefaultMyViewsTabBar.java <> core/src/main/java/hudson/views/DefaultViewsTabBar.java', '1.0: core/src/main/java/hudson/views/MyViewsTabBarDescriptor.java <> core/src/main/java/hudson/views/ViewsTabBarDescriptor.java', '1.0: core/src/main/java/jenkins/mvn/DefaultGlobalSettingsProvider.java <> core/src/main/java/jenkins/mvn/DefaultSettingsProvider.java', '0.9999999999997851: core/src/main/java/hudson/cli/WaitNodeOfflineCommand.java <> core/src/main/java/hudson/cli/WaitNodeOnlineCommand.java', '0.9999999985788715: core/src/main/java/hudson/org/apache/tools/tar/TarInputStream.java <> core/src/main/java/hudson/org/apache/tools/tar/TarOutputStream.java', '0.9999999982520866: core/src/test/java/hudson/scheduler/CronTabDayOfWeekLocaleTest.java <> core/src/test/java/hudson/scheduler/CronTabTest.java', '0.9999999936416435: core/src/main/java/hudson/security/ChainedServletFilter.java <> core/src/main/java/jenkins/security/SuspiciousRequestFilter.java', '0.99999993328365: core/src/main/java/hudson/cli/handlers/AbstractProjectOptionHandler.java <> core/src/main/java/hudson/cli/handlers/JobOptionHandler.java', '0.9999998704085242: core/src/main/java/jenkins/org/apache/commons/validator/routines/InetAddressValidator.java <> core/src/main/java/jenkins/org/apache/commons/validator/routines/RegexValidator.java']\n",
      "Most dissimilar files:\n",
      "['2.0340762781084997e-06: core/src/main/java/hudson/util/IOUtils.java <> test/src/test/java/hudson/cli/DisconnectNodeCommandTest.java', '2.0468043240626195e-06: core/src/main/java/hudson/util/IOUtils.java <> test/src/test/java/jenkins/telemetry/impl/java11/MissingClassTelemetryFasterTest.java', '2.1346432877987426e-06: core/src/main/java/hudson/util/IOUtils.java <> core/src/main/java/jenkins/org/apache/commons/validator/routines/DomainValidator.java', '2.3146282806903504e-06: core/src/main/java/hudson/util/IOUtils.java <> core/src/test/java/hudson/scheduler/CronTabDayOfWeekLocaleTest.java', '2.446857398051751e-06: core/src/main/java/hudson/util/IOUtils.java <> core/src/test/java/hudson/scheduler/CronTabTest.java', '2.9701292616717555e-06: test/src/test/java/hudson/cli/DisconnectNodeCommandTest.java <> test/src/test/java/jenkins/telemetry/impl/java11/MissingClassTelemetryFasterTest.java', '3.0757824835250604e-06: test/src/test/java/hudson/cli/DisconnectNodeCommandTest.java <> core/src/main/java/jenkins/org/apache/commons/validator/routines/DomainValidator.java', '3.0914296405615927e-06: test/src/test/java/jenkins/telemetry/impl/java11/MissingClassTelemetryFasterTest.java <> core/src/main/java/jenkins/org/apache/commons/validator/routines/DomainValidator.java', '3.29106591394344e-06: core/src/test/java/hudson/scheduler/CronTabDayOfWeekLocaleTest.java <> test/src/test/java/hudson/cli/DisconnectNodeCommandTest.java', '3.307250182725527e-06: core/src/test/java/hudson/scheduler/CronTabDayOfWeekLocaleTest.java <> test/src/test/java/jenkins/telemetry/impl/java11/MissingClassTelemetryFasterTest.java']\n",
      "Generating histogram...\n"
     ]
    },
    {
     "data": {
      "image/png": "[encoded data removed]",
      "text/plain": [
       "<Figure size 432x288 with 1 Axes>"
      ]
     },
     "metadata": {
      "needs_background": "light"
     },
     "output_type": "display_data"
    },
    {
     "name": "stdout",
     "output_type": "stream",
     "text": [
      "Everything up to date!\n"
     ]
    }
   ],
   "source": [
    "for repo in repos:\n",
    "    r = LocalRepo(repo)\n",
    "    r.update()\n",
    "    \n",
    "    # structural = MetricsGeneration(r).calculate_structural_connections(r)\n",
    "    ling = MetricsGeneration(r).calculate_linguistic_connections()\n",
    "    continue\n",
    "    \n",
    "    found_nodes = RepoTree(\"\")\n",
    "    files = r.get_file_objects()\n",
    "    print(\"Analyzing \" + str(len(files)) + \" files...\")\n",
    "    for file_obj in files:\n",
    "        file = RepoFile(r, file_obj)\n",
    "        imports = import_query.captures(file.get_tree().root_node)\n",
    "        for import_statement in imports:\n",
    "            print(file.node_text(import_statement[0]).split(\".\"))\n",
    "        print(\"-\")\n",
    "        def handle(logic_path, node):\n",
    "            found_nodes.register(logic_path)\n",
    "        file.walk_tree(handle)\n",
    "    \n",
    "    print(\"Found \" + str(found_nodes.node_count()) + \" classes, methods and fields!\")\n",
    "    \n",
    "    with open(\"../debug-tree.json\", \"w\") as outfile:\n",
    "        outfile.write(found_nodes.to_json())\n",
    "print(\"Everything up to date!\")"
   ]
  },
  {
   "cell_type": "code",
   "execution_count": null,
   "metadata": {},
   "outputs": [],
   "source": []
  }
 ],
 "metadata": {
  "kernelspec": {
   "display_name": "Python 3",
   "language": "python",
   "name": "python3"
  },
  "language_info": {
   "codemirror_mode": {
    "name": "ipython",
    "version": 3
   },
   "file_extension": ".py",
   "mimetype": "text/x-python",
   "name": "python",
   "nbconvert_exporter": "python",
   "pygments_lexer": "ipython3",
   "version": "3.8.1"
  }
 },
 "nbformat": 4,
 "nbformat_minor": 4
}
