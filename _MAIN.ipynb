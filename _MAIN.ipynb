{
 "cells": [
  {
   "cell_type": "code",
   "execution_count": 4,
   "metadata": {},
   "outputs": [],
   "source": [
    "import logging\n",
    "import pdb\n",
    "# logging.basicConfig(level=logging.INFO)\n",
    "%matplotlib inline\n",
    "%run LocalRepo.ipynb\n",
    "%run repos.ipynb\n",
    "%run parsing.ipynb\n",
    "%run metrics.ipynb\n",
    "%run analysis.ipynb\n",
    "import pyfiglet\n",
    "import numpy as np\n",
    "# np.seterr(all='raise')"
   ]
  },
  {
   "cell_type": "code",
   "execution_count": 5,
   "metadata": {},
   "outputs": [],
   "source": [
    "repos = [\n",
    "    \"eclipse/eclipse.jdt.core\",  # from duerschmidt\n",
    "    \"ErikBrendel/LudumDare\", # 8 minutes BTM\n",
    "    \"neuland/jade4j\",\n",
    "    \"jfree/jfreechart\",\n",
    "    \"brettwooldridge/HikariCP\",  # 1.2h BTM\n",
    "    \"adamfisk/LittleProxy\",  # 1.5h BTM\n",
    "    \"dynjs/dynjs\",  # 2.5h BTM\n",
    "    # \"SonarSource/sonarqube\",  # quite big / prob. several hours BTM\n",
    "    \"square/okhttp\",\n",
    "    \"jenkinsci/jenkins\",\n",
    "    \"eclipse/che\",\n",
    "    \"elastic/elasticsearch\",\n",
    "    \"apache/camel\"\n",
    "]"
   ]
  },
  {
   "cell_type": "code",
   "execution_count": null,
   "metadata": {},
   "outputs": [
    {
     "name": "stdout",
     "output_type": "stream",
     "text": [
      "           _ _                   __        _ _                   _     _ _     \n",
      "  ___  ___| (_)_ __  ___  ___   / /__  ___| (_)_ __  ___  ___   (_) __| | |_   \n",
      " / _ \\/ __| | | '_ \\/ __|/ _ \\ / / _ \\/ __| | | '_ \\/ __|/ _ \\  | |/ _` | __|  \n",
      "|  __/ (__| | | |_) \\__ \\  __// /  __/ (__| | | |_) \\__ \\  __/_ | | (_| | |_ _ \n",
      " \\___|\\___|_|_| .__/|___/\\___/_/ \\___|\\___|_|_| .__/|___/\\___(_)/ |\\__,_|\\__(_)\n",
      "              |_|                             |_|             |__/             \n",
      "                    \n",
      "  ___ ___  _ __ ___ \n",
      " / __/ _ \\| '__/ _ \\\n",
      "| (_| (_) | | |  __/\n",
      " \\___\\___/|_|  \\___|\n",
      "                    \n",
      "\n",
      "updating eclipse/eclipse.jdt.core...\n",
      "Repo is up to date!\n",
      "Analyzing 8352 files...\n",
      "Found 88425 classes, methods and fields!\n",
      "Nodes in project structure: 88425\n",
      "Using precalculated structural values\n",
      "\n",
      "Results from the structural view:\n",
      "\n",
      "WeightGraph statistics: 16578 nodes, 27838 edges, 142 connected component(s), with sizes: [15189, 45, 43, 40, 39, 39, 39, 33, 28, 27, 26, 22, 21, 20, 20, 17, 15, 15, 14, 14]\n",
      "Edge weights: [1, 1, 1, 1, 1] ... [6, 6, 6, 6, 9] , mean: 1.047057978303039\n",
      "Node support values: [1, 1, 1, 1, 1] ... [481, 553, 599, 773, 898] , mean: 3.516467607672819\n",
      "\n",
      "\n",
      "Using precalculated evolutionary values\n",
      "\n",
      "Results from the evolutionary view:\n",
      "\n",
      "WeightGraph statistics: 26357 nodes, 320608 edges, 124 connected component(s), with sizes: [25109, 57, 45, 28, 24, 22, 20, 19, 18, 18, 18, 18, 18, 18, 18, 18, 18, 18, 17, 17]\n",
      "Edge weights: [0.04, 0.04, 0.04, 0.04, 0.04] ... [12.553046653898173, 13.390384871236387, 34.043068408043126, 34.265290630265355, 34.37846892483899] , mean: 0.11525701321257172\n",
      "Node support values: [1, 1, 1, 1, 1] ... [107, 113, 178, 186, 355] , mean: 2.1525970330462494\n",
      "\n",
      "\n",
      "Using precalculated structural values\n",
      "Using precalculated evolutionary values\n",
      "Total node count: 5804\n"
     ]
    },
    {
     "data": {
      "application/vnd.jupyter.widget-view+json": {
       "model_id": "5f638cda80974739b4e23bf57b9473a8",
       "version_major": 2,
       "version_minor": 0
      },
      "text/plain": [
       "HBox(children=(FloatProgress(value=0.0, description='Analyzing edges', max=16840306.0, style=ProgressStyle(des…"
      ]
     },
     "metadata": {},
     "output_type": "display_data"
    }
   ],
   "source": [
    "views = [\"structural\", \"evolutionary\"] # [\"structural\", \"evolutionary\", \"linguistic\"]\n",
    "for repo in repos:\n",
    "    r = LocalRepo(repo)\n",
    "    print(pyfiglet.figlet_format(r.name))\n",
    "    r.update()\n",
    "    \n",
    "    # pdb.set_trace()\n",
    "    print(\"Nodes in project structure:\", r.get_tree().node_count())\n",
    "    \n",
    "    for view in views:\n",
    "        # MetricManager.clear(r, view)\n",
    "\n",
    "        coupling_graph = MetricManager.get(r, view)\n",
    "        # coupling_graph.plaintext_save(repo)\n",
    "        # coupling_graph.html_save(repo)\n",
    "        \n",
    "\n",
    "        print(\"\\nResults from the \" + view + \" view:\\n\")\n",
    "\n",
    "        coupling_graph.print_statistics()\n",
    "        # coupling_graph.print_most_linked_nodes()\n",
    "        # coupling_graph.show_weight_histogram()\n",
    "        # coupling_graph.visualize(use_spring=False, with_labels=False)\n",
    "        print(\"\\n\")\n",
    "        \n",
    "    #analyze_disagreements([MetricManager.get(r, view) for view in [\"structural\", \"evolutionary\", \"linguistic\"]], [\n",
    "    #    [0, 1, None, \"duplicated functionality that gets adjusted together\"],\n",
    "    #    [0, 0, 1, \"duplicated concepts, developed separately\"],\n",
    "    #    [None, 0, 1, \"duplicated concepts, adjusted separately\"],\n",
    "    #    [1, None, 0, \"weakly modularized code\"]\n",
    "    #])\n",
    "    analyze_disagreements([MetricManager.get(r, view) for view in [\"structural\", \"evolutionary\"]], [\n",
    "        [0, 1, \"duplicated functionality that gets adjusted together\"],\n",
    "    ])\n",
    "    \n",
    "print(\"\\nProgram is over!\")"
   ]
  },
  {
   "cell_type": "code",
   "execution_count": null,
   "metadata": {},
   "outputs": [],
   "source": []
  }
 ],
 "metadata": {
  "kernelspec": {
   "display_name": "Python 3",
   "language": "python",
   "name": "python3"
  },
  "language_info": {
   "codemirror_mode": {
    "name": "ipython",
    "version": 3
   },
   "file_extension": ".py",
   "mimetype": "text/x-python",
   "name": "python",
   "nbconvert_exporter": "python",
   "pygments_lexer": "ipython3",
   "version": "3.8.1"
  }
 },
 "nbformat": 4,
 "nbformat_minor": 4
}
