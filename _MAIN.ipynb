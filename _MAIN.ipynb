{
 "cells": [
  {
   "cell_type": "code",
   "execution_count": 1,
   "metadata": {},
   "outputs": [],
   "source": [
    "%matplotlib inline\n",
    "%run LocalRepo.ipynb\n",
    "%run repos.ipynb\n",
    "%run parsing.ipynb\n",
    "%run metrics.ipynb"
   ]
  },
  {
   "cell_type": "code",
   "execution_count": 2,
   "metadata": {},
   "outputs": [
    {
     "data": {
      "text/plain": [
       "['square/okhttp']"
      ]
     },
     "execution_count": 2,
     "metadata": {},
     "output_type": "execute_result"
    }
   ],
   "source": [
    "repos"
   ]
  },
  {
   "cell_type": "code",
   "execution_count": 3,
   "metadata": {},
   "outputs": [],
   "source": [
    "import_query = JA_LANGUAGE.query(\"(import_declaration (scoped_identifier) @decl )\")\n",
    "def import_node_to_list(node):\n",
    "    if node.type == \"scoped_identifier\":\n",
    "        list = import_node_to_list"
   ]
  },
  {
   "cell_type": "code",
   "execution_count": 4,
   "metadata": {},
   "outputs": [
    {
     "name": "stdout",
     "output_type": "stream",
     "text": [
      "updating square/okhttp...\n",
      "Done!\n",
      "import RESOLVED: okhttp3.internal.http.RecordingProxySelector\n",
      "import RESOLVED: okhttp3.internal.DoubleInetAddressDns\n",
      "import RESOLVED: okhttp3.internal.RecordingOkAuthenticator\n",
      "import RESOLVED: okhttp3.internal.http.RecordingProxySelector\n",
      "import RESOLVED: okhttp3.internal.RecordingOkAuthenticator\n",
      "import RESOLVED: okhttp3.internal.DoubleInetAddressDns\n",
      "import RESOLVED: okhttp3.internal.RecordingOkAuthenticator\n",
      "import RESOLVED: okhttp3.internal.RecordingAuthenticator\n",
      "import RESOLVED: okhttp3.internal.RecordingOkAuthenticator\n",
      "import RESOLVED: okhttp3.DelegatingSSLSocket\n",
      "import RESOLVED: okhttp3.DelegatingSSLSocketFactory\n",
      "import RESOLVED: okhttp3.internal.http2.hpackjson.Story\n",
      "import RESOLVED: okhttp3.internal.http2.hpackjson.Case\n",
      "import RESOLVED: okhttp3.internal.http2.hpackjson.HpackJsonUtil\n",
      "import RESOLVED: okhttp3.internal.http2.hpackjson.Story\n",
      "import RESOLVED: okhttp3.internal.http2.hpackjson.Case\n",
      "import RESOLVED: okhttp3.internal.http2.hpackjson.Story\n",
      "import RESOLVED: okhttp3.internal.RecordingOkAuthenticator\n",
      "import RESOLVED: okhttp3.internal.http.RecordingProxySelector\n",
      "import RESOLVED: okhttp3.DelegatingServerSocketFactory\n",
      "import RESOLVED: okhttp3.DelegatingSocketFactory\n",
      "import RESOLVED: okhttp3.TestLogHandler\n",
      "import RESOLVED: okhttp3.internal.DoubleInetAddressDns\n",
      "import RESOLVED: okhttp3.internal.RecordingOkAuthenticator\n",
      "import RESOLVED: okhttp3.DelegatingSSLSocket\n",
      "import RESOLVED: okhttp3.TestLogHandler\n",
      "<__main__.WeightGraph object at 0x7f40d0621a00>\n",
      "Everything up to date!\n"
     ]
    }
   ],
   "source": [
    "for repo in repos:\n",
    "    r = LocalRepo(repo)\n",
    "    r.update()\n",
    "    \n",
    "    structural = calculate_structural_connections(r)\n",
    "    continue\n",
    "    \n",
    "    found_nodes = RepoTree(\"\")\n",
    "    files = r.get_file_objects()\n",
    "    print(\"Analyzing \" + str(len(files)) + \" files...\")\n",
    "    for file_obj in files:\n",
    "        file = RepoFile(r, file_obj)\n",
    "        imports = import_query.captures(file.get_tree().root_node)\n",
    "        for import_statement in imports:\n",
    "            print(file.node_text(import_statement[0]).split(\".\"))\n",
    "        print(\"-\")\n",
    "        def handle(logic_path, node):\n",
    "            found_nodes.register(logic_path)\n",
    "        file.walk_tree(handle)\n",
    "    \n",
    "    print(\"Found \" + str(found_nodes.node_count()) + \" classes, methods and fields!\")\n",
    "    \n",
    "    with open(\"../debug-tree.json\", \"w\") as outfile:\n",
    "        outfile.write(found_nodes.to_json())\n",
    "print(\"Everything up to date!\")"
   ]
  },
  {
   "cell_type": "code",
   "execution_count": null,
   "metadata": {},
   "outputs": [],
   "source": []
  }
 ],
 "metadata": {
  "kernelspec": {
   "display_name": "Python 3",
   "language": "python",
   "name": "python3"
  },
  "language_info": {
   "codemirror_mode": {
    "name": "ipython",
    "version": 3
   },
   "file_extension": ".py",
   "mimetype": "text/x-python",
   "name": "python",
   "nbconvert_exporter": "python",
   "pygments_lexer": "ipython3",
   "version": "3.8.1"
  }
 },
 "nbformat": 4,
 "nbformat_minor": 4
}
