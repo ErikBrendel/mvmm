{
 "cells": [
  {
   "cell_type": "code",
   "execution_count": 1,
   "metadata": {},
   "outputs": [],
   "source": [
    "%matplotlib inline\n",
    "%run LocalRepo.ipynb\n",
    "%run repos.ipynb\n",
    "%run parsing.ipynb\n",
    "%run metrics.ipynb"
   ]
  },
  {
   "cell_type": "code",
   "execution_count": 2,
   "metadata": {},
   "outputs": [
    {
     "data": {
      "text/plain": [
       "['jenkinsci/jenkins']"
      ]
     },
     "execution_count": 2,
     "metadata": {},
     "output_type": "execute_result"
    }
   ],
   "source": [
    "repos"
   ]
  },
  {
   "cell_type": "code",
   "execution_count": 3,
   "metadata": {},
   "outputs": [],
   "source": [
    "import_query = JA_LANGUAGE.query(\"(import_declaration (scoped_identifier) @decl )\")\n",
    "def import_node_to_list(node):\n",
    "    if node.type == \"scoped_identifier\":\n",
    "        list = import_node_to_list"
   ]
  },
  {
   "cell_type": "code",
   "execution_count": 4,
   "metadata": {},
   "outputs": [
    {
     "name": "stdout",
     "output_type": "stream",
     "text": [
      "updating jenkinsci/jenkins...\n",
      "Done!\n",
      "Extracting words...\n",
      "Found words: 7062\n",
      "Creating vectorizer...\n",
      "Training LDA...\n",
      "Generating result output...\n",
      "Topic #0: label context category icon org expression tag jelly description chart\n",
      "Topic #1: build item project job run action result list name model\n",
      "Topic #2: request url response stapler jenkins http exception page web req\n",
      "Topic #3: stream command exception output read cli java args input result\n",
      "Topic #4: channel agent protocol exception slave java socket registry connection jnlp\n",
      "Topic #5: view node computer slave jenkins name offline result cause label\n",
      "Topic #6: list descriptor link extension name object method java extend util\n",
      "Topic #7: user security key property secret realm exception authentication password seed\n",
      "Topic #8: log logger exception filter level java name jenkins util servlet\n",
      "Topic #9: plugin update version jenkins plugins name site json center job\n",
      "Topic #10: token api text search page stats use history list legacy\n",
      "Topic #11: map entry value key env list range hash variable util\n",
      "Topic #12: test rule org jenkins free style project equal create junit\n",
      "Topic #13: expect calendar inc tab cron limit time ltd tld cal\n",
      "Topic #14: executor task time queue link thread lock start unit util\n",
      "Topic #15: test stapler crumb reachable annotate strategy org console renderable signature\n",
      "Topic #16: name path file link permission exception item group non url\n",
      "Topic #17: scm trigger listener workspace change decision project poll exception quiet\n",
      "Topic #18: test xml stream name converter resource mapper mock loader org\n",
      "Topic #19: file path exception dir folder test root org java util\n",
      "\n",
      "Everything up to date!\n"
     ]
    }
   ],
   "source": [
    "for repo in repos:\n",
    "    r = LocalRepo(repo)\n",
    "    r.update()\n",
    "    \n",
    "    # structural = MetricsGeneration(r).calculate_structural_connections(r)\n",
    "    ling = MetricsGeneration(r).calculate_linguistic_connections()\n",
    "    continue\n",
    "    \n",
    "    found_nodes = RepoTree(\"\")\n",
    "    files = r.get_file_objects()\n",
    "    print(\"Analyzing \" + str(len(files)) + \" files...\")\n",
    "    for file_obj in files:\n",
    "        file = RepoFile(r, file_obj)\n",
    "        imports = import_query.captures(file.get_tree().root_node)\n",
    "        for import_statement in imports:\n",
    "            print(file.node_text(import_statement[0]).split(\".\"))\n",
    "        print(\"-\")\n",
    "        def handle(logic_path, node):\n",
    "            found_nodes.register(logic_path)\n",
    "        file.walk_tree(handle)\n",
    "    \n",
    "    print(\"Found \" + str(found_nodes.node_count()) + \" classes, methods and fields!\")\n",
    "    \n",
    "    with open(\"../debug-tree.json\", \"w\") as outfile:\n",
    "        outfile.write(found_nodes.to_json())\n",
    "print(\"Everything up to date!\")"
   ]
  },
  {
   "cell_type": "code",
   "execution_count": null,
   "metadata": {},
   "outputs": [],
   "source": []
  }
 ],
 "metadata": {
  "kernelspec": {
   "display_name": "Python 3",
   "language": "python",
   "name": "python3"
  },
  "language_info": {
   "codemirror_mode": {
    "name": "ipython",
    "version": 3
   },
   "file_extension": ".py",
   "mimetype": "text/x-python",
   "name": "python",
   "nbconvert_exporter": "python",
   "pygments_lexer": "ipython3",
   "version": "3.8.1"
  }
 },
 "nbformat": 4,
 "nbformat_minor": 4
}
