{
 "cells": [
  {
   "cell_type": "code",
   "execution_count": 1,
   "metadata": {},
   "outputs": [],
   "source": [
    "import logging\n",
    "import pdb\n",
    "# logging.basicConfig(level=logging.INFO)\n",
    "%matplotlib inline\n",
    "%run LocalRepo.ipynb\n",
    "%run repos.ipynb\n",
    "%run parsing.ipynb\n",
    "%run metrics.ipynb\n",
    "%run analysis.ipynb\n",
    "import pyfiglet"
   ]
  },
  {
   "cell_type": "code",
   "execution_count": 2,
   "metadata": {},
   "outputs": [],
   "source": [
    "repos = [\n",
    "    # \"ErikBrendel/LudumDare\",\n",
    "    \"jfree/jfreechart\"\n",
    "]\n",
    "# = [\n",
    "    # \"square/okhttp\",\n",
    "    # \"jenkinsci/jenkins\",\n",
    "    # \"eclipse/che\",\n",
    "    # \"elastic/elasticsearch\",\n",
    "    # \"apache/camel\"\n",
    "#]"
   ]
  },
  {
   "cell_type": "code",
   "execution_count": 3,
   "metadata": {},
   "outputs": [
    {
     "name": "stdout",
     "output_type": "stream",
     "text": [
      "   _  __                  ___  __                    _                _   \n",
      "  (_)/ _|_ __ ___  ___   / (_)/ _|_ __ ___  ___  ___| |__   __ _ _ __| |_ \n",
      "  | | |_| '__/ _ \\/ _ \\ / /| | |_| '__/ _ \\/ _ \\/ __| '_ \\ / _` | '__| __|\n",
      "  | |  _| | |  __/  __// / | |  _| | |  __/  __/ (__| | | | (_| | |  | |_ \n",
      " _/ |_| |_|  \\___|\\___/_/ _/ |_| |_|  \\___|\\___|\\___|_| |_|\\__,_|_|   \\__|\n",
      "|__/                     |__/                                             \n",
      "\n",
      "updating jfree/jfreechart...\n",
      "Repo is up to date!\n",
      "Using precalculated structural values\n",
      "\n",
      "Results from the structural view:\n",
      "\n",
      "WeightGraph statistics: 2608 nodes, 4995 edges, 22 connected component(s), with sizes: [2452, 7, 11, 5, 7, 6, 15, 5, 5, 6, 8, 6, 5, 5, 6, 11, 5, 12, 12, 5, 7, 7]\n",
      "Edge weights: [1, 1, 1, 1, 1] ... [2, 2, 2, 3, 3] , mean: 1.0216216216216216\n",
      "\n",
      "\n",
      "Using precalculated evolutionary values\n",
      "\n",
      "Results from the evolutionary view:\n",
      "\n",
      "WeightGraph statistics: 7846 nodes, 99947 edges, 95 connected component(s), with sizes: [6376, 6, 6, 15, 10, 20, 15, 17, 11, 27, 12, 6, 5, 5, 9, 13, 6, 30, 6, 7, 11, 5, 6, 6, 6, 11, 7, 7, 6, 22, 15, 6, 53, 14, 11, 5, 5, 33, 12, 8, 21, 29, 18, 11, 7, 5, 12, 6, 16, 23, 22, 23, 42, 9, 50, 7, 43, 12, 33, 21, 12, 6, 5, 12, 42, 21, 7, 30, 8, 11, 20, 35, 27, 70, 7, 31, 11, 9, 18, 9, 46, 16, 7, 23, 5, 5, 12, 7, 14, 13, 14, 16, 5, 6, 5]\n",
      "Edge weights: [0.04, 0.04, 0.04, 0.04, 0.04] ... [9.666666666666668, 11.333333333333334, 18.652380952380952, 20.833333333333282, 23.56813186813187] , mean: 0.09632105015658297\n",
      "\n",
      "\n",
      "Using precalculated structural values\n",
      "Using precalculated evolutionary values\n",
      "Total node count: 10131\n"
     ]
    },
    {
     "data": {
      "application/vnd.jupyter.widget-view+json": {
       "model_id": "915e918e35004d08aca7024b7d156c5b",
       "version_major": 2,
       "version_minor": 0
      },
      "text/plain": [
       "HBox(children=(FloatProgress(value=0.0, description='Analyzing edges', max=51313515.0, style=ProgressStyle(des…"
      ]
     },
     "metadata": {},
     "output_type": "display_data"
    },
    {
     "name": "stdout",
     "output_type": "stream",
     "text": [
      "\n",
      "Amount of disagreements: 240720 which is 0.23% of all edges\n"
     ]
    },
    {
     "data": {
      "image/png": "[encoded data removed]",
      "text/plain": [
       "<Figure size 432x288 with 1 Axes>"
      ]
     },
     "metadata": {
      "needs_background": "light"
     },
     "output_type": "display_data"
    },
    {
     "name": "stdout",
     "output_type": "stream",
     "text": [
      "Strong nontrivial disagreements: 398\n",
      "src/main/java/org/jfree/chart/ChartFactory.java/ChartFactory/createXYAreaChart <> src/main/java/org/jfree/chart/JFreeChart.java/JFreeChart  -  0.9687643546164446\n",
      "src/main/java/org/jfree/chart/MouseWheelHandler.java/MouseWheelHandler/chartPanel <> src/main/java/org/jfree/chart/ChartPanel.java/ChartPanel  -  0.9500000000000001\n",
      "source/org/jfree/chart/axis/DateTickUnitType.java <> source/org/jfree/chart/axis/DateTickUnit.java/DateTickUnit  -  0.9411764705882353\n",
      "tests/org/jfree/data/general/DefaultPieDatasetTest.java/DefaultPieDatasetTest/datasetChanged <> tests/org/jfree/data/general/TestIntervalCategoryDataset.java/TestIntervalCategoryDataset  -  0.9333333333333333\n",
      "tests/org/jfree/data/general/DefaultHeatMapDatasetTest.java/DefaultHeatMapDatasetTest/datasetChanged <> tests/org/jfree/data/general/TestIntervalCategoryDataset.java/TestIntervalCategoryDataset  -  0.9333333333333333\n",
      "tests/org/jfree/chart/plot/junit/FastScatterPlotTests.java/FastScatterPlotTests/testEquals <> source/org/jfree/chart/plot/FastScatterPlot.java/FastScatterPlot  -  0.9166666666666667\n",
      "src/main/java/org/jfree/chart/panel/CrosshairOverlay.java/CrosshairOverlay <> src/main/java/org/jfree/chart/plot/Crosshair.java  -  0.9166666666666666\n",
      "src/test/java/org/jfree/chart/renderer/category/BoxAndWhiskerRendererTest.java/BoxAndWhiskerRendererTest/testEquals <> src/main/java/org/jfree/chart/renderer/category/BoxAndWhiskerRenderer.java/BoxAndWhiskerRenderer  -  0.9090909090909091\n",
      "tests/org/jfree/chart/renderer/category/WaterfallBarRendererTest.java/WaterfallBarRendererTest <> tests/org/jfree/chart/renderer/category/BoxAndWhiskerRendererTest.java/BoxAndWhiskerRendererTest  -  0.9\n",
      "tests/org/jfree/chart/renderer/category/StackedBarRenderer3DTest.java/StackedBarRenderer3DTest/MyRenderer/createStackedValueList <> tests/org/jfree/chart/renderer/category/BoxAndWhiskerRendererTest.java/BoxAndWhiskerRendererTest  -  0.9\n",
      "\n",
      "Program is over!\n"
     ]
    }
   ],
   "source": [
    "views = [\"structural\", \"evolutionary\"] # [\"structural\", \"evolutionary\", \"linguistic\"]\n",
    "\n",
    "for repo in repos:\n",
    "    r = LocalRepo(repo)\n",
    "    print(pyfiglet.figlet_format(r.name))\n",
    "    r.update()\n",
    "    \n",
    "    # pdb.set_trace()\n",
    "    # tree = RepoTree.init_from_repo(r)\n",
    "    # print(r.get_tree())\n",
    "    \n",
    "    for view in views:\n",
    "        # MetricManager.clear(r, view)\n",
    "\n",
    "        coupling_graph = MetricManager.get(r, view)\n",
    "        coupling_graph.plaintext_save(repo)\n",
    "        # coupling_graph.html_save(repo)\n",
    "        \n",
    "        \n",
    "        #print(\"Most linked nodes:\")\n",
    "        #debug_list = sorted(list(coupling_graph.g.edges.data()), key = lambda e: -e[2][\"weight\"])\n",
    "        #print([str(info[\"weight\"]) + \": \" + a + \" <> \" + b for a, b, info in debug_list[0:10]])\n",
    "\n",
    "        print(\"\\nResults from the \" + view + \" view:\\n\")\n",
    "\n",
    "        coupling_graph.print_statistics()\n",
    "        # coupling_graph.show_weight_histogram()\n",
    "        # coupling_graph.visualize(use_spring = False, with_labels = True)\n",
    "        print(\"\\n\")\n",
    "        \n",
    "    analyze_disagreements([MetricManager.get(r, view) for view in views])\n",
    "    \n",
    "print(\"\\nProgram is over!\")"
   ]
  },
  {
   "cell_type": "code",
   "execution_count": null,
   "metadata": {},
   "outputs": [],
   "source": []
  }
 ],
 "metadata": {
  "kernelspec": {
   "display_name": "Python 3",
   "language": "python",
   "name": "python3"
  },
  "language_info": {
   "codemirror_mode": {
    "name": "ipython",
    "version": 3
   },
   "file_extension": ".py",
   "mimetype": "text/x-python",
   "name": "python",
   "nbconvert_exporter": "python",
   "pygments_lexer": "ipython3",
   "version": "3.8.1"
  }
 },
 "nbformat": 4,
 "nbformat_minor": 4
}
