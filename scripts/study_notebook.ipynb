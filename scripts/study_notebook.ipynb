{
 "cells": [
  {
   "cell_type": "code",
   "execution_count": 1,
   "id": "220d6bd1-a1f2-445c-8ef4-f3e45c019f59",
   "metadata": {
    "tags": []
   },
   "outputs": [
    {
     "data": {
      "application/vnd.jupyter.widget-view+json": {
       "model_id": "81ac17d1df3f4c5b97e754d494699880",
       "version_major": 2,
       "version_minor": 0
      },
      "text/plain": [
       "interactive(children=(Text(value='erik', description='name'), Dropdown(description='dataset', options=(None, '…"
      ]
     },
     "metadata": {},
     "output_type": "display_data"
    }
   ],
   "source": [
    "import os\n",
    "from IPython.display import display\n",
    "from ipywidgets import interact, interact_manual\n",
    "import ipywidgets as widgets\n",
    "from study_common import *\n",
    "from study_notebook_helper import *\n",
    "\n",
    "study_datasets = os.listdir(STUDY_RESULTS_PATH)\n",
    "@interact(dataset=[None] + study_datasets)\n",
    "def main(name=\"erik\", dataset=None):\n",
    "    if len(name) == 0:\n",
    "        print(\"Please choose a name / id for the study\")\n",
    "        return\n",
    "    if dataset is None:\n",
    "        print(\"Hey \" + name + \", please chose a dataset\")\n",
    "        return\n",
    "    print(name + \" is doing \" + str(dataset) + (\"\\n\" * 10))\n",
    "    study: STUDY_TYPE = None\n",
    "    with open(STUDY_RESULTS_PATH + dataset, \"rb\") as data_file:\n",
    "        study = pickle.load(data_file)\n",
    "    random.Random(name).shuffle(study[1])  # shuffle study entries seeded by participant name\n",
    "    r = LocalRepo(study[0])\n",
    "    print_html(\"<h1>Study Time!</h1>\")\n",
    "    print(\"\\n\" * 10)\n",
    "    code = \"\"\"class ExampleClass {\n",
    "    /**\n",
    "     * Sets the insets for the axis label, and sends an {@link AxisChangeEvent}\n",
    "     * to all registered listeners.\n",
    "     *\n",
    "     * @param insets  the insets ({@code null} not permitted).\n",
    "     * @param notify  notify listeners?\n",
    "     */\n",
    "    public void setLabelInsets(RectangleInsets insets, boolean notify) {\n",
    "        Args.nullNotPermitted(insets, \"insets\");\n",
    "        if (!insets.equals(this.labelInsets)) {\n",
    "            this.labelInsets = insets;\n",
    "            if (notify) {\n",
    "                fireChangeEvent();\n",
    "            }\n",
    "        }\n",
    "    }\n",
    "}\n",
    "    \"\"\"\n",
    "    print_html(f\"\"\"\n",
    "You will be shown multiple methods from the <a href=\"{r.url()}\" target=\"_blank\" style=\"color: blue\">{study[0]}</a> repository.\n",
    "Take a close look at the two presented snippets of code.\n",
    "Consider everything, not only the statements, but also variable naming, comments,\n",
    "location of this snippet within the project, editing history, and relations with other code.\n",
    "Then, please select how closely the presented phrases describe this pair of code pieces.\n",
    "<input type=\"button\" value=\"test-btn\" onclick=\"alert(Prism)\">\n",
    "{PRISM_HIGHLIGHTING}\n",
    "<pre><code class=\"language-clike\">{code}</code></pre>\n",
    "<pre><code class=\"language-java\">{code}</code></pre>\n",
    "    \"\"\")"
   ]
  },
  {
   "cell_type": "code",
   "execution_count": null,
   "id": "527807f0-50e8-4fee-b3c4-cabcbccdbba0",
   "metadata": {},
   "outputs": [],
   "source": []
  }
 ],
 "metadata": {
  "kernelspec": {
   "display_name": "PyPy3",
   "language": "python",
   "name": "pypy3"
  },
  "language_info": {
   "codemirror_mode": {
    "name": "ipython",
    "version": 3
   },
   "file_extension": ".py",
   "mimetype": "text/x-python",
   "name": "python",
   "nbconvert_exporter": "python",
   "pygments_lexer": "ipython3",
   "version": "3.9.6"
  }
 },
 "nbformat": 4,
 "nbformat_minor": 5
}