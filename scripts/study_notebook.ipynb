{
 "cells": [
  {
   "cell_type": "code",
   "execution_count": 1,
   "id": "791f02c5-98e3-4d47-9f8e-7e23679c8344",
   "metadata": {
    "jupyter": {
     "source_hidden": true
    },
    "tags": []
   },
   "outputs": [],
   "source": [
    "statements = [\n",
    "    \"The code snippets are related\",\n",
    "    \"The code snippets are part of the same module\",\n",
    "    \"The code snippets contain duplicated code\",\n",
    "    \"The code snippets contain similar logic\",\n",
    "    \"The code snippets are responsible for similar tasks\",\n",
    "    \"The code snippets are on the same level of abstraction\",\n",
    "    \"There are obvious software architecture problems here\",\n",
    "    \"This should probably be refactored\",\n",
    "    \"I would want to refactor this\",\n",
    "    \"This will be easy to refactor\",\n",
    "    \"This could likely lead to bugs in the future\",\n",
    "]"
   ]
  },
  {
   "cell_type": "code",
   "execution_count": 2,
   "id": "220d6bd1-a1f2-445c-8ef4-f3e45c019f59",
   "metadata": {
    "tags": []
   },
   "outputs": [
    {
     "data": {
      "application/vnd.jupyter.widget-view+json": {
       "model_id": "767dc865817140e59971d43726d5e851",
       "version_major": 2,
       "version_minor": 0
      },
      "text/plain": [
       "interactive(children=(Text(value='erik', description='name'), Dropdown(description='dataset', options=('junit-…"
      ]
     },
     "metadata": {},
     "output_type": "display_data"
    },
    {
     "name": "stdout",
     "output_type": "stream",
     "text": [
      "Done!\n"
     ]
    }
   ],
   "source": [
    "import os\n",
    "from datetime import datetime\n",
    "from IPython.display import display\n",
    "from ipywidgets import interact, interact_manual\n",
    "import ipywidgets as widgets\n",
    "from study_common import *\n",
    "from study_notebook_helper import *\n",
    "\n",
    "study_datasets = os.listdir(STUDY_RESULTS_PATH)\n",
    "# @interact(dataset=[None] + study_datasets)\n",
    "@interact(dataset=study_datasets)\n",
    "def main(name=\"erik\", dataset=study_datasets[0]):\n",
    "    if len(name) == 0:\n",
    "        print(\"Please choose a name / id for the study\")\n",
    "        return\n",
    "    if dataset is None:\n",
    "        print(\"Hey \" + name + \", please chose a dataset\")\n",
    "        return\n",
    "    print(name + \" is doing \" + str(dataset) + (\"\\n\" * 15))\n",
    "    study: STUDY_TYPE = None\n",
    "    with open(STUDY_RESULTS_PATH + dataset, \"rb\") as data_file:\n",
    "        study = pickle.load(data_file)\n",
    "    random.Random(name).shuffle(study[1])  # shuffle study entries seeded by participant name\n",
    "    r = LocalRepo(study[0])\n",
    "    print_html(\"<h1>Study Time!</h1>\")\n",
    "    print(\"\\n\" * 5)\n",
    "    \n",
    "    current_study_slider = widgets.IntSlider(\n",
    "        value=0, min=0, max=len(study[1]), step=1,\n",
    "        description='Entry:',\n",
    "        continuous_update=True,\n",
    "        orientation='horizontal',\n",
    "        readout=True,\n",
    "        readout_format='d',\n",
    "        layout={'width': '900px'}\n",
    "    )\n",
    "    @interact(current_study_entry_index=current_study_slider)\n",
    "    def show_entry(current_study_entry_index):\n",
    "        print_html(\"\"\"<script>document.getElementsByClassName(\"jp-Notebook\")[0].scrollTop = 350;</script>\"\"\")\n",
    "        if current_study_entry_index >= len(study[1]):\n",
    "            print_html(\"<h1>You did it!</h1>\")\n",
    "            return\n",
    "        study_entry = study[1][current_study_entry_index]\n",
    "        pattern = study_entry[0]\n",
    "        m0 = study_entry[1]\n",
    "        m1 = study_entry[2]\n",
    "        commits = study_entry[3]\n",
    "        commit_cells: List[str] = []\n",
    "        commit_empty_cell = '<td style=\"border: 1px solid black; background-color: #aaa; width: 50%\"></td>'\n",
    "        for c in commits:\n",
    "            # 0 message, 1 author, 2 date, 3 hexsha, 4 [0 files, 1 additions, 2 deletions], 5 belongs to method 1, 6 belongs to method 2\n",
    "            datestring = datetime.utcfromtimestamp(c[2]).strftime('%Y-%m-%d')\n",
    "            commit_cells.append(f\"\"\"<tr>\n",
    "                {commit_empty_cell if not c[5] else \"\"}\n",
    "                <td{' colspan=\"2\"' if c[5] and c[6] else \"\"} style=\"border: 1px solid black;\"><center>\n",
    "                    {c[1]}: <a href=\"https://github.com/{r.name}/commit/{c[3]}\" target=\"_blank\">{c[0]}</a><br>\n",
    "                    <span style=\"font-family: monospace\">\n",
    "                        {\"{:,}\".format(c[4][0])} changed files:\n",
    "                        <span style=\"color:green\">+{\"{:,}\".format(c[4][1])}</span>\n",
    "                        <span style=\"color:red\">-{\"{:,}\".format(c[4][2])}</span>,\n",
    "                        created on {datestring}\n",
    "                    </span>\n",
    "                </center></td>\n",
    "                {commit_empty_cell if not c[6] else \"\"}\n",
    "                </tr>\"\"\")\n",
    "\n",
    "        print_html(f\"\"\"{PRISM_HIGHLIGHTING}{OWN_STYLE}\n",
    "            You will be shown multiple methods from the <a href=\"{r.url()}\" target=\"_blank\" style=\"color: blue\">{study[0]}</a> repository.\n",
    "            Take a close look at the two presented snippets of code.\n",
    "            Consider everything, not only the statements, but also variable naming, comments,\n",
    "            location of this snippet within the project, editing history, and relations with other code.\n",
    "            Then, please select how closely the presented phrases describe this pair of code pieces.\n",
    "            <br><br><br><br>\n",
    "            <table border=\"1\">\n",
    "              <tr>\n",
    "                <td>{path_html(r, m0[0])}</td> \n",
    "                <td>{path_html(r, m1[0])}</td>\n",
    "              </tr>\n",
    "              <tr>\n",
    "                <td><pre><code class=\"language-java\">{m0[1]}</code></pre></td>\n",
    "                <td><pre><code class=\"language-java\">{m1[1]}</code></pre></td>\n",
    "              </tr>\n",
    "              <tr><td colspan=\"2\"><center>And here are the commits: {len(commits)}</center></td></tr>\n",
    "              <tr><td colspan=\"2\">\n",
    "                  <div style=\"overflow-y: scroll; height:400px;\">\n",
    "                  <table>{\"\".join(commit_cells)}</table>\n",
    "                  </div>\n",
    "              </td></tr>\n",
    "            </table>\n",
    "        \"\"\")\n",
    "\n",
    "        print_html(\"<br><h2>Please chose, how strongly these statements apply to the given pair of methods:</h2><br>\")\n",
    "\n",
    "        print_html(HORIZONTAL_RADIO_BUTTONS)\n",
    "        print_html(\"<style>.widget-radio > .widget-label {width: 500px;}</style>\")\n",
    "        vote_options = ['Applies strongly', 'Applies partially', 'Does not apply']\n",
    "        buttons = {\n",
    "            str(i):\n",
    "            # widgets.Box([\n",
    "            #     widgets.Label(value='Pizza topping with a very long label:'),\n",
    "                widgets.RadioButtons(options=vote_options, description=statement + \":\")\n",
    "            # ])\n",
    "            for i, statement in enumerate(statements)\n",
    "        }\n",
    "        @interact(**buttons)\n",
    "        def vote(**kwargs):\n",
    "            print(\"Saving...\", end=\"\")\n",
    "            import time\n",
    "            time.sleep(0.5)\n",
    "            print(\"Done! Fake :D\")\n",
    "            for index_str, value in kwargs.items():\n",
    "                print(index_str, statements[int(index_str)], value, 1 - vote_options.index(value))\n",
    "            print(kwargs)\n",
    "        def next(btn):\n",
    "            current_study_slider.value += 1\n",
    "\n",
    "        button = widgets.Button(\n",
    "            description='Click me',\n",
    "            button_style='success', # 'success', 'info', 'warning', 'danger' or ''\n",
    "            tooltip='Click me',\n",
    "            icon='forward' # (FontAwesome names without the `fa-` prefix)\n",
    "        )\n",
    "        button.on_click(next)\n",
    "        display(button)\n",
    "    \n",
    "print(\"Done!\")"
   ]
  },
  {
   "cell_type": "code",
   "execution_count": null,
   "id": "527807f0-50e8-4fee-b3c4-cabcbccdbba0",
   "metadata": {},
   "outputs": [],
   "source": []
  }
 ],
 "metadata": {
  "kernelspec": {
   "display_name": "PyPy3",
   "language": "python",
   "name": "pypy3"
  },
  "language_info": {
   "codemirror_mode": {
    "name": "ipython",
    "version": 3
   },
   "file_extension": ".py",
   "mimetype": "text/x-python",
   "name": "python",
   "nbconvert_exporter": "python",
   "pygments_lexer": "ipython3",
   "version": "3.9.6"
  }
 },
 "nbformat": 4,
 "nbformat_minor": 5
}
