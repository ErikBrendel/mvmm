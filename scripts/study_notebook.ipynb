{
 "cells": [
  {
   "cell_type": "code",
   "execution_count": 15,
   "id": "220d6bd1-a1f2-445c-8ef4-f3e45c019f59",
   "metadata": {
    "tags": []
   },
   "outputs": [
    {
     "data": {
      "application/vnd.jupyter.widget-view+json": {
       "model_id": "12bc5979bc2b447d9dc5584aab378147",
       "version_major": 2,
       "version_minor": 0
      },
      "text/plain": [
       "interactive(children=(Text(value='erik', description='name'), Dropdown(description='dataset', options=(None, '…"
      ]
     },
     "metadata": {},
     "output_type": "display_data"
    }
   ],
   "source": [
    "import os\n",
    "from datetime import datetime\n",
    "from IPython.display import display\n",
    "from ipywidgets import interact, interact_manual\n",
    "import ipywidgets as widgets\n",
    "from study_common import *\n",
    "from study_notebook_helper import *\n",
    "\n",
    "study_datasets = os.listdir(STUDY_RESULTS_PATH)\n",
    "@interact(dataset=[None] + study_datasets)\n",
    "def main(name=\"erik\", dataset=None):\n",
    "    if len(name) == 0:\n",
    "        print(\"Please choose a name / id for the study\")\n",
    "        return\n",
    "    if dataset is None:\n",
    "        print(\"Hey \" + name + \", please chose a dataset\")\n",
    "        return\n",
    "    print(name + \" is doing \" + str(dataset) + (\"\\n\" * 10))\n",
    "    study: STUDY_TYPE = None\n",
    "    with open(STUDY_RESULTS_PATH + dataset, \"rb\") as data_file:\n",
    "        study = pickle.load(data_file)\n",
    "    random.Random(name).shuffle(study[1])  # shuffle study entries seeded by participant name\n",
    "    r = LocalRepo(study[0])\n",
    "    print_html(\"<h1>Study Time!</h1>\")\n",
    "    print(\"\\n\" * 10)\n",
    "    study_entry = study[1][0]\n",
    "    pattern = study_entry[0]\n",
    "    m0 = study_entry[1]\n",
    "    m1 = study_entry[2]\n",
    "    commits = study_entry[3]\n",
    "    commit_cells: List[str] = []\n",
    "    commit_empty_cell = '<td style=\"border: 1px solid black; background-color: #aaa;\"></td>'\n",
    "    for c in commits:\n",
    "        # 0 message, 1 author, 2 date, 3 hexsha, 4 [0 files, 1 additions, 2 deletions], 5 belongs to method 1, 6 belongs to method 2\n",
    "        datestring = datetime.utcfromtimestamp(c[2]).strftime('%Y-%m-%d')\n",
    "        commit_cells.append(f\"\"\"<tr>\n",
    "            {commit_empty_cell if not c[5] else \"\"}\n",
    "            <td{' colspan=\"2\"' if c[5] and c[6] else \"\"} style=\"border: 1px solid black;\"><center>\n",
    "                {c[1]}: <a href=\"https://github.com/{r.name}/commit/{c[3]}\" target=\"_blank\">{c[0]}</a><br>\n",
    "                <span style=\"font-family: monospace\">\n",
    "                    {\"{:,}\".format(c[4][0])} changed files:\n",
    "                    <span style=\"color:green\">+{\"{:,}\".format(c[4][1])}</span>\n",
    "                    <span style=\"color:red\">-{\"{:,}\".format(c[4][2])}</span>,\n",
    "                    created on {datestring}\n",
    "                </span>\n",
    "            </center></td>\n",
    "            {commit_empty_cell if not c[6] else \"\"}\n",
    "            </tr>\"\"\")\n",
    "    \n",
    "    print_html(f\"\"\"{PRISM_HIGHLIGHTING}{OWN_STYLE}\n",
    "You will be shown multiple methods from the <a href=\"{r.url()}\" target=\"_blank\" style=\"color: blue\">{study[0]}</a> repository.\n",
    "Take a close look at the two presented snippets of code.\n",
    "Consider everything, not only the statements, but also variable naming, comments,\n",
    "location of this snippet within the project, editing history, and relations with other code.\n",
    "Then, please select how closely the presented phrases describe this pair of code pieces.\n",
    "<br><br><br><br>\n",
    "<table border=\"1\">\n",
    "  <tr>\n",
    "    <td>{path_html(r, m0[0])}</td> \n",
    "    <td>{path_html(r, m1[0])}</td>\n",
    "  </tr>\n",
    "  <tr>\n",
    "    <td><pre><code class=\"language-java\">{m0[1]}</code></pre></td>\n",
    "    <td><pre><code class=\"language-java\">{m1[1]}</code></pre></td>\n",
    "  </tr>\n",
    "  <tr><td colspan=\"2\"><center>And here are the commits: {len(commits)}</center></td></tr>\n",
    "  {\"\".join(commit_cells)}\n",
    "</table>\n",
    "\n",
    "    \"\"\")"
   ]
  },
  {
   "cell_type": "code",
   "execution_count": null,
   "id": "527807f0-50e8-4fee-b3c4-cabcbccdbba0",
   "metadata": {},
   "outputs": [],
   "source": []
  }
 ],
 "metadata": {
  "kernelspec": {
   "display_name": "PyPy3",
   "language": "python",
   "name": "pypy3"
  },
  "language_info": {
   "codemirror_mode": {
    "name": "ipython",
    "version": 3
   },
   "file_extension": ".py",
   "mimetype": "text/x-python",
   "name": "python",
   "nbconvert_exporter": "python",
   "pygments_lexer": "ipython3",
   "version": "3.9.6"
  }
 },
 "nbformat": 4,
 "nbformat_minor": 5
}
