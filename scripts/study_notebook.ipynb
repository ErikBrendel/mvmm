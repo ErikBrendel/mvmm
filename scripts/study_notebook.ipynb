{
 "cells": [
  {
   "cell_type": "code",
   "execution_count": 1,
   "id": "220d6bd1-a1f2-445c-8ef4-f3e45c019f59",
   "metadata": {
    "tags": []
   },
   "outputs": [
    {
     "data": {
      "application/vnd.jupyter.widget-view+json": {
       "model_id": "7b53a0604f7c4fbcb8fd81bbdd3e9cb6",
       "version_major": 2,
       "version_minor": 0
      },
      "text/plain": [
       "interactive(children=(Text(value='erik', description='name'), Dropdown(description='dataset', options=(None, '…"
      ]
     },
     "metadata": {},
     "output_type": "display_data"
    }
   ],
   "source": [
    "import os\n",
    "from IPython.display import display\n",
    "from ipywidgets import interact, interact_manual\n",
    "import ipywidgets as widgets\n",
    "from study_common import *\n",
    "from study_notebook_helper import *\n",
    "\n",
    "study_datasets = os.listdir(STUDY_RESULTS_PATH)\n",
    "@interact(dataset=[None] + study_datasets)\n",
    "def main(name=\"erik\", dataset=None):\n",
    "    if len(name) == 0:\n",
    "        print(\"Please choose a name / id for the study\")\n",
    "        return\n",
    "    if dataset is None:\n",
    "        print(\"Hey \" + name + \", please chose a dataset\")\n",
    "        return\n",
    "    print(name + \" is doing \" + str(dataset) + (\"\\n\" * 10))\n",
    "    study: STUDY_TYPE = None\n",
    "    with open(STUDY_RESULTS_PATH + dataset, \"rb\") as data_file:\n",
    "        study = pickle.load(data_file)\n",
    "    random.Random(name).shuffle(study[1])  # shuffle study entries seeded by participant name\n",
    "    r = LocalRepo(study[0])\n",
    "    print_html(\"<h1>Study Time!</h1>\")\n",
    "    print(\"\\n\" * 10)\n",
    "    study_entry = study[1][0]\n",
    "    pattern = study_entry[0]\n",
    "    m0 = study_entry[1]\n",
    "    m1 = study_entry[2]\n",
    "    commits = study_entry[3]\n",
    "    \n",
    "    print_html(f\"\"\"{PRISM_HIGHLIGHTING}{OWN_STYLE}\n",
    "You will be shown multiple methods from the <a href=\"{r.url()}\" target=\"_blank\" style=\"color: blue\">{study[0]}</a> repository.\n",
    "Take a close look at the two presented snippets of code.\n",
    "Consider everything, not only the statements, but also variable naming, comments,\n",
    "location of this snippet within the project, editing history, and relations with other code.\n",
    "Then, please select how closely the presented phrases describe this pair of code pieces.\n",
    "<br><br><br><br>\n",
    "<table>\n",
    "  <tr>\n",
    "    <td>{path_html(r, m0[0])}</td> \n",
    "    <td>{path_html(r, m1[0])}</td>\n",
    "  </tr>\n",
    "  <tr>\n",
    "    <td><pre><code class=\"language-java\">{m0[1]}</code></pre></td>\n",
    "    <td><pre><code class=\"language-java\">{m1[1]}</code></pre></td>\n",
    "  </tr>\n",
    "  <tr><td colspan=\"2\"><center>And here are the commits: {len(commits)}</center></td></tr>\n",
    "</table>\n",
    "\n",
    "    \"\"\")"
   ]
  },
  {
   "cell_type": "code",
   "execution_count": null,
   "id": "527807f0-50e8-4fee-b3c4-cabcbccdbba0",
   "metadata": {},
   "outputs": [],
   "source": []
  },
  {
   "cell_type": "code",
   "execution_count": null,
   "id": "9e52461b-797d-4719-ae56-bbe526684b39",
   "metadata": {},
   "outputs": [],
   "source": []
  },
  {
   "cell_type": "code",
   "execution_count": null,
   "id": "408c4d36-1aa6-48f1-be52-c568901c8414",
   "metadata": {},
   "outputs": [],
   "source": []
  }
 ],
 "metadata": {
  "kernelspec": {
   "display_name": "PyPy3",
   "language": "python",
   "name": "pypy3"
  },
  "language_info": {
   "codemirror_mode": {
    "name": "ipython",
    "version": 3
   },
   "file_extension": ".py",
   "mimetype": "text/x-python",
   "name": "python",
   "nbconvert_exporter": "python",
   "pygments_lexer": "ipython3",
   "version": "3.9.6"
  }
 },
 "nbformat": 4,
 "nbformat_minor": 5
}
