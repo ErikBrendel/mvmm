{
 "cells": [
  {
   "cell_type": "code",
   "execution_count": 1,
   "metadata": {},
   "outputs": [
    {
     "name": "stdout",
     "output_type": "stream",
     "text": [
      "env: JUPYTER=True\n",
      "   _  __                  ___  __                    _                _     \n",
      "  (_)/ _|_ __ ___  ___   / (_)/ _|_ __ ___  ___  ___| |__   __ _ _ __| |_ _ \n",
      "  | | |_| '__/ _ \\/ _ \\ / /| | |_| '__/ _ \\/ _ \\/ __| '_ \\ / _` | '__| __(_)\n",
      "  | |  _| | |  __/  __// / | |  _| | |  __/  __/ (__| | | | (_| | |  | |_ _ \n",
      " _/ |_| |_|  \\___|\\___/_/ _/ |_| |_|  \\___|\\___|\\___|_| |_|\\__,_|_|   \\__(_)\n",
      "|__/                     |__/                                               \n",
      "       _   ____   _ \n",
      "__   _/ | | ___| / |\n",
      "\\ \\ / / | |___ \\ | |\n",
      " \\ V /| |_ ___) || |\n",
      "  \\_/ |_(_)____(_)_|\n",
      "                    \n",
      "\n",
      "updating jfree/jfreechart...\n",
      "Repo is up to date!\n",
      "Analyzing 639 of 992 files, the rest was skipped as tests or samples\n",
      "Skipped 1 test and sample roots: ['src/test']\n",
      "Found 11331 directories, files, classes, methods and fields!\n",
      "Results:\n",
      "\n",
      "Pattern 0 ([0, None, 0, 1, 'Mixed Concerns / Low Cohesion - within a single module, multiple unrelated topics are handled']):\n"
     ]
    },
    {
     "data": {
      "application/vnd.jupyter.widget-view+json": {
       "model_id": "c331d1108c8d416bb669060c7a78ae35",
       "version_major": 2,
       "version_minor": 0
      },
      "text/plain": [
       "interactive(children=(FloatLogSlider(value=0.25, description='references', layout=Layout(width='800px'), max=0…"
      ]
     },
     "metadata": {},
     "output_type": "display_data"
    },
    {
     "name": "stdout",
     "output_type": "stream",
     "text": [
      "\n",
      "Pattern 1 ([0, None, 1, 0, 'Independent Code Duplication - The same code exists in independent modules']):\n"
     ]
    },
    {
     "data": {
      "application/vnd.jupyter.widget-view+json": {
       "model_id": "87116c7619af46bdbfd79f422c9db620",
       "version_major": 2,
       "version_minor": 0
      },
      "text/plain": [
       "interactive(children=(FloatLogSlider(value=0.25, description='references', layout=Layout(width='800px'), max=0…"
      ]
     },
     "metadata": {},
     "output_type": "display_data"
    },
    {
     "name": "stdout",
     "output_type": "stream",
     "text": [
      "\n",
      "Pattern 2 ([0, None, 1, 1, 'Parallel Structures - within a single module, similar code structures for different sub-tasks have been developed']):\n"
     ]
    },
    {
     "data": {
      "application/vnd.jupyter.widget-view+json": {
       "model_id": "ef0d5f69a5e94026bf38d1b8be7366aa",
       "version_major": 2,
       "version_minor": 0
      },
      "text/plain": [
       "interactive(children=(FloatLogSlider(value=0.25, description='references', layout=Layout(width='800px'), max=0…"
      ]
     },
     "metadata": {},
     "output_type": "display_data"
    },
    {
     "name": "stdout",
     "output_type": "stream",
     "text": [
      "\n",
      "Pattern 3 ([0, 1, 0, 0, 'Hidden Relation - unrelated methods being modified together']):\n"
     ]
    },
    {
     "data": {
      "application/vnd.jupyter.widget-view+json": {
       "model_id": "0d1e66fba0ba487694da31d26da368a6",
       "version_major": 2,
       "version_minor": 0
      },
      "text/plain": [
       "interactive(children=(FloatLogSlider(value=0.2, description='references', layout=Layout(width='800px'), max=0.…"
      ]
     },
     "metadata": {},
     "output_type": "display_data"
    },
    {
     "name": "stdout",
     "output_type": "stream",
     "text": [
      "\n",
      "Pattern 4 ([1, 0, 1, None, 'Direct Code Clones - Methods that are doing similar things']):\n"
     ]
    },
    {
     "data": {
      "application/vnd.jupyter.widget-view+json": {
       "model_id": "e30fc1075ebc402f8aba5ec76d4fafa6",
       "version_major": 2,
       "version_minor": 0
      },
      "text/plain": [
       "interactive(children=(FloatLogSlider(value=0.25, description='references', layout=Layout(width='800px'), max=0…"
      ]
     },
     "metadata": {},
     "output_type": "display_data"
    },
    {
     "name": "stdout",
     "output_type": "stream",
     "text": [
      "\n",
      "Pattern 5 ([1, 1, 0, 1, 'Inconsistent Language - close and related code that looks unrelated at first, based on the different vocabulary used']):\n"
     ]
    },
    {
     "data": {
      "application/vnd.jupyter.widget-view+json": {
       "model_id": "b81b48e453f7427482518ea32e889cea",
       "version_major": 2,
       "version_minor": 0
      },
      "text/plain": [
       "interactive(children=(FloatLogSlider(value=0.2, description='references', layout=Layout(width='800px'), max=0.…"
      ]
     },
     "metadata": {},
     "output_type": "display_data"
    },
    {
     "name": "stdout",
     "output_type": "stream",
     "text": [
      "\n",
      "Pattern 6 ([1, 1, None, 0, 'Cross-Cutting Concerns - strongly related code is scattered across different modules']):\n"
     ]
    },
    {
     "data": {
      "application/vnd.jupyter.widget-view+json": {
       "model_id": "b1c41ea08d5642f2b0689bfbac22ef03",
       "version_major": 2,
       "version_minor": 0
      },
      "text/plain": [
       "interactive(children=(FloatLogSlider(value=0.25, description='references', layout=Layout(width='800px'), max=0…"
      ]
     },
     "metadata": {},
     "output_type": "display_data"
    },
    {
     "name": "stdout",
     "output_type": "stream",
     "text": [
      "\n",
      "Program is over!\n"
     ]
    }
   ],
   "source": [
    "import logging\n",
    "import pdb\n",
    "logging.basicConfig(level=logging.INFO)\n",
    "%matplotlib inline\n",
    "%env JUPYTER=True\n",
    "import pyfiglet\n",
    "import numpy as np\n",
    "# np.seterr(all='raise')\n",
    "import os\n",
    "\n",
    "from local_repo import *\n",
    "from repos import *\n",
    "from metrics import *\n",
    "from analysis import *\n",
    "from study_common import *\n",
    "\n",
    "\n",
    "for repo in [\"jfree/jfreechart:v1.5.1\"]:\n",
    "    r = LocalRepo(repo)\n",
    "    print(pyfiglet.figlet_format(r.name))\n",
    "    r.update()\n",
    "    r.get_tree()\n",
    "    \n",
    "    for view in []:  # \"references\", \"evolutionary\", \"linguistic\"\n",
    "        # MetricManager.clear(r, view)\n",
    "\n",
    "        coupling_graph = MetricManager.get(r, view)\n",
    "        # coupling_graph.plaintext_save(repo)\n",
    "        # coupling_graph.html_save(repo)\n",
    "        \n",
    "\n",
    "        print(\"\\nResults from the \" + view + \" view:\\n\")\n",
    "\n",
    "        coupling_graph.print_statistics()\n",
    "        # coupling_graph.print_most_linked_nodes()\n",
    "        # coupling_graph.show_weight_histogram()\n",
    "        # coupling_graph.visualize(use_spring=False, with_labels=False)\n",
    "        # coupling_graph.visualize(use_spring=True, with_labels=False)\n",
    "        print(\"\\n\")\n",
    "    # continue\n",
    "    \n",
    "    pattern_views = [\"references\", \"evolutionary\", \"linguistic\", \"module_distance\"]\n",
    "    all_patterns = [\n",
    "        [0, 0, 0, 0, 'Not coupled at all'],\n",
    "        [0, 0, 0, 1, 'Only \"project structure\": Close but completely unrelated to each other'],\n",
    "        [0, 0, 1, 0, 'Only \"linguistic\": Independent feature duplication'],\n",
    "        [0, 0, 1, 1, 'Close independent feature duplication?'],\n",
    "        [0, 1, 0, 0, 'Only \"evolutionary\": Modules are related to each other on an unknown and hidden level'],\n",
    "        [0, 1, 0, 1, 'Your code is successfully modularized by \"things that change together\", but your language and structure do not reflect this modularity'],\n",
    "        [0, 1, 1, 0, 'Parallel-Maintained feature duplication'],\n",
    "        [0, 1, 1, 1, 'Everything except references: These nodules belong together, but it is not obvious from the code. Maybe meta-programming? Maybe the references metric is bad?'],\n",
    "        [1, 0, 0, 0, 'Only \"references\": Using \"library code\" somewhere else'],\n",
    "        [1, 0, 0, 1, 'Weakly modularized code:  close in the project structure and coupled by references, but semantically disjoint'],\n",
    "        [1, 0, 1, 0, 'Using and/or extending a library'],\n",
    "        [1, 0, 1, 1, 'Everything except evolutionary: One module developed in independent parts OR using a weird committing policy in the company OR one big chunk of code copied into the repo'],\n",
    "        [1, 1, 0, 0, 'Separate modules developed together because they need each other.'],\n",
    "        [1, 1, 0, 1, 'Weakly modularized code: dependent on each other, but semantically disjoint'],\n",
    "        [1, 1, 1, 0, 'Too far apart: These modules seem to belong closer together than they currently are in the project structure'],\n",
    "        [1, 1, 1, 1, 'Evenly coupled across all metrics'],\n",
    "        \n",
    "        #[0, 1, 1, 1, \"Non-ref?\"],\n",
    "        #[1, 1, 1, 0, \"Too far apart\"],\n",
    "        #[0, 0, 1, 0, \"Independent Feature duplication\"],\n",
    "        #[0, 1, 1, 0, \"Parallel-Maintained Feature duplication\"],\n",
    "        #[0, 0, 0, 1, \"Close but totally unrelated\"],\n",
    "        #[0, None, 1, 0, \"Feature Duplication\"],\n",
    "        #[1, None, 0, 1, \"Weakly modularized code\"],\n",
    "    ]\n",
    "    reduced_patterns = [\n",
    "        [1, 0, 1, None, \"Code clones - methods that do very similar things\"],\n",
    "        [1, 1, None, 0, \"Cross cutting concerncs - Distant methods that are entangled\"],\n",
    "        [0, None, 1, 0, \"Independent code duplication - Indepdendent modules with similar code\"],\n",
    "        [0, None, 1, 1, \"Parallel structures - similar methods within a single module\"],\n",
    "        [0, None, 0, 1, \"Mixed concerns - unrelated topics being handled within a single module\"],\n",
    "        [0, 1, 0, 0, \"Hidden relation - Unrelated things are being modified together\"],\n",
    "        [1, 1, 0, 1, \"Inconsistent language being used for related tasks within a module\"],\n",
    "        \n",
    "        [0, 0, 0, 0, \"[+] unrelated\"],\n",
    "        [1, 1, 1, 1, \"[+] evenly coupled\"],\n",
    "        [1, 0, 0, None, \"Weirdly coupled / not interesting?\"],\n",
    "    ]\n",
    "    taxonomy_patterns = [p + [n + \" - \" + d] for p, n, d in TAXONOMY]\n",
    "    \n",
    "    # amalysis\n",
    "    for node_filter_mode in [\"methods\"]: # [\"methods\", \"classes\", \"files\", \"packages\"]\n",
    "        interactive_analyze_disagreements(r, pattern_views,\n",
    "                                          taxonomy_patterns, node_filter_mode,\n",
    "                                          ignore_previous_results=False\n",
    "                                         )\n",
    "    # for p in all_patterns:\n",
    "    #     print(pyfiglet.figlet_format(\", \".join(str(x) for x in p[0:4])))\n",
    "    #     for node_filter_mode in [\"methods\"]:  # , \"classes\", \"packages\"\n",
    "    #         interactive_analyze_disagreements(r, pattern_views, [p], node_filter_mode, parallel=False, ignore_previous_results=False)\n",
    "\n",
    "graph_manager.flush()\n",
    "print(\"\\nProgram is over!\")"
   ]
  },
  {
   "cell_type": "code",
   "execution_count": null,
   "metadata": {},
   "outputs": [],
   "source": []
  }
 ],
 "metadata": {
  "kernelspec": {
   "display_name": "PyPy3",
   "language": "python",
   "name": "pypy3"
  },
  "language_info": {
   "codemirror_mode": {
    "name": "ipython",
    "version": 3
   },
   "file_extension": ".py",
   "mimetype": "text/x-python",
   "name": "python",
   "nbconvert_exporter": "python",
   "pygments_lexer": "ipython3",
   "version": "3.9.6"
  },
  "toc-autonumbering": true,
  "toc-showcode": true,
  "toc-showmarkdowntxt": true,
  "toc-showtags": false
 },
 "nbformat": 4,
 "nbformat_minor": 4
}
