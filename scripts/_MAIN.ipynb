{
 "cells": [
  {
   "cell_type": "code",
   "execution_count": 1,
   "metadata": {},
   "outputs": [
    {
     "name": "stderr",
     "output_type": "stream",
     "text": [
      "/usr/lib/python3.9/site-packages/gensim/similarities/__init__.py:15: UserWarning: The gensim.similarities.levenshtein submodule is disabled, because the optional Levenshtein package <https://pypi.org/project/python-Levenshtein/> is unavailable. Install Levenhstein (e.g. `pip install python-Levenshtein`) to suppress this warning.\n",
      "  warnings.warn(msg)\n"
     ]
    },
    {
     "name": "stdout",
     "output_type": "stream",
     "text": [
      " _____      _ _    ____                     _      _    ___              _ \n",
      "| ____|_ __(_) | _| __ ) _ __ ___ _ __   __| | ___| |  / / |   _   _  __| |\n",
      "|  _| | '__| | |/ /  _ \\| '__/ _ \\ '_ \\ / _` |/ _ \\ | / /| |  | | | |/ _` |\n",
      "| |___| |  | |   <| |_) | | |  __/ | | | (_| |  __/ |/ / | |__| |_| | (_| |\n",
      "|_____|_|  |_|_|\\_\\____/|_|  \\___|_| |_|\\__,_|\\___|_/_/  |_____\\__,_|\\__,_|\n",
      "                                                                           \n",
      "                 ____                 \n",
      " _   _ _ __ ___ |  _ \\  __ _ _ __ ___ \n",
      "| | | | '_ ` _ \\| | | |/ _` | '__/ _ \\\n",
      "| |_| | | | | | | |_| | (_| | | |  __/\n",
      " \\__,_|_| |_| |_|____/ \\__,_|_|  \\___|\n",
      "                                      \n",
      "\n",
      "updating ErikBrendel/LudumDare...\n",
      "Repo is up to date!\n",
      "No precalculated structural values found, starting calculations...\n",
      "Analyzing 44 of 44 files, the rest was skipped as tests or samples\n",
      "Skipped 0 test and sample roots: []\n"
     ]
    },
    {
     "data": {
      "application/vnd.jupyter.widget-view+json": {
       "model_id": "c037ecb1714f4f529f70dbcc41750d22",
       "version_major": 2,
       "version_minor": 0
      },
      "text/plain": [
       "Discovering classes:   0%|          | 0/44 [00:00<?, ?it/s]"
      ]
     },
     "metadata": {},
     "output_type": "display_data"
    },
    {
     "name": "stdout",
     "output_type": "stream",
     "text": [
      "Analyzing 44 of 44 files, the rest was skipped as tests or samples\n",
      "Skipped 0 test and sample roots: []\n",
      "Found 565 directories, files, classes, methods and fields!\n"
     ]
    },
    {
     "data": {
      "application/vnd.jupyter.widget-view+json": {
       "model_id": "55805629cd7447a2a9aacb74d16bb16e",
       "version_major": 2,
       "version_minor": 0
      },
      "text/plain": [
       "Building Import Graph 2:   0%|          | 0/44 [00:00<?, ?it/s]"
      ]
     },
     "metadata": {},
     "output_type": "display_data"
    },
    {
     "data": {
      "application/vnd.jupyter.widget-view+json": {
       "model_id": "41329758846144778b3ccf635c4df2a7",
       "version_major": 2,
       "version_minor": 0
      },
      "text/plain": [
       "Extracting inheritance hierarchy and result types:   0%|          | 0/44 [00:00<?, ?it/s]"
      ]
     },
     "metadata": {},
     "output_type": "display_data"
    },
    {
     "data": {
      "application/vnd.jupyter.widget-view+json": {
       "model_id": "3d2a3e8c144f43429f550cb978291f5c",
       "version_major": 2,
       "version_minor": 0
      },
      "text/plain": [
       "Connecting files by imports:   0%|          | 0/44 [00:00<?, ?it/s]"
      ]
     },
     "metadata": {},
     "output_type": "display_data"
    },
    {
     "data": {
      "application/vnd.jupyter.widget-view+json": {
       "model_id": "e269bdf3bc1240cfbe2f0d0c8dc08204",
       "version_major": 2,
       "version_minor": 0
      },
      "text/plain": [
       "Connecting classes by inheritance:   0%|          | 0/18 [00:00<?, ?it/s]"
      ]
     },
     "metadata": {},
     "output_type": "display_data"
    },
    {
     "data": {
      "application/vnd.jupyter.widget-view+json": {
       "model_id": "18140bf3582546299dbed1400f0ed07c",
       "version_major": 2,
       "version_minor": 0
      },
      "text/plain": [
       "Connecting methods and fields by content:   0%|          | 0/44 [00:00<?, ?it/s]"
      ]
     },
     "metadata": {},
     "output_type": "display_data"
    },
    {
     "name": "stdout",
     "output_type": "stream",
     "text": [
      "Unknown type for var: Color c\n",
      "Unknown type for var: URL url\n",
      "Unknown type for var: Font big\n",
      "Unknown type for var: Color bg\n",
      "Unknown type for var: Timer dl\n",
      "Unknown type for var: Random r\n",
      "Unknown type for var: Color mix\n",
      "Unknown type for var: Image img\n",
      "Unknown type for var: Font small\n",
      "Unknown type for var: KeyEvent e\n",
      "Unknown type for var: Graphics g\n",
      "Unknown type for var: Graphics g2\n",
      "Unknown type for var: Dimension d\n",
      "Unknown type for var: Graphics2D g\n",
      "Unknown type for var: MouseEvent e\n",
      "Unknown type for var: Font smaller\n",
      "Unknown type for var: Font oldFont\n",
      "Unknown type for var: Point segSize\n",
      "Unknown type for var: Shape oldClip\n",
      "Unknown type for var: KeyEvent arg0\n",
      "Unknown type for var: InputStream is\n",
      "Unknown type for var: Point highSize\n",
      "Unknown type for var: Color newColor\n",
      "Unknown type for var: FontMetrics fm\n",
      "Unknown type for var: Point highStart\n",
      "Unknown type for var: StringBuilder sb\n",
      "Unknown type for var: BufferStrategy bs\n",
      "Unknown type for var: BufferedReader br\n",
      "Unknown type for var: MouseWheelEvent e\n",
      "Unknown type for var: BufferedImage img\n",
      "Unknown type for var: BufferedImage ret\n",
      "Unknown type for var: BufferedImage sec1\n",
      "Unknown type for var: BufferedImage sec2\n",
      "Unknown type for var: BufferedImage img1\n",
      "Unknown type for var: Point segmentStart\n",
      "Unknown type for var: BufferedImage img2\n",
      "Unknown type for var: BufferedImage draw\n",
      "Unknown type for var: BufferedImage image\n",
      "Unknown type for var: BufferedImage buffy\n",
      "Unknown type for var: BufferedImage render\n",
      "Unknown type for var: BufferedImage render2\n",
      "Unknown type for var: BufferedImage render1\n",
      "Unknown type for var: GraphicsDevice device\n",
      "Unknown type for var: BufferedImage original\n",
      "Unknown type for var: Rectangle2D pScoreSize\n",
      "Unknown type for var: Rectangle2D loadingSize\n",
      "Unknown type for var: GraphicsEnvironment env\n",
      "Unknown type for var: NetworkInterface network\n",
      "Unknown type for var: BufferedImage rotatedImage\n",
      "Unknown type for var: Character.UnicodeBlock block\n",
      "Unknown type for var: GraphicsConfiguration config\n",
      "Unknown type for var: AffineTransform affineTransform\n",
      "Calculated structural values, saving them now...\n",
      "\n",
      "Results from the structural view:\n",
      "\n",
      "ExplicitCouplingGraph statistics: 521 nodes, 1205 edges, 1 connected component(s), with sizes: [521]\n",
      "Edge weights: [1, 1, 1, 1, 1] ... [18, 19, 31, 37, 50] , mean: 1.9468879668049792\n",
      "Node support values: [1, 1, 1, 1, 1] ... [75, 84, 107, 121, 254] , mean: 9.013435700575815\n",
      "\n",
      "\n",
      "No precalculated evolutionary values found, starting calculations...\n",
      "Discovering commits...\n",
      "Done!\n",
      "Commits to analyze: 266\n",
      "Going parallel, with a batch size of 64 of 266, resulting in 5 batches.\n"
     ]
    },
    {
     "data": {
      "application/vnd.jupyter.widget-view+json": {
       "model_id": "5308151cef414395aa942f5d23116ed3",
       "version_major": 2,
       "version_minor": 0
      },
      "text/plain": [
       "Analyzing commits:   0%|          | 0/266 [00:00<?, ?it/s]"
      ]
     },
     "metadata": {},
     "output_type": "display_data"
    },
    {
     "name": "stdout",
     "output_type": "stream",
     "text": [
      "Calculated evolutionary values, saving them now...\n",
      "\n",
      "Results from the evolutionary view:\n",
      "\n",
      "ExplicitCouplingGraph statistics: 368 nodes, 4170 edges, 1 connected component(s), with sizes: [368]\n",
      "Edge weights: [0.06060606060606061, 0.06060606060606061, 0.06060606060606061, 0.06060606060606061, 0.06060606060606061] ... [1.5733516483516483, 1.6179005205320993, 2.020760611937083, 2.020760611937083, 2.687427278603749] , mean: 0.1407537730993409\n",
      "Node support values: [1, 1, 1, 1, 1] ... [13, 14, 18, 18, 19] , mean: 2.078804347826087\n",
      "\n",
      "\n",
      "No precalculated linguistic values found, starting calculations...\n",
      "Analyzing 44 of 44 files, the rest was skipped as tests or samples\n",
      "Skipped 0 test and sample roots: []\n"
     ]
    },
    {
     "data": {
      "application/vnd.jupyter.widget-view+json": {
       "model_id": "d950ef88c08640c69fd50293fe8d7e91",
       "version_major": 2,
       "version_minor": 0
      },
      "text/plain": [
       "Extracting language corpus:   0%|          | 0/44 [00:00<?, ?it/s]"
      ]
     },
     "metadata": {},
     "output_type": "display_data"
    },
    {
     "name": "stdout",
     "output_type": "stream",
     "text": [
      "Amount of documents: 436\n",
      "Total Amount of words: 9311\n",
      "Vocab size: 502\n"
     ]
    },
    {
     "data": {
      "application/vnd.jupyter.widget-view+json": {
       "model_id": "98170957be0d4dcdbc03a38b139f2546",
       "version_major": 2,
       "version_minor": 0
      },
      "text/plain": [
       "BTM Gibbs Sampling:   0%|          | 0/1000 [00:00<?, ?it/s]"
      ]
     },
     "metadata": {},
     "output_type": "display_data"
    },
    {
     "name": "stdout",
     "output_type": "stream",
     "text": [
      "[BTM] Parallel Biterm Topic Modeling:\n",
      "[BTM]   Iterations: 1000\n",
      "[BTM]   Maximum vocabulary size: 4000\n",
      "[BTM]   Number of Topics: 10\n",
      "[BTM]   Alpha: 1\n",
      "[BTM]   Beta: 0.01\n",
      "[BTM]   Worker threads: 127\n",
      "[BTM]   Number of top words to show: 10\n",
      "[BTM]   Number of top documents to show: 5\n",
      "[BTM]   Number of documents: 436\n",
      "[BTM] Total amount of words: 707, vocab size: 707\n",
      "[BTM] Total amount of biterms: 52151\n",
      "[BTM] \n",
      "[BTM] Top documents per topic:\n",
      "[BTM] Topic 0: score option view text show game box screen username high\n",
      "[BTM] ->Coherence: -67.4698\n",
      "[BTM]    text box view text box view text text 20 550 1560 330 font font monospaced font plain 60\n",
      "[BTM]    game screen draw graphics2 d g wheel rotation mouse wheel rotation time visible 2 g color color 5...\n",
      "[BTM]    game screen high score available\n",
      "[BTM]    option username system property user name replace replace replace replace\n",
      "[BTM]    game screen highscore\n",
      "[BTM] \n",
      "[BTM] Topic 1: manager sound laser play y player update x frame time\n",
      "[BTM] ->Coherence: -63.1657\n",
      "[BTM]    player upspeed 3000\n",
      "[BTM]    player gravity 1500\n",
      "[BTM]    laser dead\n",
      "[BTM]    laser dead dead\n",
      "[BTM]    sound manager link list audio clip music\n",
      "[BTM] \n",
      "[BTM] Topic 2: buffer image loader gfx 0 g graphics2 draw d graphic\n",
      "[BTM] ->Coherence: -49.2155\n",
      "[BTM]    gfx loader mode fast affine transform op nearest neighbor\n",
      "[BTM]    gfx loader mode medium affine transform op bilinear\n",
      "[BTM]    project serial version uid 1 l\n",
      "[BTM]    main serial version uid 1 l\n",
      "[BTM]    gfx loader scale image mode fine affine transform op bicubic\n",
      "[BTM] \n",
      "[BTM] Topic 3: 0 image width x color y buffer g 1 height\n",
      "[BTM] ->Coherence: -49.9858\n",
      "[BTM]    video transmission filter noise stay factor 0 3f\n",
      "[BTM]    video transmission filter fade m 2000\n",
      "[BTM]    image filter buffer image filter buffer image img\n",
      "[BTM]    video transmission filter life start 1\n",
      "[BTM]    hud buffer image healthbar end gfx loader load image healthbar end\n",
      "[BTM] \n",
      "[BTM] Topic 4: x d y render graphics2 g 0 width color override\n",
      "[BTM] ->Coherence: -37.3728\n",
      "[BTM]    button title\n",
      "[BTM]    button push\n",
      "[BTM]    button select\n",
      "[BTM]    toggle button toggle\n",
      "[BTM]    button button title bound b b b title title select\n",
      "[BTM] \n",
      "[BTM] Topic 5: moment asteroid space check option box count can stop n\n",
      "[BTM] ->Coherence: -53.0874\n",
      "[BTM]    option welcome box press space n press ctrl skip n n okay commander can n houston speak just re c...\n",
      "[BTM]    project suppress warn deprecation stop t stop\n",
      "[BTM]    asteroid asteroid count 3\n",
      "[BTM]    option username system property user name replace replace replace replace\n",
      "[BTM]    asteroid buffer image raw image buffer image asteroid count\n",
      "[BTM] \n",
      "[BTM] Topic 6: content web url exception system trace connection stack print host\n",
      "[BTM] ->Coherence: -33.1613\n",
      "[BTM]    highscores host http 87 106 83 248\n",
      "[BTM]    connection web url content web content url web content requester requester identifier timer dl ti...\n",
      "[BTM]    downloader url\n",
      "[BTM]    downloader identifier\n",
      "[BTM]    downloader web content requester requester\n",
      "[BTM] \n",
      "[BTM] Topic 7: graphics2 draw d g image render 0 bold music dark\n",
      "[BTM] ->Coherence: -60.882\n",
      "[BTM]    music id\n",
      "[BTM]    music music id id id\n",
      "[BTM]    credit override render graphics2 d g g draw image look 0 0 back render g g color color dark gray ...\n",
      "[BTM]    background render graphics2 d g g draw image background 0 0 option animate background s0x po time...\n",
      "[BTM]    background buffer image background stars0 stars1\n",
      "[BTM] \n",
      "[BTM] Topic 8: x y 0 point particle move size time location object\n",
      "[BTM] ->Coherence: -72.7156\n",
      "[BTM]    dust color color\n",
      "[BTM]    particle particle mover mover\n",
      "[BTM]    fly object point move vector\n",
      "[BTM]    fly object point move vector move vector\n",
      "[BTM]    fly object move vector point move vector move vector move vector\n",
      "[BTM] \n",
      "[BTM] Topic 9: key event 0 last e override time since frame 1\n",
      "[BTM] ->Coherence: -55.8273\n",
      "[BTM]    hud layer layer\n",
      "[BTM]    menu state key release key event e\n",
      "[BTM]    menu state key press key event e\n",
      "[BTM]    view key release key event e\n",
      "[BTM]    menu key release key event e menu state s menu state current state s s key release e\n",
      "[BTM] \n"
     ]
    },
    {
     "ename": "NameError",
     "evalue": "name 'np' is not defined",
     "output_type": "error",
     "traceback": [
      "\u001b[0;31m---------------------------------------------------------------------------\u001b[0m",
      "\u001b[0;31mNameError\u001b[0m                                 Traceback (most recent call last)",
      "\u001b[0;32m<ipython-input-1-8f2077ba360d>\u001b[0m in \u001b[0;36m<module>\u001b[0;34m\u001b[0m\n\u001b[1;32m     49\u001b[0m         \u001b[0mMetricManager\u001b[0m\u001b[0;34m.\u001b[0m\u001b[0mclear\u001b[0m\u001b[0;34m(\u001b[0m\u001b[0mr\u001b[0m\u001b[0;34m,\u001b[0m \u001b[0mview\u001b[0m\u001b[0;34m)\u001b[0m\u001b[0;34m\u001b[0m\u001b[0;34m\u001b[0m\u001b[0m\n\u001b[1;32m     50\u001b[0m \u001b[0;34m\u001b[0m\u001b[0m\n\u001b[0;32m---> 51\u001b[0;31m         \u001b[0mcoupling_graph\u001b[0m \u001b[0;34m=\u001b[0m \u001b[0mMetricManager\u001b[0m\u001b[0;34m.\u001b[0m\u001b[0mget\u001b[0m\u001b[0;34m(\u001b[0m\u001b[0mr\u001b[0m\u001b[0;34m,\u001b[0m \u001b[0mview\u001b[0m\u001b[0;34m)\u001b[0m\u001b[0;34m\u001b[0m\u001b[0;34m\u001b[0m\u001b[0m\n\u001b[0m\u001b[1;32m     52\u001b[0m         \u001b[0;31m# coupling_graph.plaintext_save(repo)\u001b[0m\u001b[0;34m\u001b[0m\u001b[0;34m\u001b[0m\u001b[0;34m\u001b[0m\u001b[0m\n\u001b[1;32m     53\u001b[0m         \u001b[0;31m# coupling_graph.html_save(repo)\u001b[0m\u001b[0;34m\u001b[0m\u001b[0;34m\u001b[0m\u001b[0;34m\u001b[0m\u001b[0m\n",
      "\u001b[0;32m~/mvmm/scripts/metrics.py\u001b[0m in \u001b[0;36mget\u001b[0;34m(repo, name)\u001b[0m\n\u001b[1;32m    149\u001b[0m             \u001b[0;32mreturn\u001b[0m \u001b[0mgraph\u001b[0m\u001b[0;34m\u001b[0m\u001b[0;34m\u001b[0m\u001b[0m\n\u001b[1;32m    150\u001b[0m         \u001b[0mprint\u001b[0m\u001b[0;34m(\u001b[0m\u001b[0;34m\"No precalculated \"\u001b[0m \u001b[0;34m+\u001b[0m \u001b[0mname\u001b[0m \u001b[0;34m+\u001b[0m \u001b[0;34m\" values found, starting calculations...\"\u001b[0m\u001b[0;34m)\u001b[0m\u001b[0;34m\u001b[0m\u001b[0;34m\u001b[0m\u001b[0m\n\u001b[0;32m--> 151\u001b[0;31m         \u001b[0mgraph\u001b[0m \u001b[0;34m=\u001b[0m \u001b[0mgetattr\u001b[0m\u001b[0;34m(\u001b[0m\u001b[0mMetricsGeneration\u001b[0m\u001b[0;34m(\u001b[0m\u001b[0mrepo\u001b[0m\u001b[0;34m)\u001b[0m\u001b[0;34m,\u001b[0m \u001b[0;34m\"calculate_\"\u001b[0m \u001b[0;34m+\u001b[0m \u001b[0mname\u001b[0m \u001b[0;34m+\u001b[0m \u001b[0;34m\"_connections\"\u001b[0m\u001b[0;34m)\u001b[0m\u001b[0;34m(\u001b[0m\u001b[0;34m)\u001b[0m\u001b[0;34m\u001b[0m\u001b[0;34m\u001b[0m\u001b[0m\n\u001b[0m\u001b[1;32m    152\u001b[0m         \u001b[0mprint\u001b[0m\u001b[0;34m(\u001b[0m\u001b[0;34m\"Calculated \"\u001b[0m \u001b[0;34m+\u001b[0m \u001b[0mname\u001b[0m \u001b[0;34m+\u001b[0m \u001b[0;34m\" values, saving them now...\"\u001b[0m\u001b[0;34m)\u001b[0m\u001b[0;34m\u001b[0m\u001b[0;34m\u001b[0m\u001b[0m\n\u001b[1;32m    153\u001b[0m         \u001b[0mgraph\u001b[0m\u001b[0;34m.\u001b[0m\u001b[0msave\u001b[0m\u001b[0;34m(\u001b[0m\u001b[0mrepo\u001b[0m\u001b[0;34m.\u001b[0m\u001b[0mname\u001b[0m\u001b[0;34m)\u001b[0m\u001b[0;34m\u001b[0m\u001b[0;34m\u001b[0m\u001b[0m\n",
      "\u001b[0;32m~/mvmm/scripts/metrics.py\u001b[0m in \u001b[0;36mcalculate_linguistic_connections\u001b[0;34m(self)\u001b[0m\n\u001b[1;32m    111\u001b[0m \u001b[0;34m\u001b[0m\u001b[0m\n\u001b[1;32m    112\u001b[0m         \u001b[0mnode_words\u001b[0m \u001b[0;34m=\u001b[0m \u001b[0mextract_topic_model_documents\u001b[0m\u001b[0;34m(\u001b[0m\u001b[0mself\u001b[0m\u001b[0;34m.\u001b[0m\u001b[0mrepo\u001b[0m\u001b[0;34m.\u001b[0m\u001b[0mget_all_interesting_files\u001b[0m\u001b[0;34m(\u001b[0m\u001b[0;34m)\u001b[0m\u001b[0;34m)\u001b[0m\u001b[0;34m\u001b[0m\u001b[0;34m\u001b[0m\u001b[0m\n\u001b[0;32m--> 113\u001b[0;31m         \u001b[0mtopics\u001b[0m \u001b[0;34m=\u001b[0m \u001b[0mtrain_topic_model\u001b[0m\u001b[0;34m(\u001b[0m\u001b[0mnode_words\u001b[0m\u001b[0;34m)\u001b[0m\u001b[0;34m\u001b[0m\u001b[0;34m\u001b[0m\u001b[0m\n\u001b[0m\u001b[1;32m    114\u001b[0m         \u001b[0mcouple_by_topic_similarity\u001b[0m\u001b[0;34m(\u001b[0m\u001b[0mnode_words\u001b[0m\u001b[0;34m,\u001b[0m \u001b[0mtopics\u001b[0m\u001b[0;34m,\u001b[0m \u001b[0mcoupling_graph\u001b[0m\u001b[0;34m)\u001b[0m\u001b[0;34m\u001b[0m\u001b[0;34m\u001b[0m\u001b[0m\n\u001b[1;32m    115\u001b[0m \u001b[0;34m\u001b[0m\u001b[0m\n",
      "\u001b[0;32m~/mvmm/scripts/metrics_linguistic.py\u001b[0m in \u001b[0;36mtrain_topic_model\u001b[0;34m(node_words)\u001b[0m\n\u001b[1;32m    134\u001b[0m         \u001b[0mpdb\u001b[0m\u001b[0;34m.\u001b[0m\u001b[0mset_trace\u001b[0m\u001b[0;34m(\u001b[0m\u001b[0;34m)\u001b[0m\u001b[0;34m\u001b[0m\u001b[0;34m\u001b[0m\u001b[0m\n\u001b[1;32m    135\u001b[0m \u001b[0;34m\u001b[0m\u001b[0m\n\u001b[0;32m--> 136\u001b[0;31m     \u001b[0;32mreturn\u001b[0m \u001b[0mnp\u001b[0m\u001b[0;34m.\u001b[0m\u001b[0marray\u001b[0m\u001b[0;34m(\u001b[0m\u001b[0mdoctop\u001b[0m\u001b[0;34m)\u001b[0m\u001b[0;34m\u001b[0m\u001b[0;34m\u001b[0m\u001b[0m\n\u001b[0m\u001b[1;32m    137\u001b[0m \u001b[0;34m\u001b[0m\u001b[0m\n\u001b[1;32m    138\u001b[0m \u001b[0;34m\u001b[0m\u001b[0m\n",
      "\u001b[0;31mNameError\u001b[0m: name 'np' is not defined"
     ]
    }
   ],
   "source": [
    "import logging\n",
    "import pdb\n",
    "logging.basicConfig(level=logging.INFO)\n",
    "%matplotlib inline\n",
    "import pyfiglet\n",
    "import numpy as np\n",
    "# np.seterr(all='raise')\n",
    "import os\n",
    "\n",
    "from local_repo import *\n",
    "from repos import *\n",
    "from metrics import *\n",
    "from analysis import *\n",
    "\n",
    "\n",
    "repos = [\n",
    "    \"ErikBrendel/LudumDare\", # 8 minutes BTM\n",
    "    \"eclipse/eclipse.jdt.core\",  # from duerschmidt\n",
    "    \"jenkinsci/jenkins\",\n",
    "    \"wumpz/jhotdraw\",  # TODO instead use wrandelshofer/jhotdraw and sub-directories as projects from there\n",
    "    \"neuland/jade4j\",\n",
    "    \"jfree/jfreechart\",\n",
    "    \"brettwooldridge/HikariCP\",  # 1.2h BTM\n",
    "    \"adamfisk/LittleProxy\",  # 1.5h BTM\n",
    "    \"dynjs/dynjs\",  # 2.5h BTM\n",
    "    # \"SonarSource/sonarqube\",  # quite big / prob. several hours BTM\n",
    "    \"square/okhttp\",\n",
    "    \"eclipse/che\",\n",
    "    \"elastic/elasticsearch\",\n",
    "    \"apache/camel\",\n",
    "    \"jOOQ/jOOQ\",\n",
    "]\n",
    "repos = [\n",
    "    #\"wrandelshofer/jhotdraw/JHotDraw\",\n",
    "    #\"wrandelshofer/jhotdraw/jhotdraw6\",\n",
    "    #\"wrandelshofer/jhotdraw/jhotdraw7\",\n",
    "    #\"wrandelshofer/jhotdraw/jhotdraw8\",\n",
    "   \"ErikBrendel/LudumDare\", \n",
    "]\n",
    "\n",
    "\n",
    "\n",
    "for repo in repos:\n",
    "    r = LocalRepo(repo)\n",
    "    print(pyfiglet.figlet_format(r.name))\n",
    "    r.update()\n",
    "    \n",
    "    for view in [\"structural\", \"evolutionary\", \"linguistic\"]: # [\"structural\", \"evolutionary\", \"linguistic\"]\n",
    "        # MetricManager.clear(r, view)\n",
    "\n",
    "        coupling_graph = MetricManager.get(r, view)\n",
    "        # coupling_graph.plaintext_save(repo)\n",
    "        # coupling_graph.html_save(repo)\n",
    "        \n",
    "\n",
    "        print(\"\\nResults from the \" + view + \" view:\\n\")\n",
    "\n",
    "        coupling_graph.print_statistics()\n",
    "        # coupling_graph.print_most_linked_nodes()\n",
    "        # coupling_graph.show_weight_histogram()\n",
    "        # coupling_graph.visualize(use_spring=False, with_labels=False)\n",
    "        # coupling_graph.visualize(use_spring=True, with_labels=False)\n",
    "        print(\"\\n\")\n",
    "    # continue\n",
    "    \n",
    "    # amalysis\n",
    "    repo_tree = r.get_tree()\n",
    "    def node_filter(node_path):\n",
    "        tree_node = repo_tree.find_node(node_path)\n",
    "        return tree_node.get_type() == \"method\" and tree_node.get_line_span() >= 2\n",
    "    def node_pair_filter(node_a_path, node_b_path):\n",
    "        return True # path_module_distance(node_a_path, node_b_path) >= 6\n",
    "    \n",
    "    \n",
    "    a = lambda : analyze_disagreements(r, [\"structural\", \"evolutionary\", \"linguistic\", \"module_distance\"], [\n",
    "        [0,    1,    1,    1, \"Non-struct?\"],\n",
    "        [1,    1,    1,    0, \"Too far apart\"],\n",
    "        [0,    0,    1,    0, \"Independent Feature duplication\"],\n",
    "        [0,    1,    1,    0, \"Parallel-Maintained Feature duplication\"],\n",
    "        [1, None,    0,    1, \"Weakly modularized code\"],\n",
    "        [0,    0,    0,    1, \"Close but totally unrelated\"],\n",
    "    ], node_filter, node_pair_filter)\n",
    "    # a()\n",
    "    %prun -s cumulative a()\n",
    "    \n",
    "print(\"\\nProgram is over!\")\n",
    "\n",
    "# https://arrow.apache.org/docs/python/plasma.html#putting-and-getting-python-objects"
   ]
  },
  {
   "cell_type": "code",
   "execution_count": null,
   "metadata": {},
   "outputs": [],
   "source": []
  }
 ],
 "metadata": {
  "kernelspec": {
   "display_name": "PyPy3",
   "language": "python",
   "name": "pypy3"
  },
  "language_info": {
   "codemirror_mode": {
    "name": "ipython",
    "version": 3
   },
   "file_extension": ".py",
   "mimetype": "text/x-python",
   "name": "python",
   "nbconvert_exporter": "python",
   "pygments_lexer": "ipython3",
   "version": "3.9.2"
  },
  "toc-autonumbering": true,
  "toc-showcode": true,
  "toc-showmarkdowntxt": true,
  "toc-showtags": false
 },
 "nbformat": 4,
 "nbformat_minor": 4
}
