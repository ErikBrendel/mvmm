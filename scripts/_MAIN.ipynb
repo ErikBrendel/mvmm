{
 "cells": [
  {
   "cell_type": "code",
   "execution_count": 1,
   "metadata": {},
   "outputs": [
    {
     "name": "stderr",
     "output_type": "stream",
     "text": [
      "/usr/lib/python3.9/site-packages/gensim/similarities/__init__.py:15: UserWarning: The gensim.similarities.levenshtein submodule is disabled, because the optional Levenshtein package <https://pypi.org/project/python-Levenshtein/> is unavailable. Install Levenhstein (e.g. `pip install python-Levenshtein`) to suppress this warning.\n",
      "  warnings.warn(msg)\n"
     ]
    },
    {
     "name": "stdout",
     "output_type": "stream",
     "text": [
      "           _ _                   __        _ _                   _     _ _     \n",
      "  ___  ___| (_)_ __  ___  ___   / /__  ___| (_)_ __  ___  ___   (_) __| | |_   \n",
      " / _ \\/ __| | | '_ \\/ __|/ _ \\ / / _ \\/ __| | | '_ \\/ __|/ _ \\  | |/ _` | __|  \n",
      "|  __/ (__| | | |_) \\__ \\  __// /  __/ (__| | | |_) \\__ \\  __/_ | | (_| | |_ _ \n",
      " \\___|\\___|_|_| .__/|___/\\___/_/ \\___|\\___|_|_| .__/|___/\\___(_)/ |\\__,_|\\__(_)\n",
      "              |_|                             |_|             |__/             \n",
      "                    \n",
      "  ___ ___  _ __ ___ \n",
      " / __/ _ \\| '__/ _ \\\n",
      "| (_| (_) | | |  __/\n",
      " \\___\\___/|_|  \\___|\n",
      "                    \n",
      "\n",
      "updating eclipse/eclipse.jdt.core...\n",
      "Repo is up to date!\n",
      "Analyzing 2548 of 8328 files\n",
      "Skipped 6 test and sample roots: ['org.eclipse.jdt.apt.tests', 'org.eclipse.jdt.core.tests', 'org.eclipse.jdt.apt.pluggable.tests', 'org.eclipse.jdt.compiler.apt.tests', 'org.eclipse.jdt.tests', 'org.eclipse.jdt.compiler.tool.tests']\n",
      "Found 40643 directories, files, classes, methods and fields!\n",
      "Using precalculated structural values\n"
     ]
    },
    {
     "data": {
      "application/vnd.jupyter.widget-view+json": {
       "model_id": "bf51fa757e454c22ba2b1f07322d5128",
       "version_major": 2,
       "version_minor": 0
      },
      "text/plain": [
       "Propagating down coupling information, iteration 1/2:   0%|          | 0/3759 [00:00<?, ?it/s]"
      ]
     },
     "metadata": {},
     "output_type": "display_data"
    },
    {
     "data": {
      "application/vnd.jupyter.widget-view+json": {
       "model_id": "bf2bb8c3a0cf46c39537571d64f37ece",
       "version_major": 2,
       "version_minor": 0
      },
      "text/plain": [
       "Applying changes, iteration 1/2:   0%|          | 0/5388058 [00:00<?, ?it/s]"
      ]
     },
     "metadata": {},
     "output_type": "display_data"
    },
    {
     "data": {
      "application/vnd.jupyter.widget-view+json": {
       "model_id": "91b82e500ee7488b875afd366bc0b16b",
       "version_major": 2,
       "version_minor": 0
      },
      "text/plain": [
       "Propagating down coupling information, iteration 2/2:   0%|          | 0/3759 [00:00<?, ?it/s]"
      ]
     },
     "metadata": {},
     "output_type": "display_data"
    },
    {
     "data": {
      "application/vnd.jupyter.widget-view+json": {
       "model_id": "09e0b734a07049f78d2d519055b85ab6",
       "version_major": 2,
       "version_minor": 0
      },
      "text/plain": [
       "Applying changes, iteration 2/2:   0%|          | 0/6064603 [00:00<?, ?it/s]"
      ]
     },
     "metadata": {},
     "output_type": "display_data"
    },
    {
     "name": "stdout",
     "output_type": "stream",
     "text": [
      "Using precalculated evolutionary values\n",
      "Using precalculated linguistic values\n",
      "Total node count: 13263\n",
      "Methods: 9705\n",
      "constructors: 611\n",
      "fields: 2947\n",
      "classes: 0\n",
      "interfaces: 0\n",
      "enums: 0\n",
      "without type: 0\n",
      "all filtered nodes: 68\n",
      "False\n",
      "False\n",
      "Amount of node pairs to check: 2278 of 2278 (100.0%)\n",
      "Going parallel...\n"
     ]
    },
    {
     "data": {
      "application/vnd.jupyter.widget-view+json": {
       "model_id": "ea35f89dbc4b432fb5df208535ac7251",
       "version_major": 2,
       "version_minor": 0
      },
      "text/plain": [
       "Analyzing edges:   0%|          | 0/2278 [00:00<?, ?it/s]"
      ]
     },
     "metadata": {},
     "output_type": "display_data"
    },
    {
     "name": "stdout",
     "output_type": "stream",
     "text": [
      "Results:\n",
      "\n",
      "Pattern 0 ([1, 0, 0, 0, 'Strong structural and low evolutionary / linguistic coupling across a big distance']):\n"
     ]
    },
    {
     "data": {
      "application/vnd.jupyter.widget-view+json": {
       "model_id": "7652fb0faa6646a3b70c832a2ca58c1b",
       "version_major": 2,
       "version_minor": 0
      },
      "text/plain": [
       "interactive(children=(FloatLogSlider(value=0.2, description='structural', layout=Layout(width='500px'), max=0.…"
      ]
     },
     "metadata": {},
     "output_type": "display_data"
    },
    {
     "name": "stdout",
     "output_type": "stream",
     "text": [
      "\n",
      "Pattern 1 ([0, 1, 0, 0, 'Strong evolutionary and low structural / linguistic coupling across a big distance']):\n"
     ]
    },
    {
     "data": {
      "application/vnd.jupyter.widget-view+json": {
       "model_id": "992d8ee4f78f4c9ab5fdfeecdaf010b9",
       "version_major": 2,
       "version_minor": 0
      },
      "text/plain": [
       "interactive(children=(FloatLogSlider(value=0.2, description='structural', layout=Layout(width='500px'), max=0.…"
      ]
     },
     "metadata": {},
     "output_type": "display_data"
    },
    {
     "name": "stdout",
     "output_type": "stream",
     "text": [
      "\n",
      "Pattern 2 ([0, 0, 1, 0, 'Strong linguistic and low structural / evolutionary coupling across a big distance']):\n"
     ]
    },
    {
     "data": {
      "application/vnd.jupyter.widget-view+json": {
       "model_id": "41c26580526a42edaa5458e0e984cf36",
       "version_major": 2,
       "version_minor": 0
      },
      "text/plain": [
       "interactive(children=(FloatLogSlider(value=0.2, description='structural', layout=Layout(width='500px'), max=0.…"
      ]
     },
     "metadata": {},
     "output_type": "display_data"
    },
    {
     "name": "stdout",
     "output_type": "stream",
     "text": [
      "\n",
      "Pattern 3 ([0, 0, 0, 1, 'Close but totally unrelated']):\n"
     ]
    },
    {
     "data": {
      "application/vnd.jupyter.widget-view+json": {
       "model_id": "eab94be74a7748878335d3be1dd011b2",
       "version_major": 2,
       "version_minor": 0
      },
      "text/plain": [
       "interactive(children=(FloatLogSlider(value=0.2, description='structural', layout=Layout(width='500px'), max=0.…"
      ]
     },
     "metadata": {},
     "output_type": "display_data"
    },
    {
     "name": "stdout",
     "output_type": "stream",
     "text": [
      "\n",
      "Pattern 4 ([0, 1, 1, 0, 'Evo + Ling but no struct + big distance']):\n"
     ]
    },
    {
     "data": {
      "application/vnd.jupyter.widget-view+json": {
       "model_id": "86f9866757324968bdd50706a15ffbc5",
       "version_major": 2,
       "version_minor": 0
      },
      "text/plain": [
       "interactive(children=(FloatLogSlider(value=0.2, description='structural', layout=Layout(width='500px'), max=0.…"
      ]
     },
     "metadata": {},
     "output_type": "display_data"
    },
    {
     "name": "stdout",
     "output_type": "stream",
     "text": [
      "\n",
      "Program is over!\n"
     ]
    }
   ],
   "source": [
    "import logging\n",
    "import pdb\n",
    "logging.basicConfig(level=logging.INFO)\n",
    "%matplotlib inline\n",
    "%run LocalRepo.ipynb\n",
    "%run repos.ipynb\n",
    "%run parsing.ipynb\n",
    "%run metrics.ipynb\n",
    "%run analysis.ipynb\n",
    "import pyfiglet\n",
    "import numpy as np\n",
    "# np.seterr(all='raise')\n",
    "import os\n",
    "\n",
    "\n",
    "repos = [\n",
    "    \"ErikBrendel/LudumDare\", # 8 minutes BTM\n",
    "    \"eclipse/eclipse.jdt.core\",  # from duerschmidt\n",
    "    \"jenkinsci/jenkins\",\n",
    "    \"wumpz/jhotdraw\",\n",
    "    \"neuland/jade4j\",\n",
    "    \"jfree/jfreechart\",\n",
    "    \"brettwooldridge/HikariCP\",  # 1.2h BTM\n",
    "    \"adamfisk/LittleProxy\",  # 1.5h BTM\n",
    "    \"dynjs/dynjs\",  # 2.5h BTM\n",
    "    # \"SonarSource/sonarqube\",  # quite big / prob. several hours BTM\n",
    "    \"square/okhttp\",\n",
    "    \"eclipse/che\",\n",
    "    \"elastic/elasticsearch\",\n",
    "    \"apache/camel\",\n",
    "    \"jOOQ/jOOQ\",\n",
    "]\n",
    "repos = [\"eclipse/eclipse.jdt.core\"]\n",
    "\n",
    "\n",
    "\n",
    "for repo in repos:\n",
    "    r = LocalRepo(repo)\n",
    "    print(pyfiglet.figlet_format(r.name))\n",
    "    r.update()\n",
    "    \n",
    "    for view in []: # [\"structural\", \"evolutionary\", \"linguistic\"]\n",
    "        # MetricManager.clear(r, view)\n",
    "\n",
    "        coupling_graph = MetricManager.get(r, view)\n",
    "        # coupling_graph.plaintext_save(repo)\n",
    "        # coupling_graph.html_save(repo)\n",
    "        \n",
    "\n",
    "        print(\"\\nResults from the \" + view + \" view:\\n\")\n",
    "\n",
    "        coupling_graph.print_statistics()\n",
    "        # coupling_graph.print_most_linked_nodes()\n",
    "        # coupling_graph.show_weight_histogram()\n",
    "        # coupling_graph.visualize(use_spring=False, with_labels=False)\n",
    "        # coupling_graph.visualize(use_spring=True, with_labels=False)\n",
    "        print(\"\\n\")\n",
    "    # continue\n",
    "    \n",
    "    # amalysis\n",
    "    repo_tree = r.get_tree()\n",
    "    def node_filter(node_path):\n",
    "        tree_node = repo_tree.find_node(node_path)\n",
    "        return tree_node.get_type() == \"method\" and tree_node.get_line_span() >= 200\n",
    "    def node_pair_filter(node_a_path, node_b_path):\n",
    "        return True # path_module_distance(node_a_path, node_b_path) >= 6\n",
    "    \n",
    "    \n",
    "    #analyze_disagreements(r, [\"linguistic\"], [\n",
    "    #    [1, \"Highest Ling\"],\n",
    "    #], node_filter, node_pair_filter)\n",
    "    \n",
    "    \"\"\"\n",
    "    analyze_disagreements(r, [\"structural\", \"evolutionary\", \"module_distance\"], [\n",
    "        [1, 0, None, \"using each other, but not developed together\"],\n",
    "        [0, 1, None, \"unrelated functionality that gets adjusted together\"],\n",
    "        [1, None, 0, \"Strong structural coupling across a big distance\"],\n",
    "        [None, 1, 0, \"Strong evolutionary coupling across a big distance\"],\n",
    "        [0, 1, 0, \"Strong evolutionary and low structural coupling across a big distance\"],\n",
    "    ], node_filter, node_pair_filter)\n",
    "    \"\"\"\n",
    "    analyze_disagreements(r, [\"structural\", \"evolutionary\", \"linguistic\", \"module_distance\"], [\n",
    "        [1, 0, 0, 0, \"Strong structural and low evolutionary / linguistic coupling across a big distance\"],\n",
    "        [0, 1, 0, 0, \"Strong evolutionary and low structural / linguistic coupling across a big distance\"],\n",
    "        [0, 0, 1, 0, \"Strong linguistic and low structural / evolutionary coupling across a big distance\"],\n",
    "        [0, 0, 0, 1, \"Close but totally unrelated\"],\n",
    "        [0, 1, 1, 0, \"Evo + Ling but no struct + big distance\"],\n",
    "    ], node_filter, node_pair_filter)\n",
    "    \n",
    "    #analyze_disagreements(r, [\"evolutionary\", \"module_distance\"], [\n",
    "    #    [1, 0, \"Strong evolutionary coupling across a big distance\"],\n",
    "    #], node_filter, node_pair_filter)\n",
    "    \n",
    "    #analyze_disagreements(r, [\"structural\", \"evolutionary\"], [\n",
    "    #    [0, 1, \"adjusted together without structural relation\"],\n",
    "    #], node_filter, node_pair_filter)\n",
    "    \n",
    "print(\"\\nProgram is over!\")\n",
    "\n",
    "# https://arrow.apache.org/docs/python/plasma.html#putting-and-getting-python-objects"
   ]
  },
  {
   "cell_type": "code",
   "execution_count": null,
   "metadata": {},
   "outputs": [],
   "source": []
  }
 ],
 "metadata": {
  "kernelspec": {
   "display_name": "PyPy3",
   "language": "python",
   "name": "pypy3"
  },
  "language_info": {
   "codemirror_mode": {
    "name": "ipython",
    "version": 3
   },
   "file_extension": ".py",
   "mimetype": "text/x-python",
   "name": "python",
   "nbconvert_exporter": "python",
   "pygments_lexer": "ipython3",
   "version": "3.9.2"
  },
  "toc-autonumbering": true,
  "toc-showcode": true,
  "toc-showmarkdowntxt": true,
  "toc-showtags": false
 },
 "nbformat": 4,
 "nbformat_minor": 4
}
