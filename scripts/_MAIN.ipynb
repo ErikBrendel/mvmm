{
 "cells": [
  {
   "cell_type": "code",
   "execution_count": 3,
   "metadata": {},
   "outputs": [
    {
     "name": "stdout",
     "output_type": "stream",
     "text": [
      "                                      ___ _           _      _           \n",
      "__      ___   _ _ __ ___  _ __ ____  / (_) |__   ___ | |_ __| |_ __ __ _ \n",
      "\\ \\ /\\ / / | | | '_ ` _ \\| '_ \\_  / / /| | '_ \\ / _ \\| __/ _` | '__/ _` |\n",
      " \\ V  V /| |_| | | | | | | |_) / / / / | | | | | (_) | || (_| | | | (_| |\n",
      "  \\_/\\_/  \\__,_|_| |_| |_| .__/___/_/ _/ |_| |_|\\___/ \\__\\__,_|_|  \\__,_|\n",
      "                         |_|         |__/                                \n",
      "          \n",
      "__      __\n",
      "\\ \\ /\\ / /\n",
      " \\ V  V / \n",
      "  \\_/\\_/  \n",
      "          \n",
      "\n",
      "updating wumpz/jhotdraw...\n",
      "Repo is up to date!\n",
      "Analyzing 669 of 671 files\n",
      "Skipped 2 test roots: ['jhotdraw-utils/src/test', 'jhotdraw-core/src/test']\n",
      "Found 11208 classes, methods and fields!\n",
      "Nodes in project structure: 11208\n",
      "Using precalculated structural values\n"
     ]
    },
    {
     "data": {
      "application/vnd.jupyter.widget-view+json": {
       "model_id": "1aad08e9d3ae4e92b8b0ce19fbe6ce54",
       "version_major": 2,
       "version_minor": 0
      },
      "text/plain": [
       "Propagating down coupling information, iteration 1/2:   0%|          | 0/1254 [00:00<?, ?it/s]"
      ]
     },
     "metadata": {},
     "output_type": "display_data"
    },
    {
     "data": {
      "application/vnd.jupyter.widget-view+json": {
       "model_id": "4dbe995184f84968b3745b92418fff27",
       "version_major": 2,
       "version_minor": 0
      },
      "text/plain": [
       "Applying changes, iteration 1/2:   0%|          | 0/762283 [00:00<?, ?it/s]"
      ]
     },
     "metadata": {},
     "output_type": "display_data"
    },
    {
     "data": {
      "application/vnd.jupyter.widget-view+json": {
       "model_id": "cf331503cc38479f8f9e5971d78f65fb",
       "version_major": 2,
       "version_minor": 0
      },
      "text/plain": [
       "Propagating down coupling information, iteration 2/2:   0%|          | 0/1254 [00:00<?, ?it/s]"
      ]
     },
     "metadata": {},
     "output_type": "display_data"
    },
    {
     "data": {
      "application/vnd.jupyter.widget-view+json": {
       "model_id": "c4c3a7707e3e4976b279435e0a49f8d8",
       "version_major": 2,
       "version_minor": 0
      },
      "text/plain": [
       "Applying changes, iteration 2/2:   0%|          | 0/904461 [00:00<?, ?it/s]"
      ]
     },
     "metadata": {},
     "output_type": "display_data"
    },
    {
     "name": "stdout",
     "output_type": "stream",
     "text": [
      "Using precalculated evolutionary values\n",
      "Using precalculated linguistic values\n",
      "Total node count: 213\n",
      "Methods: 180\n",
      "constructors: 8\n",
      "fields: 25\n",
      "classes: 0\n",
      "interfaces: 0\n",
      "enums: 0\n",
      "without type: 0\n",
      "all filtered nodes: 137\n",
      "False\n",
      "False\n",
      "Amount of node pairs to check: 9316 of 9316 (100.0%)\n",
      "Going parallel...\n",
      "False\n",
      "False\n"
     ]
    },
    {
     "data": {
      "application/vnd.jupyter.widget-view+json": {
       "model_id": "3f70e384cb9c45d88b1b01e5c63607b7",
       "version_major": 2,
       "version_minor": 0
      },
      "text/plain": [
       "Analyzing edges:   0%|          | 0/9316 [00:00<?, ?it/s]"
      ]
     },
     "metadata": {},
     "output_type": "display_data"
    },
    {
     "name": "stdout",
     "output_type": "stream",
     "text": [
      "Results:\n",
      "\n",
      "Pattern 0 ([None, None, 1, None, 'Strongest ling']):\n"
     ]
    },
    {
     "data": {
      "application/vnd.jupyter.widget-view+json": {
       "model_id": "39f9992183534f41830ba5094409b091",
       "version_major": 2,
       "version_minor": 0
      },
      "text/plain": [
       "interactive(children=(FloatLogSlider(value=1.0, description='linguistic', layout=Layout(width='500px'), max=0.…"
      ]
     },
     "metadata": {},
     "output_type": "display_data"
    },
    {
     "name": "stdout",
     "output_type": "stream",
     "text": [
      "\n",
      "Pattern 1 ([None, None, 0, None, 'Weakest ling']):\n"
     ]
    },
    {
     "data": {
      "application/vnd.jupyter.widget-view+json": {
       "model_id": "fcb390896b944cc991cf3e3797c658a0",
       "version_major": 2,
       "version_minor": 0
      },
      "text/plain": [
       "interactive(children=(FloatLogSlider(value=1.0, description='linguistic', layout=Layout(width='500px'), max=0.…"
      ]
     },
     "metadata": {},
     "output_type": "display_data"
    },
    {
     "name": "stdout",
     "output_type": "stream",
     "text": [
      "\n",
      "Pattern 2 ([1, 0, 0, 0, 'Strong structural and low evolutionary / linguistic coupling across a big distance']):\n"
     ]
    },
    {
     "data": {
      "application/vnd.jupyter.widget-view+json": {
       "model_id": "f373622bf13748db815ef1015f4f2312",
       "version_major": 2,
       "version_minor": 0
      },
      "text/plain": [
       "interactive(children=(FloatLogSlider(value=0.25, description='structural', layout=Layout(width='500px'), max=0…"
      ]
     },
     "metadata": {},
     "output_type": "display_data"
    },
    {
     "name": "stdout",
     "output_type": "stream",
     "text": [
      "\n",
      "Pattern 3 ([0, 1, 0, 0, 'Strong evolutionary and low structural / linguistic coupling across a big distance']):\n"
     ]
    },
    {
     "data": {
      "application/vnd.jupyter.widget-view+json": {
       "model_id": "1cabe39ca84449b8b4e89cf363e03acf",
       "version_major": 2,
       "version_minor": 0
      },
      "text/plain": [
       "interactive(children=(FloatLogSlider(value=0.25, description='structural', layout=Layout(width='500px'), max=0…"
      ]
     },
     "metadata": {},
     "output_type": "display_data"
    },
    {
     "name": "stdout",
     "output_type": "stream",
     "text": [
      "\n",
      "Pattern 4 ([0, 0, 1, 0, 'Strong linguistic and low structural / evolutionary coupling across a big distance']):\n"
     ]
    },
    {
     "data": {
      "application/vnd.jupyter.widget-view+json": {
       "model_id": "d2fc37c93b1a4f2b802ecebb3f9e13a1",
       "version_major": 2,
       "version_minor": 0
      },
      "text/plain": [
       "interactive(children=(FloatLogSlider(value=0.25, description='structural', layout=Layout(width='500px'), max=0…"
      ]
     },
     "metadata": {},
     "output_type": "display_data"
    },
    {
     "name": "stdout",
     "output_type": "stream",
     "text": [
      "\n",
      "Pattern 5 ([0, 0, 0, 1, 'Close but totally unrelated']):\n"
     ]
    },
    {
     "data": {
      "application/vnd.jupyter.widget-view+json": {
       "model_id": "1d27a35474af476aaf33838ddc519323",
       "version_major": 2,
       "version_minor": 0
      },
      "text/plain": [
       "interactive(children=(FloatLogSlider(value=0.25, description='structural', layout=Layout(width='500px'), max=0…"
      ]
     },
     "metadata": {},
     "output_type": "display_data"
    },
    {
     "name": "stdout",
     "output_type": "stream",
     "text": [
      "\n",
      "Pattern 6 ([0, 1, 1, 0, 'Evo + Ling but no struct + big distance']):\n"
     ]
    },
    {
     "data": {
      "application/vnd.jupyter.widget-view+json": {
       "model_id": "48085de7a296450986caaf3ec22427a8",
       "version_major": 2,
       "version_minor": 0
      },
      "text/plain": [
       "interactive(children=(FloatLogSlider(value=0.25, description='structural', layout=Layout(width='500px'), max=0…"
      ]
     },
     "metadata": {},
     "output_type": "display_data"
    },
    {
     "name": "stdout",
     "output_type": "stream",
     "text": [
      "\n",
      "Program is over!\n"
     ]
    }
   ],
   "source": [
    "import logging\n",
    "import pdb\n",
    "logging.basicConfig(level=logging.INFO)\n",
    "%matplotlib inline\n",
    "%run LocalRepo.ipynb\n",
    "%run repos.ipynb\n",
    "%run parsing.ipynb\n",
    "%run metrics.ipynb\n",
    "%run analysis.ipynb\n",
    "import pyfiglet\n",
    "import numpy as np\n",
    "# np.seterr(all='raise')\n",
    "import os\n",
    "\n",
    "\n",
    "repos = [\n",
    "    \"ErikBrendel/LudumDare\", # 8 minutes BTM\n",
    "    \"eclipse/eclipse.jdt.core\",  # from duerschmidt\n",
    "    \"jenkinsci/jenkins\",\n",
    "    \"wumpz/jhotdraw\",\n",
    "    \"neuland/jade4j\",\n",
    "    \"jfree/jfreechart\",\n",
    "    \"brettwooldridge/HikariCP\",  # 1.2h BTM\n",
    "    \"adamfisk/LittleProxy\",  # 1.5h BTM\n",
    "    \"dynjs/dynjs\",  # 2.5h BTM\n",
    "    # \"SonarSource/sonarqube\",  # quite big / prob. several hours BTM\n",
    "    \"square/okhttp\",\n",
    "    \"eclipse/che\",\n",
    "    \"elastic/elasticsearch\",\n",
    "    \"apache/camel\",\n",
    "    \"jOOQ/jOOQ\",\n",
    "]\n",
    "repos = [\"wumpz/jhotdraw\"]\n",
    "\n",
    "\n",
    "\n",
    "for repo in repos:\n",
    "    r = LocalRepo(repo)\n",
    "    print(pyfiglet.figlet_format(r.name))\n",
    "    r.update()\n",
    "    \n",
    "    # pdb.set_trace()\n",
    "    print(\"Nodes in project structure:\", r.get_tree().node_count())\n",
    "    \n",
    "    for view in []: # [\"structural\", \"evolutionary\", \"linguistic\"]\n",
    "        # MetricManager.clear(r, view)\n",
    "\n",
    "        coupling_graph = MetricManager.get(r, view)\n",
    "        # coupling_graph.plaintext_save(repo)\n",
    "        # coupling_graph.html_save(repo)\n",
    "        \n",
    "\n",
    "        print(\"\\nResults from the \" + view + \" view:\\n\")\n",
    "\n",
    "        coupling_graph.print_statistics()\n",
    "        coupling_graph.print_most_linked_nodes()\n",
    "        # coupling_graph.show_weight_histogram()\n",
    "        # coupling_graph.visualize(use_spring=False, with_labels=False)\n",
    "        # coupling_graph.visualize(use_spring=True, with_labels=False)\n",
    "        print(\"\\n\")\n",
    "    # continue\n",
    "    \n",
    "    # amalysis\n",
    "    repo_tree = r.get_tree()\n",
    "    def node_filter(node_path):\n",
    "        tree_node = repo_tree.find_node(node_path)\n",
    "        return tree_node.get_type() == \"method\" and tree_node.get_line_span() >= 5\n",
    "    def node_pair_filter(node_a_path, node_b_path):\n",
    "        return True #path_module_distance(node_a_path, node_b_path) >= 0\n",
    "        \n",
    "    #analyze_disagreements(r, [\"structural\", \"evolutionary\", \"linguistic\"], [\n",
    "    #    [0, 1, None, \"unrelated functionality that gets adjusted together\"],\n",
    "    #    [0, 0, 1, \"duplicated concepts, developed separately\"],\n",
    "    #    [None, 0, 1, \"duplicated concepts, adjusted separately\"],\n",
    "    #    [1, None, 0, \"weakly modularized code\"]\n",
    "    #], node_filter, node_pair_filter)\n",
    "    \n",
    "    \"\"\"\n",
    "    analyze_disagreements(r, [\"structural\", \"evolutionary\", \"module_distance\"], [\n",
    "        [1, 0, None, \"using each other, but not developed together\"],\n",
    "        [0, 1, None, \"unrelated functionality that gets adjusted together\"],\n",
    "        [1, None, 0, \"Strong structural coupling across a big distance\"],\n",
    "        [None, 1, 0, \"Strong evolutionary coupling across a big distance\"],\n",
    "        [0, 1, 0, \"Strong evolutionary and low structural coupling across a big distance\"],\n",
    "    ], node_filter, node_pair_filter)\n",
    "    \"\"\"\n",
    "    analyze_disagreements(r, [\"structural\", \"evolutionary\", \"linguistic\", \"module_distance\"], [\n",
    "        [None, None, 1, None, \"Strongest ling\"],\n",
    "        [None, None, 0, None, \"Weakest ling\"],\n",
    "        [1, 0, 0, 0, \"Strong structural and low evolutionary / linguistic coupling across a big distance\"],\n",
    "        [0, 1, 0, 0, \"Strong evolutionary and low structural / linguistic coupling across a big distance\"],\n",
    "        [0, 0, 1, 0, \"Strong linguistic and low structural / evolutionary coupling across a big distance\"],\n",
    "        [0, 0, 0, 1, \"Close but totally unrelated\"],\n",
    "        [0, 1, 1, 0, \"Evo + Ling but no struct + big distance\"],\n",
    "    ], node_filter, node_pair_filter)\n",
    "    \n",
    "    #analyze_disagreements(r, [\"evolutionary\", \"module_distance\"], [\n",
    "    #    [1, 0, \"Strong evolutionary coupling across a big distance\"],\n",
    "    #], node_filter, node_pair_filter)\n",
    "    \n",
    "    #analyze_disagreements(r, [\"structural\", \"evolutionary\"], [\n",
    "    #    [0, 1, \"adjusted together without structural relation\"],\n",
    "    #], node_filter, node_pair_filter)\n",
    "    \n",
    "print(\"\\nProgram is over!\")"
   ]
  },
  {
   "cell_type": "markdown",
   "metadata": {},
   "source": [
    " "
   ]
  },
  {
   "cell_type": "code",
   "execution_count": null,
   "metadata": {},
   "outputs": [],
   "source": []
  }
 ],
 "metadata": {
  "kernelspec": {
   "display_name": "PyPy3",
   "language": "python",
   "name": "pypy3"
  },
  "language_info": {
   "codemirror_mode": {
    "name": "ipython",
    "version": 3
   },
   "file_extension": ".py",
   "mimetype": "text/x-python",
   "name": "python",
   "nbconvert_exporter": "python",
   "pygments_lexer": "ipython3",
   "version": "3.9.2"
  }
 },
 "nbformat": 4,
 "nbformat_minor": 4
}
