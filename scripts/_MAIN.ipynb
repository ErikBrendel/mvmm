{
 "cells": [
  {
   "cell_type": "code",
   "execution_count": 1,
   "metadata": {},
   "outputs": [
    {
     "name": "stderr",
     "output_type": "stream",
     "text": [
      "/usr/lib/python3.9/site-packages/gensim/similarities/__init__.py:15: UserWarning: The gensim.similarities.levenshtein submodule is disabled, because the optional Levenshtein package <https://pypi.org/project/python-Levenshtein/> is unavailable. Install Levenhstein (e.g. `pip install python-Levenshtein`) to suppress this warning.\n",
      "  warnings.warn(msg)\n"
     ]
    },
    {
     "name": "stdout",
     "output_type": "stream",
     "text": [
      "                                      ___ _           _      _           \n",
      "__      ___   _ _ __ ___  _ __ ____  / (_) |__   ___ | |_ __| |_ __ __ _ \n",
      "\\ \\ /\\ / / | | | '_ ` _ \\| '_ \\_  / / /| | '_ \\ / _ \\| __/ _` | '__/ _` |\n",
      " \\ V  V /| |_| | | | | | | |_) / / / / | | | | | (_) | || (_| | | | (_| |\n",
      "  \\_/\\_/  \\__,_|_| |_| |_| .__/___/_/ _/ |_| |_|\\___/ \\__\\__,_|_|  \\__,_|\n",
      "                         |_|         |__/                                \n",
      "          \n",
      "__      __\n",
      "\\ \\ /\\ / /\n",
      " \\ V  V / \n",
      "  \\_/\\_/  \n",
      "          \n",
      "\n",
      "updating wumpz/jhotdraw...\n",
      "Repo is up to date!\n",
      "Analyzing 483 of 671 files\n",
      "Skipped 3 test and sample roots: ['jhotdraw-utils/src/test', 'jhotdraw-core/src/test', 'jhotdraw-samples']\n",
      "Found 8191 directories, files, classes, methods and fields!\n",
      "Using precalculated structural values\n"
     ]
    },
    {
     "data": {
      "application/vnd.jupyter.widget-view+json": {
       "model_id": "b2db69a8b5f44e628dea0ddbc178dcb2",
       "version_major": 2,
       "version_minor": 0
      },
      "text/plain": [
       "Propagating down coupling information, iteration 1/2:   0%|          | 0/1260 [00:00<?, ?it/s]"
      ]
     },
     "metadata": {},
     "output_type": "display_data"
    },
    {
     "data": {
      "application/vnd.jupyter.widget-view+json": {
       "model_id": "9a866281727a4d9ca2793be6e2b35d71",
       "version_major": 2,
       "version_minor": 0
      },
      "text/plain": [
       "Applying changes, iteration 1/2:   0%|          | 0/762998 [00:00<?, ?it/s]"
      ]
     },
     "metadata": {},
     "output_type": "display_data"
    },
    {
     "data": {
      "application/vnd.jupyter.widget-view+json": {
       "model_id": "d3e6995425564bed90490e7df29e83ac",
       "version_major": 2,
       "version_minor": 0
      },
      "text/plain": [
       "Propagating down coupling information, iteration 2/2:   0%|          | 0/1260 [00:00<?, ?it/s]"
      ]
     },
     "metadata": {},
     "output_type": "display_data"
    },
    {
     "data": {
      "application/vnd.jupyter.widget-view+json": {
       "model_id": "194dc0bc7659437ba84c638374c49fec",
       "version_major": 2,
       "version_minor": 0
      },
      "text/plain": [
       "Applying changes, iteration 2/2:   0%|          | 0/908436 [00:00<?, ?it/s]"
      ]
     },
     "metadata": {},
     "output_type": "display_data"
    },
    {
     "name": "stdout",
     "output_type": "stream",
     "text": [
      "Using precalculated evolutionary values\n",
      "Using precalculated linguistic values\n",
      "Total node count: 149\n",
      "Methods: 122\n",
      "constructors: 7\n",
      "fields: 20\n",
      "classes: 0\n",
      "interfaces: 0\n",
      "enums: 0\n",
      "without type: 0\n",
      "all filtered nodes: 99\n",
      "False\n",
      "False\n",
      "Amount of node pairs to check: 4851 of 4851 (100.0%)\n",
      "Going parallel...\n"
     ]
    },
    {
     "data": {
      "application/vnd.jupyter.widget-view+json": {
       "model_id": "408cea45308048b6920a6829898b0332",
       "version_major": 2,
       "version_minor": 0
      },
      "text/plain": [
       "Analyzing edges:   0%|          | 0/4851 [00:00<?, ?it/s]"
      ]
     },
     "metadata": {},
     "output_type": "display_data"
    },
    {
     "name": "stdout",
     "output_type": "stream",
     "text": [
      "Results:\n",
      "\n",
      "Pattern 0 ([1, 0, 0, 0, 'Strong structural and low evolutionary / linguistic coupling across a big distance']):\n"
     ]
    },
    {
     "data": {
      "application/vnd.jupyter.widget-view+json": {
       "model_id": "9c62471a379a48b1a335958eed56635f",
       "version_major": 2,
       "version_minor": 0
      },
      "text/plain": [
       "interactive(children=(FloatLogSlider(value=0.2, description='structural', layout=Layout(width='500px'), max=0.…"
      ]
     },
     "metadata": {},
     "output_type": "display_data"
    },
    {
     "name": "stdout",
     "output_type": "stream",
     "text": [
      "\n",
      "Pattern 1 ([0, 1, 0, 0, 'Strong evolutionary and low structural / linguistic coupling across a big distance']):\n"
     ]
    },
    {
     "data": {
      "application/vnd.jupyter.widget-view+json": {
       "model_id": "d0c22a81bb304cfca75eb4058806440a",
       "version_major": 2,
       "version_minor": 0
      },
      "text/plain": [
       "interactive(children=(FloatLogSlider(value=0.2, description='structural', layout=Layout(width='500px'), max=0.…"
      ]
     },
     "metadata": {},
     "output_type": "display_data"
    },
    {
     "name": "stdout",
     "output_type": "stream",
     "text": [
      "\n",
      "Pattern 2 ([0, 0, 1, 0, 'Strong linguistic and low structural / evolutionary coupling across a big distance']):\n"
     ]
    },
    {
     "data": {
      "application/vnd.jupyter.widget-view+json": {
       "model_id": "cae6fac962164dada2dbcfc998c54b1a",
       "version_major": 2,
       "version_minor": 0
      },
      "text/plain": [
       "interactive(children=(FloatLogSlider(value=0.2, description='structural', layout=Layout(width='500px'), max=0.…"
      ]
     },
     "metadata": {},
     "output_type": "display_data"
    },
    {
     "name": "stdout",
     "output_type": "stream",
     "text": [
      "\n",
      "Pattern 3 ([0, 0, 0, 1, 'Close but totally unrelated']):\n"
     ]
    },
    {
     "data": {
      "application/vnd.jupyter.widget-view+json": {
       "model_id": "4ff9dd2138d6428da77c21fe85431657",
       "version_major": 2,
       "version_minor": 0
      },
      "text/plain": [
       "interactive(children=(FloatLogSlider(value=0.2, description='structural', layout=Layout(width='500px'), max=0.…"
      ]
     },
     "metadata": {},
     "output_type": "display_data"
    },
    {
     "name": "stdout",
     "output_type": "stream",
     "text": [
      "\n",
      "Pattern 4 ([0, 1, 1, 0, 'Evo + Ling but no struct + big distance']):\n"
     ]
    },
    {
     "data": {
      "application/vnd.jupyter.widget-view+json": {
       "model_id": "950b1fe830dc456c9746db7891465896",
       "version_major": 2,
       "version_minor": 0
      },
      "text/plain": [
       "interactive(children=(FloatLogSlider(value=0.2, description='structural', layout=Layout(width='500px'), max=0.…"
      ]
     },
     "metadata": {},
     "output_type": "display_data"
    },
    {
     "name": "stdout",
     "output_type": "stream",
     "text": [
      "\n",
      "Program is over!\n"
     ]
    }
   ],
   "source": [
    "import logging\n",
    "import pdb\n",
    "logging.basicConfig(level=logging.INFO)\n",
    "%matplotlib inline\n",
    "%run LocalRepo.ipynb\n",
    "%run repos.ipynb\n",
    "%run parsing.ipynb\n",
    "%run metrics.ipynb\n",
    "%run analysis.ipynb\n",
    "import pyfiglet\n",
    "import numpy as np\n",
    "# np.seterr(all='raise')\n",
    "import os\n",
    "\n",
    "\n",
    "repos = [\n",
    "    \"ErikBrendel/LudumDare\", # 8 minutes BTM\n",
    "    \"eclipse/eclipse.jdt.core\",  # from duerschmidt\n",
    "    \"jenkinsci/jenkins\",\n",
    "    \"wumpz/jhotdraw\",\n",
    "    \"neuland/jade4j\",\n",
    "    \"jfree/jfreechart\",\n",
    "    \"brettwooldridge/HikariCP\",  # 1.2h BTM\n",
    "    \"adamfisk/LittleProxy\",  # 1.5h BTM\n",
    "    \"dynjs/dynjs\",  # 2.5h BTM\n",
    "    # \"SonarSource/sonarqube\",  # quite big / prob. several hours BTM\n",
    "    \"square/okhttp\",\n",
    "    \"eclipse/che\",\n",
    "    \"elastic/elasticsearch\",\n",
    "    \"apache/camel\",\n",
    "    \"jOOQ/jOOQ\",\n",
    "]\n",
    "repos = [\"wumpz/jhotdraw\"]\n",
    "\n",
    "\n",
    "\n",
    "for repo in repos:\n",
    "    r = LocalRepo(repo)\n",
    "    print(pyfiglet.figlet_format(r.name))\n",
    "    r.update()\n",
    "    \n",
    "    for view in []: # [\"structural\", \"evolutionary\", \"linguistic\"]\n",
    "        # MetricManager.clear(r, view)\n",
    "\n",
    "        coupling_graph = MetricManager.get(r, view)\n",
    "        # coupling_graph.plaintext_save(repo)\n",
    "        # coupling_graph.html_save(repo)\n",
    "        \n",
    "\n",
    "        print(\"\\nResults from the \" + view + \" view:\\n\")\n",
    "\n",
    "        coupling_graph.print_statistics()\n",
    "        # coupling_graph.print_most_linked_nodes()\n",
    "        # coupling_graph.show_weight_histogram()\n",
    "        # coupling_graph.visualize(use_spring=False, with_labels=False)\n",
    "        # coupling_graph.visualize(use_spring=True, with_labels=False)\n",
    "        print(\"\\n\")\n",
    "    # continue\n",
    "    \n",
    "    # amalysis\n",
    "    repo_tree = r.get_tree()\n",
    "    def node_filter(node_path):\n",
    "        tree_node = repo_tree.find_node(node_path)\n",
    "        return tree_node.get_type() == \"method\" and tree_node.get_line_span() >= 4\n",
    "    def node_pair_filter(node_a_path, node_b_path):\n",
    "        return True # path_module_distance(node_a_path, node_b_path) >= 6\n",
    "    \n",
    "    \n",
    "    #analyze_disagreements(r, [\"linguistic\"], [\n",
    "    #    [1, \"Highest Ling\"],\n",
    "    #], node_filter, node_pair_filter)\n",
    "    \n",
    "    \"\"\"\n",
    "    analyze_disagreements(r, [\"structural\", \"evolutionary\", \"module_distance\"], [\n",
    "        [1, 0, None, \"using each other, but not developed together\"],\n",
    "        [0, 1, None, \"unrelated functionality that gets adjusted together\"],\n",
    "        [1, None, 0, \"Strong structural coupling across a big distance\"],\n",
    "        [None, 1, 0, \"Strong evolutionary coupling across a big distance\"],\n",
    "        [0, 1, 0, \"Strong evolutionary and low structural coupling across a big distance\"],\n",
    "    ], node_filter, node_pair_filter)\n",
    "    \"\"\"\n",
    "    analyze_disagreements(r, [\"structural\", \"evolutionary\", \"linguistic\", \"module_distance\"], [\n",
    "        [1, 0, 0, 0, \"Strong structural and low evolutionary / linguistic coupling across a big distance\"],\n",
    "        [0, 1, 0, 0, \"Strong evolutionary and low structural / linguistic coupling across a big distance\"],\n",
    "        [0, 0, 1, 0, \"Strong linguistic and low structural / evolutionary coupling across a big distance\"],\n",
    "        [0, 0, 0, 1, \"Close but totally unrelated\"],\n",
    "        [0, 1, 1, 0, \"Evo + Ling but no struct + big distance\"],\n",
    "    ], node_filter, node_pair_filter)\n",
    "    \n",
    "    #analyze_disagreements(r, [\"evolutionary\", \"module_distance\"], [\n",
    "    #    [1, 0, \"Strong evolutionary coupling across a big distance\"],\n",
    "    #], node_filter, node_pair_filter)\n",
    "    \n",
    "    #analyze_disagreements(r, [\"structural\", \"evolutionary\"], [\n",
    "    #    [0, 1, \"adjusted together without structural relation\"],\n",
    "    #], node_filter, node_pair_filter)\n",
    "    \n",
    "print(\"\\nProgram is over!\")\n",
    "\n",
    "# https://arrow.apache.org/docs/python/plasma.html#putting-and-getting-python-objects"
   ]
  },
  {
   "cell_type": "code",
   "execution_count": null,
   "metadata": {},
   "outputs": [],
   "source": []
  }
 ],
 "metadata": {
  "kernelspec": {
   "display_name": "PyPy3",
   "language": "python",
   "name": "pypy3"
  },
  "language_info": {
   "codemirror_mode": {
    "name": "ipython",
    "version": 3
   },
   "file_extension": ".py",
   "mimetype": "text/x-python",
   "name": "python",
   "nbconvert_exporter": "python",
   "pygments_lexer": "ipython3",
   "version": "3.9.2"
  },
  "toc-autonumbering": true,
  "toc-showcode": true,
  "toc-showmarkdowntxt": true,
  "toc-showtags": false
 },
 "nbformat": 4,
 "nbformat_minor": 4
}
