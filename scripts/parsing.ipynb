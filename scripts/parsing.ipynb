{
 "cells": [
  {
   "cell_type": "code",
   "execution_count": 1,
   "metadata": {},
   "outputs": [],
   "source": [
    "from tree_sitter import Language, Parser, Node\n",
    "# https://github.com/tree-sitter/py-tree-sitter\n",
    "\n",
    "language_lib_path = '../lib/my-languages.so'\n",
    "Language.build_library(\n",
    "    language_lib_path,\n",
    "    [\n",
    "        '../lib/tree-sitter-java',\n",
    "        '../lib/tree-sitter-typescript/typescript',\n",
    "        '../lib/tree-sitter-python'\n",
    "    ]\n",
    ")\n",
    "JA_LANGUAGE = Language(language_lib_path, 'java')\n",
    "TS_LANGUAGE = Language(language_lib_path, 'typescript')\n",
    "PY_LANGUAGE = Language(language_lib_path, 'python')\n",
    "\n",
    "\n",
    "# methods on node:\n",
    "# 'child_by_field_id', 'child_by_field_name', 'children', 'end_byte', 'end_point', 'has_changes', 'has_error', 'is_named', 'sexp', 'start_byte', 'start_point', 'type', 'walk'"
   ]
  },
  {
   "cell_type": "code",
   "execution_count": 2,
   "metadata": {},
   "outputs": [],
   "source": [
    "java_parser = Parser()\n",
    "java_parser.set_language(JA_LANGUAGE)"
   ]
  }
 ],
 "metadata": {
  "kernelspec": {
   "display_name": "Python 3",
   "language": "python",
   "name": "python3"
  },
  "language_info": {
   "codemirror_mode": {
    "name": "ipython",
    "version": 3
   },
   "file_extension": ".py",
   "mimetype": "text/x-python",
   "name": "python",
   "nbconvert_exporter": "python",
   "pygments_lexer": "ipython3",
   "version": "3.7.9"
  }
 },
 "nbformat": 4,
 "nbformat_minor": 4
}
