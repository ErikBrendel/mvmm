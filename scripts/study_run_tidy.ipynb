{
 "cells": [
  {
   "cell_type": "code",
   "execution_count": null,
   "id": "0e626e0d-c9d7-4e08-8066-950d5fd123bb",
   "metadata": {},
   "outputs": [],
   "source": [
    "# Please click on the play button in the toolbar above this comment to start the study!\n",
    "# If there is any matplotlib.font_manager error, just ignore it, it's fine :)\n",
    "\n",
    "%run study_notebook.ipynb"
   ]
  }
 ],
 "metadata": {
  "kernelspec": {
   "display_name": "Python 3",
   "language": "python",
   "name": "python3"
  },
  "language_info": {
   "codemirror_mode": {
    "name": "ipython",
    "version": 3
   },
   "file_extension": ".py",
   "mimetype": "text/x-python",
   "name": "python",
   "nbconvert_exporter": "python",
   "pygments_lexer": "ipython3",
   "version": "3.9.6"
  }
 },
 "nbformat": 4,
 "nbformat_minor": 5
}
