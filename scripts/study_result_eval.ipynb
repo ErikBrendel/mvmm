{
 "cells": [
  {
   "cell_type": "code",
   "execution_count": 69,
   "id": "21a71172-6fb2-4db1-88fb-b8a6331eb255",
   "metadata": {},
   "outputs": [
    {
     "data": {
      "application/vnd.jupyter.widget-view+json": {
       "model_id": "92e3567b1c804cb6ae3cb4ba17c941c3",
       "version_major": 2,
       "version_minor": 0
      },
      "text/plain": [
       "interactive(children=(Dropdown(description='dataset', options=('dataset-junit-team_junit4.pickle', 'dataset-jf…"
      ]
     },
     "metadata": {},
     "output_type": "display_data"
    }
   ],
   "source": [
    "import os\n",
    "import numpy as np\n",
    "from datetime import datetime\n",
    "from IPython.display import display\n",
    "from ipywidgets import interact, interact_manual\n",
    "import ipywidgets as widgets\n",
    "from study_common import *\n",
    "from study_notebook_helper import *\n",
    "from sklearn.metrics import ConfusionMatrixDisplay\n",
    "from sklearn.metrics._plot.confusion_matrix import confusion_matrix\n",
    "import itertools\n",
    "import random\n",
    "\n",
    "d = len(TAXONOMY)\n",
    "study_datasets = [name for name in os.listdir(STUDY_RESULTS_PATH) if name.startswith(\"dataset-\")]\n",
    "@interact(dataset=study_datasets)\n",
    "def main(dataset=study_datasets[0]):\n",
    "    dataset_name = dataset[len(\"dataset-\"):-len(\".pickle\")]\n",
    "    study: STUDY_TYPE = None\n",
    "    with open(STUDY_RESULTS_PATH + dataset, \"rb\") as data_file:\n",
    "        study = pickle.load(data_file)\n",
    "    print(\"This is a study on \" + study[0])\n",
    "    random.Random(\"erik\" + dataset).shuffle(study[1])  # TODO NO!\n",
    "    correct_labels = [entry[0] for entry in study[1]]\n",
    "    \n",
    "    print()\n",
    "\n",
    "    result_vote_data = [name for name in os.listdir(STUDY_RESULTS_PATH) if name.startswith(\"votes-\") and dataset_name in name]\n",
    "    if len(result_vote_data) == 0:\n",
    "        print(\"Oh no, there is no data yet! Please go and do the study!\")\n",
    "        return\n",
    "    print(\"Chose votes to anaylze for \" + dataset_name)\n",
    "    @interact(result_data=result_vote_data)\n",
    "    def analyze(result_data=result_vote_data[0]):\n",
    "        votes = None\n",
    "        with open(STUDY_RESULTS_PATH + result_data, \"rb\") as votes_file:\n",
    "            votes = pickle.load(votes_file)\n",
    "        display_labels = [t[1] for t in TAXONOMY]\n",
    "        \n",
    "        if True:  # reorder the matrix columns to have everything as close as possible to the middle!\n",
    "            confusion = [[0] * d for t in range(d)]\n",
    "            for correct, pred in zip(correct_labels, votes):\n",
    "                confusion[correct][pred] += 1\n",
    "            print(np.array(confusion))\n",
    "            key=lambda order: sum((confusion[order[i1]][order[i2]] + confusion[order[i2]][order[i1]]) * (abs(i1 - i2) ** 2) for i1, i2 in itertools.combinations(range(d), 2))\n",
    "            best_ordering = min(\n",
    "                itertools.permutations(range(d), d),\n",
    "                key=key\n",
    "            )\n",
    "            # best_ordering = random.choice(list(itertools.permutations(range(d), d)))  # use a random one!\n",
    "            print(best_ordering)\n",
    "            best_ordering_inv = [0 for i in range(d)]\n",
    "            for i, val in enumerate(best_ordering):\n",
    "                best_ordering_inv[val] = i\n",
    "            print(best_ordering_inv)\n",
    "\n",
    "            display_labels = [TAXONOMY[best_ordering[ti]][1] for ti in range(len(TAXONOMY))]\n",
    "            for i in range(len(votes)):\n",
    "                votes[i] = best_ordering_inv[votes[i]]\n",
    "                correct_labels[i] = best_ordering_inv[correct_labels[i]]\n",
    "            \n",
    "        print(correct_labels)\n",
    "        print(votes)\n",
    "        \n",
    "        # https://github.com/scikit-learn/scikit-learn/blob/cb7271339e56631fe47a22e259c98716f14f6894/sklearn/metrics/_plot/confusion_matrix.py#L566\n",
    "        cm = confusion_matrix(correct_labels, votes, normalize=None)  # normalize=\"true\"\n",
    "        disp = ConfusionMatrixDisplay(confusion_matrix=cm, display_labels=display_labels)\n",
    "        matrix_plot = disp.plot(\n",
    "            include_values=True,\n",
    "            cmap='viridis',\n",
    "            ax=None,\n",
    "            xticks_rotation='vertical',# 'horizontal',\n",
    "            values_format=None,\n",
    "            colorbar=True,\n",
    "        )\n",
    "        # https://stackoverflow.com/a/43153984/4354423\n",
    "        plt.setp(matrix_plot.ax_.get_xticklabels(), rotation=30, ha=\"right\")\n",
    "        "
   ]
  },
  {
   "cell_type": "code",
   "execution_count": null,
   "id": "e8eebd96-f3b7-4f97-affd-fd1e53713785",
   "metadata": {},
   "outputs": [],
   "source": []
  },
  {
   "cell_type": "code",
   "execution_count": null,
   "id": "923b6f26-3b8f-4daa-b18a-d2e28ea371c6",
   "metadata": {},
   "outputs": [],
   "source": []
  }
 ],
 "metadata": {
  "kernelspec": {
   "display_name": "Python 3",
   "language": "python",
   "name": "python3"
  },
  "language_info": {
   "codemirror_mode": {
    "name": "ipython",
    "version": 3
   },
   "file_extension": ".py",
   "mimetype": "text/x-python",
   "name": "python",
   "nbconvert_exporter": "python",
   "pygments_lexer": "ipython3",
   "version": "3.9.6"
  }
 },
 "nbformat": 4,
 "nbformat_minor": 5
}
