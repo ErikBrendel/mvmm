{
 "cells": [
  {
   "cell_type": "code",
   "execution_count": null,
   "id": "afraid-passport",
   "metadata": {},
   "outputs": [],
   "source": [
    "import pdb\n",
    "%run util.ipynb\n",
    "\n",
    "import ipywidgets as widgets\n",
    "from IPython.display import display\n",
    "from random import randrange\n",
    "\n",
    "data = []\n",
    "for i in range(100):\n",
    "    data.append((randrange(10000), randrange(1000), randrange(100), \"data-\"+str(i)))\n",
    "\n",
    "def show_data(data):\n",
    "    show_html_table(data[:100], 4)\n",
    "\n",
    "interactive_multi_sort(data, [\n",
    "    ('Big dim', lambda d: -d[0]),\n",
    "    ('medium dim', lambda d: -d[1]),\n",
    "    ('small dim', lambda d: -d[2]),\n",
    "], show_data)\n",
    "\n",
    "display(widgets.HTML(\n",
    "    value='<a target=\"_blank\" href=\"https://github.com/eclipse/eclipse.jdt.core/blob/master/org.eclipse.jdt.apt.core/src/org/eclipse/jdt/apt/core/internal/generatedfile/GeneratedSourceFolderManager.java\">F1</a> <b>World</b>',\n",
    "    description='Some HTML',\n",
    "))"
   ]
  },
  {
   "cell_type": "code",
   "execution_count": null,
   "id": "pending-serbia",
   "metadata": {},
   "outputs": [],
   "source": []
  }
 ],
 "metadata": {
  "kernelspec": {
   "display_name": "PyPy3",
   "language": "python",
   "name": "pypy3"
  },
  "language_info": {
   "codemirror_mode": {
    "name": "ipython",
    "version": 3
   },
   "file_extension": ".py",
   "mimetype": "text/x-python",
   "name": "python",
   "nbconvert_exporter": "python",
   "pygments_lexer": "ipython3",
   "version": "3.9.2"
  }
 },
 "nbformat": 4,
 "nbformat_minor": 5
}
