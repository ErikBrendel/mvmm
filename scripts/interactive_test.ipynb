{
 "cells": [
  {
   "cell_type": "code",
   "execution_count": 34,
   "id": "afraid-passport",
   "metadata": {},
   "outputs": [
    {
     "data": {
      "application/vnd.jupyter.widget-view+json": {
       "model_id": "ea264bbf28984409b478fd74c010e4b8",
       "version_major": 2,
       "version_minor": 0
      },
      "text/plain": [
       "interactive(children=(FloatLogSlider(value=0.3333333333333333, description='Big dim', layout=Layout(width='500…"
      ]
     },
     "metadata": {},
     "output_type": "display_data"
    },
    {
     "data": {
      "application/vnd.jupyter.widget-view+json": {
       "model_id": "de797bba63f348ff9bf89b35e41ea6d8",
       "version_major": 2,
       "version_minor": 0
      },
      "text/plain": [
       "HTML(value='<a target=\"_blank\" href=\"https://github.com/eclipse/eclipse.jdt.core/blob/master/org.eclipse.jdt.a…"
      ]
     },
     "metadata": {},
     "output_type": "display_data"
    }
   ],
   "source": [
    "import pdb\n",
    "%run util.ipynb\n",
    "\n",
    "import ipywidgets as widgets\n",
    "from IPython.display import display\n",
    "from random import randrange\n",
    "\n",
    "data = []\n",
    "for i in range(100):\n",
    "    data.append((randrange(10000), randrange(1000), randrange(100), \"data-\"+str(i)))\n",
    "\n",
    "def show_data(data):\n",
    "    show_html_table(data[:100], 4)\n",
    "\n",
    "interactive_multi_sort(data, [\n",
    "    ('Big dim', lambda d: -d[0]),\n",
    "    ('medium dim', lambda d: -d[1]),\n",
    "    ('small dim', lambda d: -d[2]),\n",
    "], show_data)\n",
    "\n",
    "display(widgets.HTML(\n",
    "    value='<a target=\"_blank\" href=\"https://github.com/eclipse/eclipse.jdt.core/blob/master/org.eclipse.jdt.apt.core/src/org/eclipse/jdt/apt/core/internal/generatedfile/GeneratedSourceFolderManager.java\">F1</a> <b>World</b>',\n",
    "    description='Some HTML',\n",
    "))"
   ]
  },
  {
   "cell_type": "code",
   "execution_count": null,
   "id": "needed-bailey",
   "metadata": {},
   "outputs": [],
   "source": []
  },
  {
   "cell_type": "code",
   "execution_count": null,
   "id": "pending-serbia",
   "metadata": {},
   "outputs": [],
   "source": []
  }
 ],
 "metadata": {
  "kernelspec": {
   "display_name": "Python 3",
   "language": "python",
   "name": "python3"
  },
  "language_info": {
   "codemirror_mode": {
    "name": "ipython",
    "version": 3
   },
   "file_extension": ".py",
   "mimetype": "text/x-python",
   "name": "python",
   "nbconvert_exporter": "python",
   "pygments_lexer": "ipython3",
   "version": "3.7.9"
  }
 },
 "nbformat": 4,
 "nbformat_minor": 5
}
