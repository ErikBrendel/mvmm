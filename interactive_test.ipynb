{
 "cells": [
  {
   "cell_type": "code",
   "execution_count": 33,
   "id": "demonstrated-juvenile",
   "metadata": {},
   "outputs": [
    {
     "data": {
      "application/vnd.jupyter.widget-view+json": {
       "model_id": "bfa08b38e7f1485aa7a58baa42de9982",
       "version_major": 2,
       "version_minor": 0
      },
      "text/plain": [
       "interactive(children=(FloatLogSlider(value=0.3333333333333333, description='Big dim', layout=Layout(width='500…"
      ]
     },
     "metadata": {},
     "output_type": "display_data"
    },
    {
     "data": {
      "application/vnd.jupyter.widget-view+json": {
       "model_id": "db7c811ce88b43bdb9ca00292bcc8303",
       "version_major": 2,
       "version_minor": 0
      },
      "text/plain": [
       "HTML(value='<a target=\"_blank\" href=\"https://github.com/eclipse/eclipse.jdt.core/blob/master/org.eclipse.jdt.a…"
      ]
     },
     "metadata": {},
     "output_type": "display_data"
    }
   ],
   "source": [
    "import pdb\n",
    "%run util.ipynb\n",
    "\n",
    "import ipywidgets as widgets\n",
    "from IPython.display import display\n",
    "from random import randrange\n",
    "\n",
    "data = []\n",
    "for i in range(100):\n",
    "    data.append((randrange(10000), randrange(1000), randrange(100), \"data-\"+str(i)))\n",
    "\n",
    "def show_data(data):\n",
    "    rows = []\n",
    "    def td(x):\n",
    "        return \"<td>\" + str(x) + \"</td>\"\n",
    "    for a, b, c, n in data[:100]:\n",
    "        rows.append(td(a) + td(b) + td(c) + td(n))\n",
    "        # print(a, \",\", b, \",\", c, \":\", n)\n",
    "    html = '<table border=\"1\" style=\"border-collapse: collapse\">' + \"\".join(\"<tr>\" + row + \"</tr>\" for row in rows) + \"</table>\"\n",
    "    display(widgets.HTML(value=html))\n",
    "\n",
    "interactive_multi_sort(data, [\n",
    "    ('Big dim', lambda d: -d[0]),\n",
    "    ('medium dim', lambda d: -d[1]),\n",
    "    ('small dim', lambda d: -d[2]),\n",
    "], show_data)\n",
    "\n",
    "display(widgets.HTML(\n",
    "    value='<a target=\"_blank\" href=\"https://github.com/eclipse/eclipse.jdt.core/blob/master/org.eclipse.jdt.apt.core/src/org/eclipse/jdt/apt/core/internal/generatedfile/GeneratedSourceFolderManager.java\">F1</a> <b>World</b>',\n",
    "    description='Some HTML',\n",
    "))"
   ]
  },
  {
   "cell_type": "code",
   "execution_count": null,
   "id": "attended-current",
   "metadata": {},
   "outputs": [],
   "source": []
  },
  {
   "cell_type": "code",
   "execution_count": null,
   "id": "derived-contribution",
   "metadata": {},
   "outputs": [],
   "source": []
  }
 ],
 "metadata": {
  "kernelspec": {
   "display_name": "Python 3",
   "language": "python",
   "name": "python3"
  },
  "language_info": {
   "codemirror_mode": {
    "name": "ipython",
    "version": 3
   },
   "file_extension": ".py",
   "mimetype": "text/x-python",
   "name": "python",
   "nbconvert_exporter": "python",
   "pygments_lexer": "ipython3",
   "version": "3.7.9"
  }
 },
 "nbformat": 4,
 "nbformat_minor": 5
}
