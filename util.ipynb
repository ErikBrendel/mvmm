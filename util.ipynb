{
 "cells": [
  {
   "cell_type": "code",
   "execution_count": 26,
   "metadata": {},
   "outputs": [],
   "source": [
    "from tqdm.notebook import tqdm as log_progress\n",
    "# https://github.com/kuk/log-progress\n",
    "# https://github.com/tqdm/tqdm/blob/master/tqdm/notebook.py\n",
    "# https://github.com/tqdm/tqdm/blob/master/tqdm/std.py"
   ]
  },
  {
   "cell_type": "code",
   "execution_count": 27,
   "metadata": {},
   "outputs": [],
   "source": [
    "#print(\"loading stuff\")\n",
    "#for x in log_progress(list(range(1000)), desc=\"Awesome\"):\n",
    "#    for i in range(2000):\n",
    "#        i = x*x*x*x*x*x*x*x*x*x*x*x*x\n",
    "#print(\"done!\")\n",
    "#bar = log_progress(total=2000, desc=\"Parallel stuff\")\n",
    "#for _ in range(1900):\n",
    "#    for i in range(2000):\n",
    "#        i = x*x*x*x*x*x*x*x*x*x*x*x*x\n",
    "#    bar.update()\n",
    "#bar.close()\n",
    "#print(\"done! 4real\")"
   ]
  },
  {
   "cell_type": "code",
   "execution_count": null,
   "metadata": {},
   "outputs": [],
   "source": []
  }
 ],
 "metadata": {
  "kernelspec": {
   "display_name": "Python 3",
   "language": "python",
   "name": "python3"
  },
  "language_info": {
   "codemirror_mode": {
    "name": "ipython",
    "version": 3
   },
   "file_extension": ".py",
   "mimetype": "text/x-python",
   "name": "python",
   "nbconvert_exporter": "python",
   "pygments_lexer": "ipython3",
   "version": "3.8.1"
  }
 },
 "nbformat": 4,
 "nbformat_minor": 4
}
