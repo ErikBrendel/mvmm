{
 "cells": [
  {
   "cell_type": "code",
   "execution_count": 18,
   "metadata": {},
   "outputs": [],
   "source": [
    "from git import Repo, RemoteProgress\n",
    "import os\n",
    "import subprocess"
   ]
  },
  {
   "cell_type": "code",
   "execution_count": 19,
   "metadata": {},
   "outputs": [],
   "source": [
    "REPO_URL_START = \"https://github.com/\"\n",
    "REPO_URL_END = \".git\"\n",
    "REPO_CLONE_PATH = \"../repos/\""
   ]
  },
  {
   "cell_type": "code",
   "execution_count": 20,
   "metadata": {},
   "outputs": [],
   "source": [
    "# TODO progress display: https://stackoverflow.com/questions/38861829/how-do-i-implement-a-progress-bar"
   ]
  },
  {
   "cell_type": "code",
   "execution_count": 23,
   "metadata": {},
   "outputs": [],
   "source": [
    "# https://gitpython.readthedocs.io/en/stable/reference.html\n",
    "class LocalRepo:\n",
    "    def __init__(self, name):\n",
    "        self.name = name\n",
    "        \n",
    "    def update(self):\n",
    "        if not self.is_cloned():\n",
    "            print(\"cloning \" + self.name + \", this may take a while...\")\n",
    "            self.clone()\n",
    "        else:\n",
    "            print(\"updating \" + self.name + \"...\")\n",
    "            self.pull()\n",
    "        print(\"Repo is up to date!\")\n",
    "    \n",
    "    def pull(self):\n",
    "        # https://github.com/gitpython-developers/GitPython/issues/296#issuecomment-449769231\n",
    "        Repo(self.path()).remote().fetch(\"+refs/heads/*:refs/heads/*\")\n",
    "    \n",
    "    def clone(self):\n",
    "        Repo.clone_from(self.url(), self.path(), None, None, [\"--bare\"])\n",
    "    \n",
    "    def is_cloned(self):\n",
    "        return os.path.isdir(self.path())\n",
    "    \n",
    "    def path(self):\n",
    "        return REPO_CLONE_PATH + self.name\n",
    "    \n",
    "    def url(self):\n",
    "        return REPO_URL_START + self.name + REPO_URL_END\n",
    "    \n",
    "    def type_extension(self):\n",
    "        return \"java\" # return the file extension that the files of your language have\n",
    "    \n",
    "    def get_file_objects(self):\n",
    "        ending = \".\" + self.type_extension()\n",
    "        files = []\n",
    "        for git_object in Repo(self.path()).head.commit.tree.traverse():\n",
    "            if git_object.type == \"blob\":\n",
    "                if git_object.name.endswith(ending):\n",
    "                    files.append(git_object)\n",
    "        return files\n",
    "    \n",
    "    def get_file_object_content(self, git_object):\n",
    "        return git_object.data_stream.read()\n"
   ]
  },
  {
   "cell_type": "code",
   "execution_count": null,
   "metadata": {},
   "outputs": [],
   "source": [
    "class RepoTree:\n",
    "    \n",
    "    @staticmethod\n",
    "    def init_from_repo(repo):\n",
    "        found_nodes = RepoTree(\"\")\n",
    "        files = repo.get_file_objects()\n",
    "        print(\"Analyzing \" + str(len(files)) + \" files...\")\n",
    "        for file_obj in files:\n",
    "            file = RepoFile(r, file_obj)\n",
    "            def handle(logic_path, node):\n",
    "                found_nodes.register(logic_path)\n",
    "            file.walk_tree(handle)\n",
    "        print(\"Found \" + str(found_nodes.node_count()) + \" classes, methods and fields!\")\n",
    "\n",
    "        with open(\"../debug-tree.json\", \"w\") as outfile:\n",
    "            outfile.write(found_nodes.to_json())\n",
    "    \n",
    "    def __init__(self, name):\n",
    "        self.name = name\n",
    "        self.children = {}\n",
    "    \n",
    "    def register(self, path):\n",
    "        self.register_list(path.split(\"/\"))\n",
    "        \n",
    "    def register_list(self, path_segments):\n",
    "        if len(path_segments) > 0:\n",
    "            self.get_child(path_segments[0]).register_list(path_segments[1:])\n",
    "    \n",
    "    def get_child(self, name):\n",
    "        if not name in self.children:\n",
    "            self.children[name] = RepoTree(name)\n",
    "        return self.children[name]\n",
    "    \n",
    "    def to_json(self):\n",
    "        if len(self.children) == 0:\n",
    "            return '{\"name\":\"' + self.name + '\"}'\n",
    "        else:\n",
    "            child_json = \",\".join([c.to_json() for c in self.children.values()])\n",
    "            return '{\"name\":\"' + self.name + '\",\"children\":[' + child_json + ']}'\n",
    "    \n",
    "    def node_count(self):\n",
    "        return sum([c.node_count() for c in self.children.values()]) + 1"
   ]
  }
 ],
 "metadata": {
  "kernelspec": {
   "display_name": "Python 3",
   "language": "python",
   "name": "python3"
  },
  "language_info": {
   "codemirror_mode": {
    "name": "ipython",
    "version": 3
   },
   "file_extension": ".py",
   "mimetype": "text/x-python",
   "name": "python",
   "nbconvert_exporter": "python",
   "pygments_lexer": "ipython3",
   "version": "3.8.1"
  }
 },
 "nbformat": 4,
 "nbformat_minor": 4
}
