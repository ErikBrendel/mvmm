{
 "cells": [
  {
   "cell_type": "code",
   "execution_count": null,
   "metadata": {},
   "outputs": [],
   "source": [
    "#import psycopg2\n",
    "#conn = psycopg2.connect(dbname='github', user='swa', password='squeak', port=5433)\n",
    "#cur = conn.cursor()\n",
    "#cur.execute(\"select url from ght.projects where deleted='f' and language='Java' limit 5\")\n",
    "#result = cur.fetchall()\n",
    "#repos_db = [\"/\".join(url[0].split(\"/\")[-2:]) for url in result]"
   ]
  },
  {
   "cell_type": "code",
   "execution_count": null,
   "metadata": {},
   "outputs": [],
   "source": [
    "repos_big = [\"square/okhttp\",\n",
    "            \"eclipse/che\",\n",
    "            \"apache/flink\",\n",
    "            \"apache/camel\",\n",
    "            \"elastic/elasticsearch\",\n",
    "            \"spring-projects/spring-boot\",\n",
    "            \"spring-projects/spring-framework\",\n",
    "            \"ReactiveX/RxJava\",\n",
    "            \"kdn251/interviews\",\n",
    "            \"square/retrofit\",\n",
    "            \"google/guava\",\n",
    "            \"PhilJay/MPAndroidChart\",\n",
    "            \"owncloud/android\",\n",
    "            \"nextcloud/android\",\n",
    "            \"owntracks/android\",\n",
    "            \"netty/netty\",\n",
    "            \"skylot/jadx\",\n",
    "            \"libgdx/libgdx\", # really big\n",
    "            \"chrisbanes/PhotoView\",\n",
    "            \"jenkinsci/jenkins\",\n",
    "            #\"TheAlgorithms/Java\",\n",
    "            ]"
   ]
  },
  {
   "cell_type": "code",
   "execution_count": null,
   "metadata": {},
   "outputs": [],
   "source": [
    "repos_medium = [\n",
    "            \"square/okhttp\",\n",
    "            \"eclipse/che\",\n",
    "            \"apache/flink\",\n",
    "            \"apache/camel\",\n",
    "            \"elastic/elasticsearch\",\n",
    "            \"spring-projects/spring-boot\",\n",
    "            \"spring-projects/spring-framework\",\n",
    "            \"ReactiveX/RxJava\",\n",
    "    \n",
    "]"
   ]
  },
  {
   "cell_type": "code",
   "execution_count": 1,
   "metadata": {},
   "outputs": [],
   "source": [
    "repos_small = [\n",
    "    \"square/okhttp\",\n",
    "    \"jenkinsci/jenkins\",\n",
    "    \"eclipse/che\",\n",
    "    \"elastic/elasticsearch\",\n",
    "]"
   ]
  },
  {
   "cell_type": "code",
   "execution_count": null,
   "metadata": {},
   "outputs": [],
   "source": [
    "# select which one to use here\n",
    "repos = [\"jenkinsci/jenkins\"]"
   ]
  }
 ],
 "metadata": {
  "kernelspec": {
   "display_name": "Python 3",
   "language": "python",
   "name": "python3"
  },
  "language_info": {
   "codemirror_mode": {
    "name": "ipython",
    "version": 3
   },
   "file_extension": ".py",
   "mimetype": "text/x-python",
   "name": "python",
   "nbconvert_exporter": "python",
   "pygments_lexer": "ipython3",
   "version": "3.8.1"
  }
 },
 "nbformat": 4,
 "nbformat_minor": 4
}
